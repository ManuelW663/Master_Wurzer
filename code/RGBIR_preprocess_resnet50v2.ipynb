{
 "cells": [
  {
   "cell_type": "code",
   "execution_count": 3,
   "metadata": {},
   "outputs": [],
   "source": [
    "import tensorflow as tf\n",
    "import tifffile\n",
    "\n",
    "import numpy as np\n",
    "import os\n",
    "import matplotlib.pyplot as plt\n",
    "import random\n",
    "import json\n",
    "import csv\n",
    "\n",
    "import random\n",
    "from time import time\n",
    "\n",
    "\n",
    "class CustomDataGenerator(tf.keras.utils.Sequence):\n",
    " \n",
    "    def __init__(self, batch_size, img_directory, msk_directory, shuffle= False, augment= False):\n",
    "        self.batch_size = batch_size\n",
    "        self.img_directory = img_directory\n",
    "        self.msk_directory = msk_directory\n",
    "        self.list_img_IDs = os.listdir(self.img_directory)\n",
    "        self.list_msk_IDs = os.listdir(self.msk_directory)\n",
    "        self.shuffle = shuffle\n",
    "        self.augment = augment\n",
    "\n",
    "    def augment_data(self, x, y):     \n",
    "        x_flip = x\n",
    "        y_flip = y\n",
    "\n",
    "        horiz = random.randint(0, 9)\n",
    "        if horiz <= 4:\n",
    "            x_flip = np.fliplr(x)\n",
    "            y_flip = np.fliplr(y)\n",
    "\n",
    "        vert = random.randint(0, 9)\n",
    "        if vert <= 4:\n",
    "            x_flip = np.flipud(x_flip)\n",
    "            y_flip = np.flipud(y_flip)\n",
    "        \n",
    "        return x_flip, y_flip\n",
    "\n",
    "    def __len__(self):\n",
    "\n",
    "        return len(os.listdir(self.img_directory)) // self.batch_size\n",
    "    \n",
    "    def __getitem__(self, index):\n",
    "        batch_img_IDs = self.list_img_IDs[index*self.batch_size : (index+1)*self.batch_size]\n",
    "        batch_msk_IDs = self.list_msk_IDs[index*self.batch_size : (index+1)*self.batch_size]\n",
    "\n",
    "        images = []\n",
    "        masks = []\n",
    "        for img_id, msk_id in zip(batch_img_IDs, batch_msk_IDs):\n",
    "            # read image\n",
    "            img_path = os.path.join(self.img_directory, img_id)\n",
    "            with open(img_path, 'rb') as f:\n",
    "                image = tifffile.imread(f)\n",
    "\n",
    "            image = np.moveaxis(image, 0, -1)\n",
    "            \n",
    "            ###images.append([(image[:,:,0] / 127.5) - 1, (image[:,:,1] / 127.5) - 1, (image[:,:,2] / 127.5) - 1, (image[:,:,3] / 127.5) - 1])\n",
    "\n",
    "            # read mask\n",
    "            msk_path = os.path.join(self.msk_directory, msk_id)\n",
    "            with open(msk_path, 'rb') as f:\n",
    "                mask = tifffile.imread(f)\n",
    "\n",
    "            mask = mask[:, :, np.newaxis]\n",
    "\n",
    "            if self.augment:\n",
    "                #print(\"auggi\")\n",
    "                image, mask = self.augment_data(image, mask)\n",
    "\n",
    "            images.append((image / 127.5) - 1)\n",
    "            masks.append(mask/255)\n",
    "        \n",
    "        return (np.array(images), np.array(masks))\n",
    "    \n",
    "    def on_epoch_end(self):\n",
    "        if self.shuffle:\n",
    "            a = self.list_img_IDs\n",
    "            b = self.list_msk_IDs\n",
    "\n",
    "            c = list(zip(a, b))\n",
    "\n",
    "            random.shuffle(c)\n",
    "\n",
    "            self.list_img_IDs, self.list_msk_IDs = zip(*c)\n",
    "\n",
    "def dice_coeff(y_true, y_pred):\n",
    "    smooth = 1.\n",
    "    # Flatten\n",
    "    y_true_f = tf.reshape(y_true, [-1])\n",
    "    y_pred_f = tf.reshape(y_pred, [-1])\n",
    "    intersection = tf.reduce_sum(y_true_f * y_pred_f)\n",
    "    score = (2. * intersection + smooth) / (tf.reduce_sum(y_true_f) + tf.reduce_sum(y_pred_f) + smooth)\n",
    "    return score\n",
    "\n",
    "def dice_loss(y_true, y_pred):\n",
    "    loss = 1 - dice_coeff(y_true, y_pred)\n",
    "    return loss\n",
    "\n",
    "\n",
    "def reverse_scaling(image):\n",
    "    return (((image + 1) / 2 )* 255).astype(np.uint8)\n",
    "\n",
    "def load_model(model_type):\n",
    "    model_dict = {\n",
    "        'BN': './model_config_files/conf.json',\n",
    "        'CONV': './model_config_files/conf_RGB_addConv3.json',\n",
    "        'SPLIT': './model_config_files/conf_splitRGB.json'\n",
    "        }\n",
    "\n",
    "    path = model_dict[model_type]\n",
    "\n",
    "    with open(path, 'r', encoding='utf-8') as f:\n",
    "        new_conf = json.load(f)\n",
    "\n",
    "    unet = tf.keras.Model().from_config(new_conf)\n",
    "\n",
    "    # Wo die shape der Gewichte des Layers es zulässt, werden immer die selben zufällig initialisierten Gewichte verwendet\n",
    "    random_path = './saved_weights/unet_resnet50v2_random.npy'\n",
    "\n",
    "    if model_type == 'BN':\n",
    "        loaded_weights = np.load(random_path, allow_pickle= True)\n",
    "        unet.set_weights(loaded_weights)\n",
    "\n",
    "\n",
    "    elif model_type == 'CONV':\n",
    "        # zufällige Gewichte des neu erstellten U-Nets\n",
    "        unet_weights = unet.get_weights()\n",
    "\n",
    "        # gespeicherte zufällige Gewichte für den einheitlichen Decoder-Teil des U-Nets\n",
    "        loaded_weights = np.load(random_path, allow_pickle= True)\n",
    "\n",
    "        # Leere Liste für neue Gewichte\n",
    "        updated_weights = []\n",
    "\n",
    "        # kernel und bias Gewichte des zusätzlichen Convolution-layer\n",
    "        for i in range(2):\n",
    "            updated_weights.append(unet_weights[i])\n",
    "\n",
    "        # einfügen aller weiteren Gewichte\n",
    "        for unet_w, loaded_w in zip(unet_weights[2:], loaded_weights):\n",
    "            # für den 2. Convolution-layer passt die shape nicht, bleibt daher unberührt\n",
    "            if unet_w.shape != loaded_w.shape:\n",
    "                updated_weights.append(unet_w)\n",
    "\n",
    "            # alle anderen werden durch die geladenen ersetzt\n",
    "            else:\n",
    "                updated_weights.append(loaded_w)\n",
    "\n",
    "        # Einsetzen der aktualisierten Gewichte\n",
    "        unet.set_weights(updated_weights)\n",
    "\n",
    "    elif model_type == 'SPLIT':\n",
    "        # zufällige Gewichte des neu erstellten U-Nets\n",
    "        unet_weights = unet.get_weights()\n",
    "\n",
    "        # gespeicherte zufällige Gewichte für den einheitlichen Decoder-Teil des U-Nets\n",
    "        loaded_weights = np.load(random_path, allow_pickle= True)\n",
    "\n",
    "        # Leere Liste für neue Gewichte\n",
    "        updated_weights = []\n",
    "\n",
    "        # kernel und bias Gewichte des zusätzlichen Convolution-layer\n",
    "        for i in range(4):\n",
    "            updated_weights.append(unet_weights[i])\n",
    "\n",
    "        # einfügen aller weiteren Gewichte\n",
    "        for unet_w, loaded_w in zip(unet_weights[4:], loaded_weights[2:]):\n",
    "            # für den 2. Convolution-layer passt die shape nicht, bleibt daher unberührt\n",
    "            if unet_w.shape != loaded_w.shape:\n",
    "                updated_weights.append(unet_w)\n",
    "\n",
    "            # alle anderen werden durch die geladenen ersetzt\n",
    "            else:\n",
    "                updated_weights.append(loaded_w)\n",
    "\n",
    "        # Einsetzen der aktualisierten Gewichte\n",
    "        unet.set_weights(updated_weights)\n",
    "\n",
    "\n",
    "    return unet\n",
    "\n",
    "def set_dropout(unet, rgb_drop, ir_drop):\n",
    "    rgb_names = ['dropout_r', 'dropout_g', 'dropout_b']\n",
    "    ir_name = 'dropout_ir'\n",
    "\n",
    "    for layer in unet.layers:\n",
    "        if layer.name in rgb_names:\n",
    "            layer.rate = rgb_drop\n",
    "\n",
    "        if layer.name in ir_name:\n",
    "            layer.rate = ir_drop\n",
    "\n",
    "    #for layer in unet.layers:\n",
    "        #if layer.name in rgb_names or layer.name in ir_name:\n",
    "            #print(layer.name, \" Dropout rate: \", layer.rate)\n",
    "        \n",
    "def set_weight_decay(unet, l1, l2):\n",
    "    regularizer = tf.keras.regularizers.L1L2(l1= l1, l2= l2)\n",
    "\n",
    "    for layer in unet.layers:\n",
    "            if isinstance(layer, tf.keras.layers.Conv2D):\n",
    "                layer.kernel_regularizer = regularizer\n",
    "\n",
    "    #for layer in unet.layers:\n",
    "            #if isinstance(layer, tf.keras.layers.Conv2D):\n",
    "                #print(layer.kernel_regularizer)\n",
    "\n",
    "def mean_of_RGB_weights(weights):\n",
    "  # Mittelwert entlang der Kanal-Achse (=-2)\n",
    "  mean_weights = np.mean(weights, axis=-2).reshape(weights[:,:,-1:,:].shape)\n",
    "  # Squeeze um Kanalachse = 1 zu kollabieren\n",
    "  mean_weights = np.squeeze(mean_weights, axis= -2)\n",
    "  return(mean_weights)\n",
    "  \n",
    "def set_pretrained_weights(unet, option):\n",
    "    unet = unet\n",
    "    unet_weights = unet.get_weights()\n",
    "\n",
    "    # Laden der Gewichte des vortrainierten ResNet aus Keras\n",
    "    RGB_weights_path = './saved_weights/orig_resnet50v2_imagenet_weights.npy'\n",
    "    saved_weights = np.load(RGB_weights_path, allow_pickle= True)\n",
    "\n",
    "    # Abschneiden der Classifier-Gewichte\n",
    "    saved_weights = saved_weights[:-2]\n",
    "\n",
    "\n",
    "    # Übernehmen der RGB Gewichte für 1. Convolution-layer, IR Gewichte Mittelwert aus RGB\n",
    "    if option == 'AVG':\n",
    "        # Gewichte setzen für den Encoder-Teil:\n",
    "        for i, layer in enumerate(unet_weights):\n",
    "            # Ende des Encoder-Teils\n",
    "            if i == len(saved_weights):\n",
    "                break\n",
    "            \n",
    "            # 1. Conv-layer ist i=0\n",
    "            if i == 0:\n",
    "                layer[:,:, 3, :] = mean_of_RGB_weights(saved_weights[i])\n",
    "                layer[:,:, 0:3, :] = saved_weights[i][...]\n",
    "\n",
    "            # alle anderen Gewichte können übernommen werden\n",
    "            else:\n",
    "                layer[...] = saved_weights[i][...]\n",
    "                \n",
    "        # Einsetzen der aktualisierten Gewichte\n",
    "        unet.set_weights(unet_weights)\n",
    "\n",
    "\n",
    "    # Übernehmen der RGB Gewichte für 1. Convolution-layer, IR Gewichte zufällig\n",
    "    if option == 'RNDM':\n",
    "        # Leere Liste für aktualisierte Gewichte\n",
    "        updated_weights = []\n",
    "\n",
    "        # Iterieren über geladene Gewichte und zufällige\n",
    "        for unet_w, loaded_w in zip(unet_weights, saved_weights):\n",
    "            # Für 1. Conv-Layer stimmt shape nicht überein\n",
    "            if (unet_w.shape != loaded_w.shape):\n",
    "                new_weights = unet_w\n",
    "                # Gewichte für RGB-Channel werden übernommen, IR bleibt wie er ist\n",
    "                new_weights[:,:, 0:3, :] = loaded_w\n",
    "                updated_weights.append(new_weights)\n",
    "\n",
    "            # alle anderen shapes stimmen überein und können übernommen werden\n",
    "            else:\n",
    "                updated_weights.append(loaded_w)\n",
    "\n",
    "        # hinzufügen der zufälligen Gewichte des Decoder-parts\n",
    "        for unet_w in unet_weights[len(saved_weights):]:\n",
    "            updated_weights.append(unet_w)\n",
    "\n",
    "        # Einsetzen der aktualisierten Gewichte\n",
    "        unet.set_weights(updated_weights)\n",
    "\n",
    "\n",
    "    # Zusätzlicher Convolution-Layer vor Encoder\n",
    "    if option == 'RGB':\n",
    "        # Gewichte setzen für den Encoder-Teil:\n",
    "        # Beginn ab i=2 durch eingeschobenen Conv-Layer, bis Bottleneck i=269+2\n",
    "        for i, layer in enumerate(unet_weights):\n",
    "            if 2 <= i <= 269+2:\n",
    "                layer[...] = saved_weights[i-2][...]\n",
    "                \n",
    "        # Einsetzen der aktualisierten Gewichte\n",
    "        unet.set_weights(unet_weights)\n",
    "\n",
    "\n",
    "    # seperate Convolution Layer für RGB und IR\n",
    "    if option == 'RGB_SPLIT':\n",
    "        loaded = np.load('./saved_weights/orig_resnet50v2_imagenet_weight_paths.npy', allow_pickle= True)\n",
    "        loaded = loaded[()]\n",
    "\n",
    "        # Leere Liste für aktualisierte Gewichte\n",
    "        updated_weights = []\n",
    "\n",
    "        # Liste mit Layernamen die später übersprungen werden\n",
    "        skip_BN = ['conv2_block1_preact_bn.gamma', 'conv2_block1_preact_bn.beta', 'conv2_block1_preact_bn.moving_mean', 'conv2_block1_preact_bn.moving_variance']\n",
    "\n",
    "        # Iteriere über Layer des Modells\n",
    "        for l in unet.layers:\n",
    "            # Falls Gewichte vorhanden für diesen Layer, iteriere über diese   \n",
    "            if (len(l.weights) > 0):\n",
    "                for w in l.weights:\n",
    "                    try:\n",
    "                        # standardisieren der Layernamen aus layer.weigths und model.get_weigths\n",
    "                        w_name = w.name.replace('/', '.')[:-2]\n",
    "                        # durch die beiden Convolutional-Layer verdoppelt sich auch die Anzahl der BN-Gewichte, diese können daher nicht übernommen werden\n",
    "                        if w_name in skip_BN:\n",
    "                            updated_weights.append(w)\n",
    "                            #print(w.name, \"not replaced\")\n",
    "\n",
    "                        # für die übrigen Layer werden die Gewichte übernommen, sofern der Layername im Dict vorhanden ist                                    \n",
    "                        else:\n",
    "                            updated_weights.append(loaded[w_name])\n",
    "                            #print(w.name, 'replaced')\n",
    "\n",
    "                    # ansonsten kommt es zu einer Fehlermeldung und es bleibt es bei den zufälligen Gewichten\n",
    "                    except KeyError as e:\n",
    "                        updated_weights.append(w)\n",
    "                        #print(w.name, \"not replaced\")\n",
    "\n",
    "        # Einsetzen der aktualisierten Gewichte\n",
    "        unet.set_weights(updated_weights)\n",
    "\n",
    "\n",
    "def set_encoder_frozen(unet, pretrained_weights, train_first_layer= False):\n",
    "    unet.trainable = True\n",
    "\n",
    "    # Falls RGB und IR in seperaten Conv-Layern wird RGB immer eingefroren, IR nicht\n",
    "    if pretrained_weights == 'AVG' or pretrained_weights == 'RNDM':\n",
    "\n",
    "        for layer in unet.layers:\n",
    "            # erster Layer des Decoder-parts, ab hier trainierbar\n",
    "            if layer.name == 'up_sampling2d':\n",
    "                break\n",
    "            \n",
    "            # erster Convolution-Layer trainierbar?\n",
    "            if train_first_layer and layer.name == 'conv1_conv':\n",
    "                # \"trainable\" reguliert ob Gewichte bei back prop angepasst werden\n",
    "                layer.trainable = True\n",
    "                continue\n",
    "\n",
    "            # \"trainable\" reguliert ob Gewichte bei back prop angepasst werden\n",
    "            layer.trainable = False        \n",
    "\n",
    "            # \"training\" reguliert ob BN Gewichte beim forward pass geändert werden\n",
    "            if isinstance(layer, tf.keras.layers.BatchNormalization):\n",
    "                layer.training = False\n",
    "\n",
    "\n",
    "    if pretrained_weights == 'EXTRA_CONV':\n",
    "\n",
    "        for layer in unet.layers:\n",
    "            # erster Layer des Decoder-parts, ab hier trainierbar\n",
    "            if layer.name == 'up_sampling2d':\n",
    "                break\n",
    "            \n",
    "            # erster Convolution-Layer trainierbar?\n",
    "            if layer.name == 'conv0_conv':\n",
    "                # \"trainable\" reguliert ob Gewichte bei back prop angepasst werden\n",
    "                layer.trainable = True\n",
    "                continue\n",
    "\n",
    "            # \"trainable\" reguliert ob Gewichte bei back prop angepasst werden\n",
    "            layer.trainable = False        \n",
    "\n",
    "            # \"training\" reguliert ob BN Gewichte beim forward pass geändert werden\n",
    "            if isinstance(layer, tf.keras.layers.BatchNormalization):\n",
    "                layer.training = False\n",
    "\n",
    "\n",
    "\n",
    "    if pretrained_weights == 'RGB_SPLIT':\n",
    "\n",
    "        for layer in unet.layers:\n",
    "            # erster Layer des Decoder-parts, ab hier trainierbar\n",
    "            if layer.name == 'up_sampling2d':\n",
    "                break\n",
    "            \n",
    "            # erster Convolution-Layer trainierbar?\n",
    "            if layer.name == 'conv1_conv_ir':\n",
    "                # \"trainable\" reguliert ob Gewichte bei back prop angepasst werden\n",
    "                layer.trainable = True\n",
    "                continue\n",
    "\n",
    "            # \"trainable\" reguliert ob Gewichte bei back prop angepasst werden\n",
    "            layer.trainable = False        \n",
    "\n",
    "            # \"training\" reguliert ob BN Gewichte beim forward pass geändert werden\n",
    "            if isinstance(layer, tf.keras.layers.BatchNormalization):\n",
    "                layer.training = False\n",
    "\n",
    "            # beim Split sind für erstes BN keine Gewichte vorhanden, daher trainierbar und Einfrieren danach\n",
    "            if layer.name == 'conv2_block1_preact_bn':\n",
    "                layer.training = True\n",
    "                #freeze_start = True\n",
    "                continue\n",
    "\n",
    "\n",
    "\n",
    "def set_trainable_fine_tuning(unet, pretrained_weights, train_first_layer= False):\n",
    "\n",
    "    # Anzahl der trainierbaren Encoder Layer, durch Versuchsreihe bestimmt\n",
    "    train_encoder_layers= 27\n",
    "\n",
    "    # Encoder bleibt größtenteils eingefroren\n",
    "    set_encoder_frozen(unet, pretrained_weights, train_first_layer)\n",
    "\n",
    "    # Falls RGB und IR in seperaten Conv-Layern wird RGB immer eingefroren, IR nicht\n",
    "    #if pretrained_weights in ['AVG', 'RNDM']:\n",
    "\n",
    "    # Für das Fine-Tuning werden Top_layer des Encoder-Parts wieder trainable geschaltet\n",
    "    freeze_encoder = False\n",
    "    countdown = int(train_encoder_layers)\n",
    "    \n",
    "    # dafür werden die Layer jetzt rückwärts durchlaufen\n",
    "    for layer in reversed(unet.layers):\n",
    "        # ab dem Bottleneck beginnt der Encoder-part\n",
    "        if layer.name == 'up_sampling2d':\n",
    "            freeze_encoder = True\n",
    "\n",
    "        # für train_encoder_layers (int) werden Layer trainierbar\n",
    "        if freeze_encoder and countdown >= 0:\n",
    "            # \"trainable\" reguliert ob Gewichte bei back prop angepasst werden\n",
    "            layer.trainable = True        \n",
    "\n",
    "            # \"training\" reguliert ob BN Gewichte beim forward pass geändert werden\n",
    "            if isinstance(layer, tf.keras.layers.BatchNormalization):\n",
    "                layer.training = False\n",
    "\n",
    "            countdown -= 1\n",
    "\n",
    "\n",
    "def compile_model(unet, learning_rate):\n",
    "    optimizer = tf.keras.optimizers.Adam(learning_rate= learning_rate)\n",
    "\n",
    "    #loss = tf.keras.losses.BinaryFocalCrossentropy(gamma= 2.0, name= 'binary_focal_crossentropy')\n",
    "    loss = dice_loss\n",
    "\n",
    "    binary_iou = tf.keras.metrics.BinaryIoU(name='binary_iou', threshold=0.5),\n",
    "    metrics = [\n",
    "        'accuracy',\n",
    "        binary_iou,\n",
    "        tf.keras.metrics.TruePositives(name='true_positives'),\n",
    "        tf.keras.metrics.FalsePositives(name='false_positives'),\n",
    "        tf.keras.metrics.TrueNegatives(name='true_negatives'),\n",
    "        tf.keras.metrics.FalseNegatives(name='false_negatives'),\n",
    "        tf.keras.metrics.Precision(name='precision'),\n",
    "        tf.keras.metrics.Recall(name='recall')\n",
    "    ]\n",
    "\n",
    "    unet.compile(optimizer= optimizer, loss= loss, metrics= metrics)\n",
    "\n",
    "\n",
    "def get_callbacks(model_name, saving_location):\n",
    "    #model_name = f'testlauf_fine_tune_first_layer{train_first_layer}'\n",
    "\n",
    "    checkpoint_path = f'../output/{saving_location}_checkpoints/{model_name}'\n",
    "    logger_path = f'../output/{saving_location}_logger/{model_name}'\n",
    "\n",
    "    if not os.path.isdir(checkpoint_path):\n",
    "        os.makedirs(checkpoint_path)\n",
    "\n",
    "    if not os.path.isdir(logger_path):\n",
    "        os.makedirs(logger_path)\n",
    "\n",
    "    checkpoint_callback = tf.keras.callbacks.ModelCheckpoint(\n",
    "        filepath=checkpoint_path,\n",
    "        monitor='val_binary_iou',\n",
    "        mode= 'max',\n",
    "        save_weights_only=False,\n",
    "        save_best_only=True)\n",
    "\n",
    "    history_logger = tf.keras.callbacks.CSVLogger(logger_path + '.log')\n",
    "\n",
    "    callbacks = [checkpoint_callback, history_logger]\n",
    "\n",
    "    return callbacks\n",
    "\n",
    "    "
   ]
  },
  {
   "attachments": {},
   "cell_type": "markdown",
   "metadata": {},
   "source": [
    "### Versuchsreihe Freeze-From"
   ]
  },
  {
   "cell_type": "code",
   "execution_count": 7,
   "metadata": {},
   "outputs": [
    {
     "name": "stdout",
     "output_type": "stream",
     "text": [
      "182\n",
      "181\n",
      "180\n",
      "179\n",
      "178\n",
      "177\n",
      "176\n",
      "175\n",
      "174\n",
      "173\n",
      "172\n",
      "171\n",
      "170\n",
      "169\n",
      "168\n",
      "167\n",
      "166\n",
      "165\n",
      "164\n",
      "163\n",
      "162\n",
      "161\n",
      "160\n",
      "159\n",
      "158\n",
      "157\n",
      "156\n",
      "155\n",
      "154\n",
      "153\n",
      "152\n",
      "151\n",
      "150\n",
      "149\n",
      "148\n",
      "147\n",
      "146\n",
      "145\n",
      "144\n",
      "143\n",
      "142\n",
      "141\n",
      "140\n",
      "139\n",
      "138\n",
      "137\n",
      "136\n",
      "135\n",
      "134\n",
      "133\n",
      "132\n",
      "131\n",
      "130\n",
      "129\n",
      "128\n",
      "127\n",
      "126\n",
      "125\n",
      "124\n",
      "123\n",
      "122\n",
      "121\n",
      "120\n",
      "119\n",
      "118\n",
      "117\n",
      "116\n",
      "115\n",
      "114\n",
      "113\n",
      "112\n",
      "111\n",
      "110\n",
      "109\n",
      "108\n",
      "107\n",
      "106\n",
      "105\n",
      "104\n",
      "103\n",
      "102\n",
      "101\n",
      "100\n",
      "99\n",
      "98\n",
      "97\n",
      "96\n",
      "95\n",
      "94\n",
      "93\n",
      "92\n",
      "91\n",
      "90\n",
      "89\n",
      "88\n",
      "87\n",
      "86\n",
      "85\n",
      "84\n",
      "83\n",
      "82\n",
      "81\n",
      "80\n",
      "79\n",
      "78\n",
      "77\n",
      "76\n",
      "75\n",
      "74\n",
      "73\n",
      "72\n",
      "71\n",
      "70\n",
      "69\n",
      "68\n",
      "67\n",
      "66\n",
      "65\n",
      "64\n",
      "63\n",
      "62\n",
      "61\n",
      "60\n",
      "59\n",
      "58\n",
      "57\n",
      "56\n",
      "55\n",
      "54\n",
      "53\n",
      "52\n",
      "51\n",
      "50\n",
      "49\n",
      "48\n",
      "47\n",
      "46\n",
      "45\n",
      "44\n",
      "43\n",
      "42\n",
      "41\n",
      "40\n",
      "39\n",
      "38\n",
      "37\n",
      "36\n",
      "35\n",
      "34\n",
      "33\n",
      "32\n",
      "31\n",
      "30\n",
      "29\n",
      "28\n",
      "27\n",
      "26\n",
      "25\n",
      "24\n",
      "23\n",
      "22\n",
      "21\n",
      "20\n",
      "19\n",
      "18\n",
      "17\n",
      "16\n",
      "15\n",
      "14\n",
      "13\n",
      "12\n",
      "11\n",
      "10\n",
      "9\n",
      "8\n",
      "7\n",
      "6\n",
      "5\n",
      "4\n",
      "3\n",
      "2\n",
      "1\n",
      "0\n",
      "-1\n",
      "Epoch 1/100\n",
      "398/398 [==============================] - ETA: 0s - loss: 0.1210 - accuracy: 0.7791 - binary_iou: 0.6300 - true_positives: 95432864.0000 - false_positives: 35058872.0000 - true_negatives: 153517664.0000 - false_negatives: 35511420.0000 - precision: 0.7313 - recall: 0.7288"
     ]
    },
    {
     "name": "stderr",
     "output_type": "stream",
     "text": [
      "WARNING:absl:Found untraced functions such as _jit_compiled_convolution_op, _jit_compiled_convolution_op, _jit_compiled_convolution_op, _jit_compiled_convolution_op, _jit_compiled_convolution_op while saving (showing 5 of 64). These functions will not be directly callable after loading.\n"
     ]
    },
    {
     "name": "stdout",
     "output_type": "stream",
     "text": [
      "INFO:tensorflow:Assets written to: ../saved_model_FT_test\\FT_test_AVG_no_of_frozen_layers_183_e100\\assets\n"
     ]
    },
    {
     "name": "stderr",
     "output_type": "stream",
     "text": [
      "INFO:tensorflow:Assets written to: ../saved_model_FT_test\\FT_test_AVG_no_of_frozen_layers_183_e100\\assets\n"
     ]
    },
    {
     "name": "stdout",
     "output_type": "stream",
     "text": [
      "398/398 [==============================] - 233s 546ms/step - loss: 0.1210 - accuracy: 0.7791 - binary_iou: 0.6300 - true_positives: 95432864.0000 - false_positives: 35058872.0000 - true_negatives: 153517664.0000 - false_negatives: 35511420.0000 - precision: 0.7313 - recall: 0.7288 - val_loss: 0.1324 - val_accuracy: 0.7237 - val_binary_iou: 0.5219 - val_true_positives: 17575076.0000 - val_false_positives: 1821869.0000 - val_true_negatives: 59114264.0000 - val_false_negatives: 27460492.0000 - val_precision: 0.9061 - val_recall: 0.3902\n",
      "Epoch 2/100\n",
      "398/398 [==============================] - 136s 341ms/step - loss: 0.1008 - accuracy: 0.8260 - binary_iou: 0.6955 - true_positives: 101502720.0000 - false_positives: 25956264.0000 - true_negatives: 162417888.0000 - false_negatives: 29643882.0000 - precision: 0.7964 - recall: 0.7740 - val_loss: 0.3162 - val_accuracy: 0.5801 - val_binary_iou: 0.2986 - val_true_positives: 944899.0000 - val_false_positives: 370912.0000 - val_true_negatives: 60533532.0000 - val_false_negatives: 44122376.0000 - val_precision: 0.7181 - val_recall: 0.0210\n",
      "Epoch 3/100\n",
      "398/398 [==============================] - ETA: 0s - loss: 0.0977 - accuracy: 0.8331 - binary_iou: 0.7060 - true_positives: 102678080.0000 - false_positives: 24950844.0000 - true_negatives: 163498944.0000 - false_negatives: 28392818.0000 - precision: 0.8045 - recall: 0.7834"
     ]
    },
    {
     "name": "stderr",
     "output_type": "stream",
     "text": [
      "WARNING:absl:Found untraced functions such as _jit_compiled_convolution_op, _jit_compiled_convolution_op, _jit_compiled_convolution_op, _jit_compiled_convolution_op, _jit_compiled_convolution_op while saving (showing 5 of 64). These functions will not be directly callable after loading.\n"
     ]
    },
    {
     "name": "stdout",
     "output_type": "stream",
     "text": [
      "INFO:tensorflow:Assets written to: ../saved_model_FT_test\\FT_test_AVG_no_of_frozen_layers_183_e100\\assets\n"
     ]
    },
    {
     "name": "stderr",
     "output_type": "stream",
     "text": [
      "INFO:tensorflow:Assets written to: ../saved_model_FT_test\\FT_test_AVG_no_of_frozen_layers_183_e100\\assets\n"
     ]
    },
    {
     "name": "stdout",
     "output_type": "stream",
     "text": [
      "398/398 [==============================] - 177s 444ms/step - loss: 0.0977 - accuracy: 0.8331 - binary_iou: 0.7060 - true_positives: 102678080.0000 - false_positives: 24950844.0000 - true_negatives: 163498944.0000 - false_negatives: 28392818.0000 - precision: 0.8045 - recall: 0.7834 - val_loss: 0.1000 - val_accuracy: 0.8302 - val_binary_iou: 0.6984 - val_true_positives: 31970022.0000 - val_false_positives: 4808101.0000 - val_true_negatives: 56008240.0000 - val_false_negatives: 13185362.0000 - val_precision: 0.8693 - val_recall: 0.7080\n",
      "Epoch 4/100\n",
      "398/398 [==============================] - 137s 343ms/step - loss: 0.0970 - accuracy: 0.8354 - binary_iou: 0.7095 - true_positives: 102972568.0000 - false_positives: 24451394.0000 - true_negatives: 163957824.0000 - false_negatives: 28139152.0000 - precision: 0.8081 - recall: 0.7854 - val_loss: 0.1056 - val_accuracy: 0.8190 - val_binary_iou: 0.6918 - val_true_positives: 38703920.0000 - val_false_positives: 12815742.0000 - val_true_negatives: 48088272.0000 - val_false_negatives: 6363783.0000 - val_precision: 0.7512 - val_recall: 0.8588\n",
      "Epoch 5/100\n",
      "398/398 [==============================] - 138s 346ms/step - loss: 0.0961 - accuracy: 0.8378 - binary_iou: 0.7132 - true_positives: 103382480.0000 - false_positives: 24086258.0000 - true_negatives: 164319424.0000 - false_negatives: 27732654.0000 - precision: 0.8110 - recall: 0.7885 - val_loss: 0.1097 - val_accuracy: 0.8059 - val_binary_iou: 0.6742 - val_true_positives: 39755736.0000 - val_false_positives: 15181283.0000 - val_true_negatives: 45644488.0000 - val_false_negatives: 5390192.0000 - val_precision: 0.7237 - val_recall: 0.8806\n",
      "Epoch 6/100\n",
      "398/398 [==============================] - 138s 345ms/step - loss: 0.0937 - accuracy: 0.8421 - binary_iou: 0.7197 - true_positives: 104078240.0000 - false_positives: 23499364.0000 - true_negatives: 164992912.0000 - false_negatives: 26950208.0000 - precision: 0.8158 - recall: 0.7943 - val_loss: 0.1153 - val_accuracy: 0.7939 - val_binary_iou: 0.6582 - val_true_positives: 41479488.0000 - val_false_positives: 18216578.0000 - val_true_negatives: 42647984.0000 - val_false_negatives: 3627668.0000 - val_precision: 0.6948 - val_recall: 0.9196\n",
      "Epoch 7/100\n",
      "398/398 [==============================] - 139s 349ms/step - loss: 0.0933 - accuracy: 0.8443 - binary_iou: 0.7231 - true_positives: 104509376.0000 - false_positives: 23135430.0000 - true_negatives: 165270080.0000 - false_negatives: 26605972.0000 - precision: 0.8188 - recall: 0.7971 - val_loss: 0.1052 - val_accuracy: 0.8228 - val_binary_iou: 0.6981 - val_true_positives: 40455752.0000 - val_false_positives: 14088869.0000 - val_true_negatives: 46733252.0000 - val_false_negatives: 4693854.0000 - val_precision: 0.7417 - val_recall: 0.8960\n",
      "Epoch 8/100\n",
      "398/398 [==============================] - ETA: 0s - loss: 0.0915 - accuracy: 0.8489 - binary_iou: 0.7301 - true_positives: 105247752.0000 - false_positives: 22374920.0000 - true_negatives: 165985184.0000 - false_negatives: 25912952.0000 - precision: 0.8247 - recall: 0.8024"
     ]
    },
    {
     "name": "stderr",
     "output_type": "stream",
     "text": [
      "WARNING:absl:Found untraced functions such as _jit_compiled_convolution_op, _jit_compiled_convolution_op, _jit_compiled_convolution_op, _jit_compiled_convolution_op, _jit_compiled_convolution_op while saving (showing 5 of 64). These functions will not be directly callable after loading.\n"
     ]
    },
    {
     "name": "stdout",
     "output_type": "stream",
     "text": [
      "INFO:tensorflow:Assets written to: ../saved_model_FT_test\\FT_test_AVG_no_of_frozen_layers_183_e100\\assets\n"
     ]
    },
    {
     "name": "stderr",
     "output_type": "stream",
     "text": [
      "INFO:tensorflow:Assets written to: ../saved_model_FT_test\\FT_test_AVG_no_of_frozen_layers_183_e100\\assets\n"
     ]
    },
    {
     "name": "stdout",
     "output_type": "stream",
     "text": [
      "398/398 [==============================] - 175s 441ms/step - loss: 0.0915 - accuracy: 0.8489 - binary_iou: 0.7301 - true_positives: 105247752.0000 - false_positives: 22374920.0000 - true_negatives: 165985184.0000 - false_negatives: 25912952.0000 - precision: 0.8247 - recall: 0.8024 - val_loss: 0.0954 - val_accuracy: 0.8371 - val_binary_iou: 0.7186 - val_true_positives: 40248520.0000 - val_false_positives: 12413144.0000 - val_true_negatives: 48463540.0000 - val_false_negatives: 4846510.0000 - val_precision: 0.7643 - val_recall: 0.8925\n",
      "Epoch 9/100\n",
      "398/398 [==============================] - 132s 332ms/step - loss: 0.0901 - accuracy: 0.8508 - binary_iou: 0.7330 - true_positives: 105533640.0000 - false_positives: 22092700.0000 - true_negatives: 166309040.0000 - false_negatives: 25585432.0000 - precision: 0.8269 - recall: 0.8049 - val_loss: 0.1245 - val_accuracy: 0.7245 - val_binary_iou: 0.5193 - val_true_positives: 16856334.0000 - val_false_positives: 888026.0000 - val_true_negatives: 59925316.0000 - val_false_negatives: 28302036.0000 - val_precision: 0.9500 - val_recall: 0.3733\n",
      "Epoch 10/100\n",
      "398/398 [==============================] - 131s 329ms/step - loss: 0.0893 - accuracy: 0.8526 - binary_iou: 0.7359 - true_positives: 105886944.0000 - false_positives: 21818420.0000 - true_negatives: 166548864.0000 - false_negatives: 25266544.0000 - precision: 0.8292 - recall: 0.8074 - val_loss: 0.1029 - val_accuracy: 0.8326 - val_binary_iou: 0.7124 - val_true_positives: 40830816.0000 - val_false_positives: 13431411.0000 - val_true_negatives: 47404960.0000 - val_false_negatives: 4304522.0000 - val_precision: 0.7525 - val_recall: 0.9046\n",
      "Epoch 11/100\n",
      "398/398 [==============================] - 131s 330ms/step - loss: 0.0876 - accuracy: 0.8564 - binary_iou: 0.7417 - true_positives: 106360520.0000 - false_positives: 21117784.0000 - true_negatives: 167273232.0000 - false_negatives: 24769200.0000 - precision: 0.8343 - recall: 0.8111 - val_loss: 0.1123 - val_accuracy: 0.8113 - val_binary_iou: 0.6824 - val_true_positives: 41546704.0000 - val_false_positives: 16377837.0000 - val_true_negatives: 44430472.0000 - val_false_negatives: 3616706.0000 - val_precision: 0.7173 - val_recall: 0.9199\n",
      "Epoch 12/100\n",
      "398/398 [==============================] - 132s 331ms/step - loss: 0.0871 - accuracy: 0.8573 - binary_iou: 0.7432 - true_positives: 106628432.0000 - false_positives: 21060946.0000 - true_negatives: 167308336.0000 - false_negatives: 24523056.0000 - precision: 0.8351 - recall: 0.8130 - val_loss: 0.1330 - val_accuracy: 0.7197 - val_binary_iou: 0.5101 - val_true_positives: 16018910.0000 - val_false_positives: 714509.0000 - val_true_negatives: 60247680.0000 - val_false_negatives: 28990608.0000 - val_precision: 0.9573 - val_recall: 0.3559\n",
      "Epoch 13/100\n",
      "398/398 [==============================] - ETA: 0s - loss: 0.0856 - accuracy: 0.8597 - binary_iou: 0.7470 - true_positives: 107072760.0000 - false_positives: 20767824.0000 - true_negatives: 167630992.0000 - false_negatives: 24049344.0000 - precision: 0.8375 - recall: 0.8166"
     ]
    },
    {
     "name": "stderr",
     "output_type": "stream",
     "text": [
      "WARNING:absl:Found untraced functions such as _jit_compiled_convolution_op, _jit_compiled_convolution_op, _jit_compiled_convolution_op, _jit_compiled_convolution_op, _jit_compiled_convolution_op while saving (showing 5 of 64). These functions will not be directly callable after loading.\n"
     ]
    },
    {
     "name": "stdout",
     "output_type": "stream",
     "text": [
      "INFO:tensorflow:Assets written to: ../saved_model_FT_test\\FT_test_AVG_no_of_frozen_layers_183_e100\\assets\n"
     ]
    },
    {
     "name": "stderr",
     "output_type": "stream",
     "text": [
      "INFO:tensorflow:Assets written to: ../saved_model_FT_test\\FT_test_AVG_no_of_frozen_layers_183_e100\\assets\n"
     ]
    },
    {
     "name": "stdout",
     "output_type": "stream",
     "text": [
      "398/398 [==============================] - 166s 418ms/step - loss: 0.0856 - accuracy: 0.8597 - binary_iou: 0.7470 - true_positives: 107072760.0000 - false_positives: 20767824.0000 - true_negatives: 167630992.0000 - false_negatives: 24049344.0000 - precision: 0.8375 - recall: 0.8166 - val_loss: 0.0904 - val_accuracy: 0.8501 - val_binary_iou: 0.7374 - val_true_positives: 39858736.0000 - val_false_positives: 10601939.0000 - val_true_negatives: 50232448.0000 - val_false_negatives: 5278578.0000 - val_precision: 0.7899 - val_recall: 0.8831\n",
      "Epoch 14/100\n",
      "398/398 [==============================] - 135s 339ms/step - loss: 0.0849 - accuracy: 0.8615 - binary_iou: 0.7497 - true_positives: 107398296.0000 - false_positives: 20543202.0000 - true_negatives: 167856336.0000 - false_negatives: 23722896.0000 - precision: 0.8394 - recall: 0.8191 - val_loss: 0.1110 - val_accuracy: 0.8005 - val_binary_iou: 0.6440 - val_true_positives: 26109266.0000 - val_false_positives: 2097758.0000 - val_true_negatives: 58726144.0000 - val_false_negatives: 19038536.0000 - val_precision: 0.9256 - val_recall: 0.5783\n",
      "Epoch 15/100\n",
      "398/398 [==============================] - 131s 330ms/step - loss: 0.0847 - accuracy: 0.8615 - binary_iou: 0.7497 - true_positives: 107239304.0000 - false_positives: 20393872.0000 - true_negatives: 168027744.0000 - false_negatives: 23859782.0000 - precision: 0.8402 - recall: 0.8180 - val_loss: 0.0989 - val_accuracy: 0.8373 - val_binary_iou: 0.7068 - val_true_positives: 31232048.0000 - val_false_positives: 3293441.0000 - val_true_negatives: 57497820.0000 - val_false_negatives: 13948394.0000 - val_precision: 0.9046 - val_recall: 0.6913\n",
      "Epoch 16/100\n",
      "398/398 [==============================] - ETA: 0s - loss: 0.0836 - accuracy: 0.8641 - binary_iou: 0.7538 - true_positives: 107708280.0000 - false_positives: 20027540.0000 - true_negatives: 168384784.0000 - false_negatives: 23400352.0000 - precision: 0.8432 - recall: 0.8215"
     ]
    },
    {
     "name": "stderr",
     "output_type": "stream",
     "text": [
      "WARNING:absl:Found untraced functions such as _jit_compiled_convolution_op, _jit_compiled_convolution_op, _jit_compiled_convolution_op, _jit_compiled_convolution_op, _jit_compiled_convolution_op while saving (showing 5 of 64). These functions will not be directly callable after loading.\n"
     ]
    },
    {
     "name": "stdout",
     "output_type": "stream",
     "text": [
      "INFO:tensorflow:Assets written to: ../saved_model_FT_test\\FT_test_AVG_no_of_frozen_layers_183_e100\\assets\n"
     ]
    },
    {
     "name": "stderr",
     "output_type": "stream",
     "text": [
      "INFO:tensorflow:Assets written to: ../saved_model_FT_test\\FT_test_AVG_no_of_frozen_layers_183_e100\\assets\n"
     ]
    },
    {
     "name": "stdout",
     "output_type": "stream",
     "text": [
      "398/398 [==============================] - 167s 420ms/step - loss: 0.0836 - accuracy: 0.8641 - binary_iou: 0.7538 - true_positives: 107708280.0000 - false_positives: 20027540.0000 - true_negatives: 168384784.0000 - false_negatives: 23400352.0000 - precision: 0.8432 - recall: 0.8215 - val_loss: 0.0895 - val_accuracy: 0.8523 - val_binary_iou: 0.7406 - val_true_positives: 39827064.0000 - val_false_positives: 10344540.0000 - val_true_negatives: 50490480.0000 - val_false_negatives: 5309619.0000 - val_precision: 0.7938 - val_recall: 0.8824\n",
      "Epoch 17/100\n",
      "398/398 [==============================] - ETA: 0s - loss: 0.0833 - accuracy: 0.8637 - binary_iou: 0.7532 - true_positives: 107732096.0000 - false_positives: 20081816.0000 - true_negatives: 168233280.0000 - false_negatives: 23473564.0000 - precision: 0.8429 - recall: 0.8211"
     ]
    },
    {
     "name": "stderr",
     "output_type": "stream",
     "text": [
      "WARNING:absl:Found untraced functions such as _jit_compiled_convolution_op, _jit_compiled_convolution_op, _jit_compiled_convolution_op, _jit_compiled_convolution_op, _jit_compiled_convolution_op while saving (showing 5 of 64). These functions will not be directly callable after loading.\n"
     ]
    },
    {
     "name": "stdout",
     "output_type": "stream",
     "text": [
      "INFO:tensorflow:Assets written to: ../saved_model_FT_test\\FT_test_AVG_no_of_frozen_layers_183_e100\\assets\n"
     ]
    },
    {
     "name": "stderr",
     "output_type": "stream",
     "text": [
      "INFO:tensorflow:Assets written to: ../saved_model_FT_test\\FT_test_AVG_no_of_frozen_layers_183_e100\\assets\n"
     ]
    },
    {
     "name": "stdout",
     "output_type": "stream",
     "text": [
      "398/398 [==============================] - 166s 418ms/step - loss: 0.0833 - accuracy: 0.8637 - binary_iou: 0.7532 - true_positives: 107732096.0000 - false_positives: 20081816.0000 - true_negatives: 168233280.0000 - false_negatives: 23473564.0000 - precision: 0.8429 - recall: 0.8211 - val_loss: 0.0852 - val_accuracy: 0.8639 - val_binary_iou: 0.7554 - val_true_positives: 37170488.0000 - val_false_positives: 6445220.0000 - val_true_negatives: 54378644.0000 - val_false_negatives: 7977376.0000 - val_precision: 0.8522 - val_recall: 0.8233\n",
      "Epoch 18/100\n",
      "398/398 [==============================] - 131s 327ms/step - loss: 0.0821 - accuracy: 0.8666 - binary_iou: 0.7579 - true_positives: 108301392.0000 - false_positives: 19837088.0000 - true_negatives: 168606352.0000 - false_negatives: 22776036.0000 - precision: 0.8452 - recall: 0.8262 - val_loss: 0.1531 - val_accuracy: 0.7313 - val_binary_iou: 0.5348 - val_true_positives: 18643914.0000 - val_false_positives: 1994139.0000 - val_true_negatives: 58851064.0000 - val_false_negatives: 26482600.0000 - val_precision: 0.9034 - val_recall: 0.4131\n",
      "Epoch 19/100\n",
      "398/398 [==============================] - 131s 329ms/step - loss: 0.0818 - accuracy: 0.8666 - binary_iou: 0.7579 - true_positives: 108285344.0000 - false_positives: 19770572.0000 - true_negatives: 168614816.0000 - false_negatives: 22850008.0000 - precision: 0.8456 - recall: 0.8258 - val_loss: 0.1024 - val_accuracy: 0.8322 - val_binary_iou: 0.7115 - val_true_positives: 40046760.0000 - val_false_positives: 12674211.0000 - val_true_negatives: 48147576.0000 - val_false_negatives: 5103174.0000 - val_precision: 0.7596 - val_recall: 0.8870\n",
      "Epoch 20/100\n",
      "398/398 [==============================] - 131s 330ms/step - loss: 0.0813 - accuracy: 0.8676 - binary_iou: 0.7596 - true_positives: 108523808.0000 - false_positives: 19610268.0000 - true_negatives: 168706416.0000 - false_negatives: 22680374.0000 - precision: 0.8470 - recall: 0.8271 - val_loss: 0.0870 - val_accuracy: 0.8546 - val_binary_iou: 0.7357 - val_true_positives: 33240562.0000 - val_false_positives: 3608494.0000 - val_true_negatives: 57325588.0000 - val_false_negatives: 11797062.0000 - val_precision: 0.9021 - val_recall: 0.7381\n",
      "Epoch 21/100\n",
      "398/398 [==============================] - 132s 330ms/step - loss: 0.0808 - accuracy: 0.8688 - binary_iou: 0.7614 - true_positives: 108646064.0000 - false_positives: 19449168.0000 - true_negatives: 168965888.0000 - false_negatives: 22459632.0000 - precision: 0.8482 - recall: 0.8287 - val_loss: 0.0867 - val_accuracy: 0.8618 - val_binary_iou: 0.7540 - val_true_positives: 38839240.0000 - val_false_positives: 8306769.0000 - val_true_negatives: 52484908.0000 - val_false_negatives: 6340797.0000 - val_precision: 0.8238 - val_recall: 0.8597\n",
      "Epoch 22/100\n",
      "398/398 [==============================] - 132s 331ms/step - loss: 0.0805 - accuracy: 0.8692 - binary_iou: 0.7619 - true_positives: 108503840.0000 - false_positives: 19143860.0000 - true_negatives: 169210224.0000 - false_negatives: 22662762.0000 - precision: 0.8500 - recall: 0.8272 - val_loss: 0.0967 - val_accuracy: 0.8472 - val_binary_iou: 0.7338 - val_true_positives: 40768900.0000 - val_false_positives: 11939663.0000 - val_true_negatives: 49015408.0000 - val_false_negatives: 4247704.0000 - val_precision: 0.7735 - val_recall: 0.9056\n",
      "Epoch 23/100\n",
      "398/398 [==============================] - 132s 333ms/step - loss: 0.0795 - accuracy: 0.8707 - binary_iou: 0.7643 - true_positives: 108716080.0000 - false_positives: 18938558.0000 - true_negatives: 169478768.0000 - false_negatives: 22387304.0000 - precision: 0.8516 - recall: 0.8292 - val_loss: 0.1078 - val_accuracy: 0.8230 - val_binary_iou: 0.6988 - val_true_positives: 41153548.0000 - val_false_positives: 14788690.0000 - val_true_negatives: 46060360.0000 - val_false_negatives: 3969113.0000 - val_precision: 0.7356 - val_recall: 0.9120\n",
      "Epoch 24/100\n",
      "398/398 [==============================] - 132s 331ms/step - loss: 0.0801 - accuracy: 0.8702 - binary_iou: 0.7636 - true_positives: 108823816.0000 - false_positives: 19210666.0000 - true_negatives: 169220608.0000 - false_negatives: 22265680.0000 - precision: 0.8500 - recall: 0.8301 - val_loss: 0.0927 - val_accuracy: 0.8444 - val_binary_iou: 0.7203 - val_true_positives: 32952966.0000 - val_false_positives: 4359997.0000 - val_true_negatives: 56526712.0000 - val_false_negatives: 12132058.0000 - val_precision: 0.8832 - val_recall: 0.7309\n",
      "Epoch 25/100\n",
      "398/398 [==============================] - 132s 331ms/step - loss: 0.0790 - accuracy: 0.8721 - binary_iou: 0.7667 - true_positives: 109167728.0000 - false_positives: 18871536.0000 - true_negatives: 169501680.0000 - false_negatives: 21979664.0000 - precision: 0.8526 - recall: 0.8324 - val_loss: 0.0850 - val_accuracy: 0.8600 - val_binary_iou: 0.7507 - val_true_positives: 38290392.0000 - val_false_positives: 8004973.0000 - val_true_negatives: 52842848.0000 - val_false_negatives: 6833502.0000 - val_precision: 0.8271 - val_recall: 0.8486\n",
      "Epoch 26/100\n",
      "398/398 [==============================] - 132s 332ms/step - loss: 0.0791 - accuracy: 0.8710 - binary_iou: 0.7649 - true_positives: 108841576.0000 - false_positives: 18948360.0000 - true_negatives: 169474752.0000 - false_negatives: 22256104.0000 - precision: 0.8517 - recall: 0.8302 - val_loss: 0.0908 - val_accuracy: 0.8506 - val_binary_iou: 0.7392 - val_true_positives: 41490552.0000 - val_false_positives: 12217507.0000 - val_true_negatives: 48650728.0000 - val_false_negatives: 3612923.0000 - val_precision: 0.7725 - val_recall: 0.9199\n",
      "Epoch 27/100\n",
      "398/398 [==============================] - ETA: 0s - loss: 0.0783 - accuracy: 0.8728 - binary_iou: 0.7677 - true_positives: 109027872.0000 - false_positives: 18534094.0000 - true_negatives: 169850336.0000 - false_negatives: 22108422.0000 - precision: 0.8547 - recall: 0.8314"
     ]
    },
    {
     "name": "stderr",
     "output_type": "stream",
     "text": [
      "WARNING:absl:Found untraced functions such as _jit_compiled_convolution_op, _jit_compiled_convolution_op, _jit_compiled_convolution_op, _jit_compiled_convolution_op, _jit_compiled_convolution_op while saving (showing 5 of 64). These functions will not be directly callable after loading.\n"
     ]
    },
    {
     "name": "stdout",
     "output_type": "stream",
     "text": [
      "INFO:tensorflow:Assets written to: ../saved_model_FT_test\\FT_test_AVG_no_of_frozen_layers_183_e100\\assets\n"
     ]
    },
    {
     "name": "stderr",
     "output_type": "stream",
     "text": [
      "INFO:tensorflow:Assets written to: ../saved_model_FT_test\\FT_test_AVG_no_of_frozen_layers_183_e100\\assets\n"
     ]
    },
    {
     "name": "stdout",
     "output_type": "stream",
     "text": [
      "398/398 [==============================] - 167s 420ms/step - loss: 0.0783 - accuracy: 0.8728 - binary_iou: 0.7677 - true_positives: 109027872.0000 - false_positives: 18534094.0000 - true_negatives: 169850336.0000 - false_negatives: 22108422.0000 - precision: 0.8547 - recall: 0.8314 - val_loss: 0.0798 - val_accuracy: 0.8688 - val_binary_iou: 0.7620 - val_true_positives: 36486688.0000 - val_false_positives: 5333113.0000 - val_true_negatives: 55582152.0000 - val_false_negatives: 8569759.0000 - val_precision: 0.8725 - val_recall: 0.8098\n",
      "Epoch 28/100\n",
      "398/398 [==============================] - ETA: 0s - loss: 0.0786 - accuracy: 0.8725 - binary_iou: 0.7673 - true_positives: 109270320.0000 - false_positives: 18891796.0000 - true_negatives: 169503328.0000 - false_negatives: 21855380.0000 - precision: 0.8526 - recall: 0.8333"
     ]
    },
    {
     "name": "stderr",
     "output_type": "stream",
     "text": [
      "WARNING:absl:Found untraced functions such as _jit_compiled_convolution_op, _jit_compiled_convolution_op, _jit_compiled_convolution_op, _jit_compiled_convolution_op, _jit_compiled_convolution_op while saving (showing 5 of 64). These functions will not be directly callable after loading.\n"
     ]
    },
    {
     "name": "stdout",
     "output_type": "stream",
     "text": [
      "INFO:tensorflow:Assets written to: ../saved_model_FT_test\\FT_test_AVG_no_of_frozen_layers_183_e100\\assets\n"
     ]
    },
    {
     "name": "stderr",
     "output_type": "stream",
     "text": [
      "INFO:tensorflow:Assets written to: ../saved_model_FT_test\\FT_test_AVG_no_of_frozen_layers_183_e100\\assets\n"
     ]
    },
    {
     "name": "stdout",
     "output_type": "stream",
     "text": [
      "398/398 [==============================] - 177s 444ms/step - loss: 0.0786 - accuracy: 0.8725 - binary_iou: 0.7673 - true_positives: 109270320.0000 - false_positives: 18891796.0000 - true_negatives: 169503328.0000 - false_negatives: 21855380.0000 - precision: 0.8526 - recall: 0.8333 - val_loss: 0.0794 - val_accuracy: 0.8727 - val_binary_iou: 0.7702 - val_true_positives: 38349988.0000 - val_false_positives: 6743923.0000 - val_true_negatives: 54133528.0000 - val_false_negatives: 6744254.0000 - val_precision: 0.8504 - val_recall: 0.8504\n",
      "Epoch 29/100\n",
      "398/398 [==============================] - ETA: 0s - loss: 0.0780 - accuracy: 0.8735 - binary_iou: 0.7690 - true_positives: 109509312.0000 - false_positives: 18740822.0000 - true_negatives: 169604432.0000 - false_negatives: 21666136.0000 - precision: 0.8539 - recall: 0.8348"
     ]
    },
    {
     "name": "stderr",
     "output_type": "stream",
     "text": [
      "WARNING:absl:Found untraced functions such as _jit_compiled_convolution_op, _jit_compiled_convolution_op, _jit_compiled_convolution_op, _jit_compiled_convolution_op, _jit_compiled_convolution_op while saving (showing 5 of 64). These functions will not be directly callable after loading.\n"
     ]
    },
    {
     "name": "stdout",
     "output_type": "stream",
     "text": [
      "INFO:tensorflow:Assets written to: ../saved_model_FT_test\\FT_test_AVG_no_of_frozen_layers_183_e100\\assets\n"
     ]
    },
    {
     "name": "stderr",
     "output_type": "stream",
     "text": [
      "INFO:tensorflow:Assets written to: ../saved_model_FT_test\\FT_test_AVG_no_of_frozen_layers_183_e100\\assets\n"
     ]
    },
    {
     "name": "stdout",
     "output_type": "stream",
     "text": [
      "398/398 [==============================] - 178s 447ms/step - loss: 0.0780 - accuracy: 0.8735 - binary_iou: 0.7690 - true_positives: 109509312.0000 - false_positives: 18740822.0000 - true_negatives: 169604432.0000 - false_negatives: 21666136.0000 - precision: 0.8539 - recall: 0.8348 - val_loss: 0.0788 - val_accuracy: 0.8748 - val_binary_iou: 0.7732 - val_true_positives: 38262152.0000 - val_false_positives: 6452901.0000 - val_true_negatives: 54439296.0000 - val_false_negatives: 6817371.0000 - val_precision: 0.8557 - val_recall: 0.8488\n",
      "Epoch 30/100\n",
      "398/398 [==============================] - 137s 345ms/step - loss: 0.0770 - accuracy: 0.8750 - binary_iou: 0.7714 - true_positives: 109860424.0000 - false_positives: 18651358.0000 - true_negatives: 169709808.0000 - false_negatives: 21299248.0000 - precision: 0.8549 - recall: 0.8376 - val_loss: 0.1144 - val_accuracy: 0.8331 - val_binary_iou: 0.7128 - val_true_positives: 40152272.0000 - val_false_positives: 12796243.0000 - val_true_negatives: 48135368.0000 - val_false_negatives: 4887845.0000 - val_precision: 0.7583 - val_recall: 0.8915\n",
      "Epoch 31/100\n",
      "398/398 [==============================] - ETA: 0s - loss: 0.0771 - accuracy: 0.8750 - binary_iou: 0.7713 - true_positives: 109402512.0000 - false_positives: 18328428.0000 - true_negatives: 170191040.0000 - false_negatives: 21598874.0000 - precision: 0.8565 - recall: 0.8351"
     ]
    },
    {
     "name": "stderr",
     "output_type": "stream",
     "text": [
      "WARNING:absl:Found untraced functions such as _jit_compiled_convolution_op, _jit_compiled_convolution_op, _jit_compiled_convolution_op, _jit_compiled_convolution_op, _jit_compiled_convolution_op while saving (showing 5 of 64). These functions will not be directly callable after loading.\n"
     ]
    },
    {
     "name": "stdout",
     "output_type": "stream",
     "text": [
      "INFO:tensorflow:Assets written to: ../saved_model_FT_test\\FT_test_AVG_no_of_frozen_layers_183_e100\\assets\n"
     ]
    },
    {
     "name": "stderr",
     "output_type": "stream",
     "text": [
      "INFO:tensorflow:Assets written to: ../saved_model_FT_test\\FT_test_AVG_no_of_frozen_layers_183_e100\\assets\n"
     ]
    },
    {
     "name": "stdout",
     "output_type": "stream",
     "text": [
      "398/398 [==============================] - 178s 447ms/step - loss: 0.0771 - accuracy: 0.8750 - binary_iou: 0.7713 - true_positives: 109402512.0000 - false_positives: 18328428.0000 - true_negatives: 170191040.0000 - false_negatives: 21598874.0000 - precision: 0.8565 - recall: 0.8351 - val_loss: 0.0760 - val_accuracy: 0.8774 - val_binary_iou: 0.7753 - val_true_positives: 36616788.0000 - val_false_positives: 4558136.0000 - val_true_negatives: 56358976.0000 - val_false_negatives: 8437822.0000 - val_precision: 0.8893 - val_recall: 0.8127\n",
      "Epoch 32/100\n",
      "398/398 [==============================] - 139s 349ms/step - loss: 0.0768 - accuracy: 0.8754 - binary_iou: 0.7720 - true_positives: 109704112.0000 - false_positives: 18303342.0000 - true_negatives: 170015376.0000 - false_negatives: 21497948.0000 - precision: 0.8570 - recall: 0.8361 - val_loss: 0.0893 - val_accuracy: 0.8511 - val_binary_iou: 0.7392 - val_true_positives: 40275688.0000 - val_false_positives: 11033940.0000 - val_true_negatives: 49917440.0000 - val_false_negatives: 4744650.0000 - val_precision: 0.7850 - val_recall: 0.8946\n",
      "Epoch 33/100\n",
      "398/398 [==============================] - 138s 347ms/step - loss: 0.0759 - accuracy: 0.8769 - binary_iou: 0.7744 - true_positives: 109680688.0000 - false_positives: 17862716.0000 - true_negatives: 170521232.0000 - false_negatives: 21456152.0000 - precision: 0.8599 - recall: 0.8364 - val_loss: 0.1278 - val_accuracy: 0.7639 - val_binary_iou: 0.5848 - val_true_positives: 21954286.0000 - val_false_positives: 1845093.0000 - val_true_negatives: 58996816.0000 - val_false_negatives: 23175526.0000 - val_precision: 0.9225 - val_recall: 0.4865\n",
      "Epoch 34/100\n",
      "398/398 [==============================] - 138s 347ms/step - loss: 0.0763 - accuracy: 0.8771 - binary_iou: 0.7746 - true_positives: 109722248.0000 - false_positives: 17865852.0000 - true_negatives: 170533120.0000 - false_negatives: 21399564.0000 - precision: 0.8600 - recall: 0.8368 - val_loss: 0.0804 - val_accuracy: 0.8689 - val_binary_iou: 0.7605 - val_true_positives: 35240620.0000 - val_false_positives: 4020838.0000 - val_true_negatives: 56843064.0000 - val_false_negatives: 9867173.0000 - val_precision: 0.8976 - val_recall: 0.7813\n",
      "Epoch 35/100\n",
      "398/398 [==============================] - 139s 349ms/step - loss: 0.0752 - accuracy: 0.8781 - binary_iou: 0.7763 - true_positives: 109918400.0000 - false_positives: 17765496.0000 - true_negatives: 170650224.0000 - false_negatives: 21186664.0000 - precision: 0.8609 - recall: 0.8384 - val_loss: 0.0844 - val_accuracy: 0.8658 - val_binary_iou: 0.7554 - val_true_positives: 35053628.0000 - val_false_positives: 4161809.0000 - val_true_negatives: 56692608.0000 - val_false_negatives: 10063672.0000 - val_precision: 0.8939 - val_recall: 0.7769\n",
      "Epoch 36/100\n",
      "398/398 [==============================] - 139s 350ms/step - loss: 0.0756 - accuracy: 0.8780 - binary_iou: 0.7762 - true_positives: 109991488.0000 - false_positives: 17822768.0000 - true_negatives: 170557728.0000 - false_negatives: 21148782.0000 - precision: 0.8606 - recall: 0.8387 - val_loss: 0.0847 - val_accuracy: 0.8642 - val_binary_iou: 0.7593 - val_true_positives: 40863752.0000 - val_false_positives: 10137314.0000 - val_true_negatives: 50722208.0000 - val_false_negatives: 4248468.0000 - val_precision: 0.8012 - val_recall: 0.9058\n",
      "Epoch 37/100\n",
      "398/398 [==============================] - 139s 348ms/step - loss: 0.0755 - accuracy: 0.8783 - binary_iou: 0.7766 - true_positives: 110056080.0000 - false_positives: 17851890.0000 - true_negatives: 170569152.0000 - false_negatives: 21043648.0000 - precision: 0.8604 - recall: 0.8395 - val_loss: 0.0940 - val_accuracy: 0.8438 - val_binary_iou: 0.7149 - val_true_positives: 30703540.0000 - val_false_positives: 2279773.0000 - val_true_negatives: 58713400.0000 - val_false_negatives: 14274987.0000 - val_precision: 0.9309 - val_recall: 0.6826\n",
      "Epoch 38/100\n",
      "398/398 [==============================] - 139s 348ms/step - loss: 0.0748 - accuracy: 0.8801 - binary_iou: 0.7794 - true_positives: 110202584.0000 - false_positives: 17466404.0000 - true_negatives: 170994736.0000 - false_negatives: 20856996.0000 - precision: 0.8632 - recall: 0.8409 - val_loss: 0.0782 - val_accuracy: 0.8715 - val_binary_iou: 0.7644 - val_true_positives: 35198112.0000 - val_false_positives: 3698824.0000 - val_true_negatives: 57161548.0000 - val_false_negatives: 9913227.0000 - val_precision: 0.9049 - val_recall: 0.7802\n",
      "Epoch 39/100\n",
      "398/398 [==============================] - 139s 348ms/step - loss: 0.0746 - accuracy: 0.8794 - binary_iou: 0.7784 - true_positives: 110242680.0000 - false_positives: 17726232.0000 - true_negatives: 170747120.0000 - false_negatives: 20804768.0000 - precision: 0.8615 - recall: 0.8412 - val_loss: 0.0825 - val_accuracy: 0.8634 - val_binary_iou: 0.7571 - val_true_positives: 39490388.0000 - val_false_positives: 8987308.0000 - val_true_negatives: 52010136.0000 - val_false_negatives: 5483891.0000 - val_precision: 0.8146 - val_recall: 0.8781\n",
      "Epoch 40/100\n",
      "398/398 [==============================] - 138s 347ms/step - loss: 0.0738 - accuracy: 0.8818 - binary_iou: 0.7824 - true_positives: 110744256.0000 - false_positives: 17311324.0000 - true_negatives: 171002512.0000 - false_negatives: 20462732.0000 - precision: 0.8648 - recall: 0.8440 - val_loss: 0.0911 - val_accuracy: 0.8514 - val_binary_iou: 0.7390 - val_true_positives: 39461084.0000 - val_false_positives: 10119243.0000 - val_true_negatives: 50764184.0000 - val_false_negatives: 5627177.0000 - val_precision: 0.7959 - val_recall: 0.8752\n",
      "Epoch 41/100\n",
      "398/398 [==============================] - 138s 347ms/step - loss: 0.0740 - accuracy: 0.8811 - binary_iou: 0.7813 - true_positives: 110620672.0000 - false_positives: 17410712.0000 - true_negatives: 170911776.0000 - false_negatives: 20577528.0000 - precision: 0.8640 - recall: 0.8432 - val_loss: 0.0893 - val_accuracy: 0.8568 - val_binary_iou: 0.7480 - val_true_positives: 40675372.0000 - val_false_positives: 10765509.0000 - val_true_negatives: 50123008.0000 - val_false_negatives: 4407833.0000 - val_precision: 0.7907 - val_recall: 0.9022\n",
      "Epoch 42/100\n",
      "398/398 [==============================] - 138s 346ms/step - loss: 0.0741 - accuracy: 0.8810 - binary_iou: 0.7810 - true_positives: 110477176.0000 - false_positives: 17368754.0000 - true_negatives: 171013616.0000 - false_negatives: 20661116.0000 - precision: 0.8641 - recall: 0.8424 - val_loss: 0.0915 - val_accuracy: 0.8609 - val_binary_iou: 0.7545 - val_true_positives: 41110948.0000 - val_false_positives: 10759448.0000 - val_true_negatives: 50124624.0000 - val_false_negatives: 3976692.0000 - val_precision: 0.7926 - val_recall: 0.9118\n",
      "Epoch 43/100\n",
      "398/398 [==============================] - 139s 348ms/step - loss: 0.0736 - accuracy: 0.8818 - binary_iou: 0.7824 - true_positives: 110759184.0000 - false_positives: 17434206.0000 - true_negatives: 170991264.0000 - false_negatives: 20336120.0000 - precision: 0.8640 - recall: 0.8449 - val_loss: 0.0767 - val_accuracy: 0.8763 - val_binary_iou: 0.7738 - val_true_positives: 36665456.0000 - val_false_positives: 4793163.0000 - val_true_negatives: 56202104.0000 - val_false_negatives: 8311005.0000 - val_precision: 0.8844 - val_recall: 0.8152\n",
      "Epoch 44/100\n",
      "398/398 [==============================] - 138s 347ms/step - loss: 0.0732 - accuracy: 0.8824 - binary_iou: 0.7833 - true_positives: 110589928.0000 - false_positives: 17049368.0000 - true_negatives: 171352096.0000 - false_negatives: 20529470.0000 - precision: 0.8664 - recall: 0.8434 - val_loss: 0.3467 - val_accuracy: 0.6217 - val_binary_iou: 0.3609 - val_true_positives: 5513703.0000 - val_false_positives: 492476.0000 - val_true_negatives: 60369508.0000 - val_false_negatives: 39596012.0000 - val_precision: 0.9180 - val_recall: 0.1222\n",
      "Epoch 45/100\n",
      "398/398 [==============================] - 138s 346ms/step - loss: 0.0728 - accuracy: 0.8823 - binary_iou: 0.7831 - true_positives: 110610448.0000 - false_positives: 17153838.0000 - true_negatives: 171295808.0000 - false_negatives: 20460704.0000 - precision: 0.8657 - recall: 0.8439 - val_loss: 0.1083 - val_accuracy: 0.8334 - val_binary_iou: 0.7133 - val_true_positives: 40344744.0000 - val_false_positives: 12932603.0000 - val_true_negatives: 47975588.0000 - val_false_negatives: 4718782.0000 - val_precision: 0.7573 - val_recall: 0.8953\n",
      "Epoch 46/100\n",
      "398/398 [==============================] - ETA: 0s - loss: 0.0727 - accuracy: 0.8833 - binary_iou: 0.7848 - true_positives: 110786432.0000 - false_positives: 16934720.0000 - true_negatives: 171444560.0000 - false_negatives: 20355044.0000 - precision: 0.8674 - recall: 0.8448"
     ]
    },
    {
     "name": "stderr",
     "output_type": "stream",
     "text": [
      "WARNING:absl:Found untraced functions such as _jit_compiled_convolution_op, _jit_compiled_convolution_op, _jit_compiled_convolution_op, _jit_compiled_convolution_op, _jit_compiled_convolution_op while saving (showing 5 of 64). These functions will not be directly callable after loading.\n"
     ]
    },
    {
     "name": "stdout",
     "output_type": "stream",
     "text": [
      "INFO:tensorflow:Assets written to: ../saved_model_FT_test\\FT_test_AVG_no_of_frozen_layers_183_e100\\assets\n"
     ]
    },
    {
     "name": "stderr",
     "output_type": "stream",
     "text": [
      "INFO:tensorflow:Assets written to: ../saved_model_FT_test\\FT_test_AVG_no_of_frozen_layers_183_e100\\assets\n"
     ]
    },
    {
     "name": "stdout",
     "output_type": "stream",
     "text": [
      "398/398 [==============================] - 175s 441ms/step - loss: 0.0727 - accuracy: 0.8833 - binary_iou: 0.7848 - true_positives: 110786432.0000 - false_positives: 16934720.0000 - true_negatives: 171444560.0000 - false_negatives: 20355044.0000 - precision: 0.8674 - recall: 0.8448 - val_loss: 0.0720 - val_accuracy: 0.8834 - val_binary_iou: 0.7860 - val_true_positives: 37677948.0000 - val_false_positives: 4890033.0000 - val_true_negatives: 55932928.0000 - val_false_negatives: 7470800.0000 - val_precision: 0.8851 - val_recall: 0.8345\n",
      "Epoch 47/100\n",
      "398/398 [==============================] - 138s 345ms/step - loss: 0.0726 - accuracy: 0.8835 - binary_iou: 0.7851 - true_positives: 110872664.0000 - false_positives: 16952142.0000 - true_negatives: 171421840.0000 - false_negatives: 20274174.0000 - precision: 0.8674 - recall: 0.8454 - val_loss: 0.0791 - val_accuracy: 0.8718 - val_binary_iou: 0.7701 - val_true_positives: 39755304.0000 - val_false_positives: 8201396.0000 - val_true_negatives: 52630668.0000 - val_false_negatives: 5384339.0000 - val_precision: 0.8290 - val_recall: 0.8807\n",
      "Epoch 48/100\n",
      "398/398 [==============================] - 139s 348ms/step - loss: 0.0720 - accuracy: 0.8844 - binary_iou: 0.7866 - true_positives: 111036360.0000 - false_positives: 16833284.0000 - true_negatives: 171542160.0000 - false_negatives: 20108824.0000 - precision: 0.8684 - recall: 0.8467 - val_loss: 0.0752 - val_accuracy: 0.8761 - val_binary_iou: 0.7749 - val_true_positives: 37911000.0000 - val_false_positives: 6057223.0000 - val_true_negatives: 54926472.0000 - val_false_negatives: 7077021.0000 - val_precision: 0.8622 - val_recall: 0.8427\n",
      "Epoch 49/100\n",
      "398/398 [==============================] - ETA: 0s - loss: 0.0724 - accuracy: 0.8837 - binary_iou: 0.7855 - true_positives: 111067640.0000 - false_positives: 17154754.0000 - true_negatives: 171286816.0000 - false_negatives: 20011544.0000 - precision: 0.8662 - recall: 0.8473"
     ]
    },
    {
     "name": "stderr",
     "output_type": "stream",
     "text": [
      "WARNING:absl:Found untraced functions such as _jit_compiled_convolution_op, _jit_compiled_convolution_op, _jit_compiled_convolution_op, _jit_compiled_convolution_op, _jit_compiled_convolution_op while saving (showing 5 of 64). These functions will not be directly callable after loading.\n"
     ]
    },
    {
     "name": "stdout",
     "output_type": "stream",
     "text": [
      "INFO:tensorflow:Assets written to: ../saved_model_FT_test\\FT_test_AVG_no_of_frozen_layers_183_e100\\assets\n"
     ]
    },
    {
     "name": "stderr",
     "output_type": "stream",
     "text": [
      "INFO:tensorflow:Assets written to: ../saved_model_FT_test\\FT_test_AVG_no_of_frozen_layers_183_e100\\assets\n"
     ]
    },
    {
     "name": "stdout",
     "output_type": "stream",
     "text": [
      "398/398 [==============================] - 176s 441ms/step - loss: 0.0724 - accuracy: 0.8837 - binary_iou: 0.7855 - true_positives: 111067640.0000 - false_positives: 17154754.0000 - true_negatives: 171286816.0000 - false_negatives: 20011544.0000 - precision: 0.8662 - recall: 0.8473 - val_loss: 0.0718 - val_accuracy: 0.8838 - val_binary_iou: 0.7886 - val_true_positives: 39486004.0000 - val_false_positives: 6718828.0000 - val_true_negatives: 54175552.0000 - val_false_negatives: 5591349.0000 - val_precision: 0.8546 - val_recall: 0.8760\n",
      "Epoch 50/100\n",
      "398/398 [==============================] - 139s 347ms/step - loss: 0.0711 - accuracy: 0.8859 - binary_iou: 0.7891 - true_positives: 111437792.0000 - false_positives: 16779652.0000 - true_negatives: 171621232.0000 - false_negatives: 19682034.0000 - precision: 0.8691 - recall: 0.8499 - val_loss: 0.0789 - val_accuracy: 0.8750 - val_binary_iou: 0.7750 - val_true_positives: 39677440.0000 - val_false_positives: 7832372.0000 - val_true_negatives: 53050432.0000 - val_false_negatives: 5411455.0000 - val_precision: 0.8351 - val_recall: 0.8800\n",
      "Epoch 51/100\n",
      "398/398 [==============================] - 138s 347ms/step - loss: 0.0723 - accuracy: 0.8840 - binary_iou: 0.7860 - true_positives: 110917688.0000 - false_positives: 16858026.0000 - true_negatives: 171550656.0000 - false_negatives: 20194422.0000 - precision: 0.8681 - recall: 0.8460 - val_loss: 0.0761 - val_accuracy: 0.8785 - val_binary_iou: 0.7793 - val_true_positives: 38523632.0000 - val_false_positives: 6267567.0000 - val_true_negatives: 54571044.0000 - val_false_negatives: 6609449.0000 - val_precision: 0.8601 - val_recall: 0.8536\n",
      "Epoch 52/100\n",
      "398/398 [==============================] - 136s 341ms/step - loss: 0.0713 - accuracy: 0.8857 - binary_iou: 0.7888 - true_positives: 111161040.0000 - false_positives: 16627165.0000 - true_negatives: 171846624.0000 - false_negatives: 19886010.0000 - precision: 0.8699 - recall: 0.8483 - val_loss: 0.0784 - val_accuracy: 0.8712 - val_binary_iou: 0.7654 - val_true_positives: 36260056.0000 - val_false_positives: 4831201.0000 - val_true_negatives: 56061988.0000 - val_false_negatives: 8818443.0000 - val_precision: 0.8824 - val_recall: 0.8044\n",
      "Epoch 53/100\n",
      "398/398 [==============================] - 134s 336ms/step - loss: 0.0713 - accuracy: 0.8850 - binary_iou: 0.7875 - true_positives: 110992376.0000 - false_positives: 16666216.0000 - true_negatives: 171785184.0000 - false_negatives: 20076980.0000 - precision: 0.8694 - recall: 0.8468 - val_loss: 0.0749 - val_accuracy: 0.8792 - val_binary_iou: 0.7783 - val_true_positives: 36636472.0000 - val_false_positives: 4348723.0000 - val_true_negatives: 56539000.0000 - val_false_negatives: 8447519.0000 - val_precision: 0.8939 - val_recall: 0.8126\n",
      "Epoch 54/100\n",
      "398/398 [==============================] - 134s 337ms/step - loss: 0.0712 - accuracy: 0.8865 - binary_iou: 0.7901 - true_positives: 111404088.0000 - false_positives: 16538362.0000 - true_negatives: 171853856.0000 - false_negatives: 19724452.0000 - precision: 0.8707 - recall: 0.8496 - val_loss: 0.0919 - val_accuracy: 0.8460 - val_binary_iou: 0.7183 - val_true_positives: 30782204.0000 - val_false_positives: 1975765.0000 - val_true_negatives: 58874352.0000 - val_false_negatives: 14339410.0000 - val_precision: 0.9397 - val_recall: 0.6822\n",
      "Epoch 55/100\n",
      "398/398 [==============================] - 134s 337ms/step - loss: 0.0705 - accuracy: 0.8877 - binary_iou: 0.7921 - true_positives: 111597744.0000 - false_positives: 16313104.0000 - true_negatives: 172038480.0000 - false_negatives: 19571406.0000 - precision: 0.8725 - recall: 0.8508 - val_loss: 0.0778 - val_accuracy: 0.8731 - val_binary_iou: 0.7718 - val_true_positives: 39438596.0000 - val_false_positives: 7786716.0000 - val_true_negatives: 53084064.0000 - val_false_negatives: 5662343.0000 - val_precision: 0.8351 - val_recall: 0.8745\n",
      "Epoch 56/100\n",
      "398/398 [==============================] - 134s 337ms/step - loss: 0.0707 - accuracy: 0.8871 - binary_iou: 0.7910 - true_positives: 111379944.0000 - false_positives: 16308250.0000 - true_negatives: 172061968.0000 - false_negatives: 19770506.0000 - precision: 0.8723 - recall: 0.8493 - val_loss: 0.0848 - val_accuracy: 0.8574 - val_binary_iou: 0.7399 - val_true_positives: 33218982.0000 - val_false_positives: 3312352.0000 - val_true_negatives: 57644400.0000 - val_false_negatives: 11795967.0000 - val_precision: 0.9093 - val_recall: 0.7380\n",
      "Epoch 57/100\n",
      "398/398 [==============================] - 134s 336ms/step - loss: 0.0705 - accuracy: 0.8872 - binary_iou: 0.7912 - true_positives: 111304640.0000 - false_positives: 16271008.0000 - true_negatives: 172181952.0000 - false_negatives: 19763074.0000 - precision: 0.8725 - recall: 0.8492 - val_loss: 0.0780 - val_accuracy: 0.8788 - val_binary_iou: 0.7815 - val_true_positives: 40363296.0000 - val_false_positives: 8102494.0000 - val_true_negatives: 52768896.0000 - val_false_negatives: 4737019.0000 - val_precision: 0.8328 - val_recall: 0.8950\n",
      "Epoch 58/100\n",
      "398/398 [==============================] - 134s 337ms/step - loss: 0.0703 - accuracy: 0.8879 - binary_iou: 0.7923 - true_positives: 111497272.0000 - false_positives: 16185796.0000 - true_negatives: 172192080.0000 - false_negatives: 19645634.0000 - precision: 0.8732 - recall: 0.8502 - val_loss: 0.0729 - val_accuracy: 0.8834 - val_binary_iou: 0.7850 - val_true_positives: 36861128.0000 - val_false_positives: 4175830.0000 - val_true_negatives: 56752168.0000 - val_false_negatives: 8182607.0000 - val_precision: 0.8982 - val_recall: 0.8183\n",
      "Epoch 59/100\n",
      "398/398 [==============================] - 134s 337ms/step - loss: 0.0702 - accuracy: 0.8878 - binary_iou: 0.7922 - true_positives: 111428296.0000 - false_positives: 16189002.0000 - true_negatives: 172243248.0000 - false_negatives: 19660228.0000 - precision: 0.8731 - recall: 0.8500 - val_loss: 0.0748 - val_accuracy: 0.8787 - val_binary_iou: 0.7808 - val_true_positives: 39858764.0000 - val_false_positives: 7576542.0000 - val_true_negatives: 53255492.0000 - val_false_negatives: 5280936.0000 - val_precision: 0.8403 - val_recall: 0.8830\n",
      "Epoch 60/100\n",
      "398/398 [==============================] - 133s 335ms/step - loss: 0.0699 - accuracy: 0.8884 - binary_iou: 0.7932 - true_positives: 111605032.0000 - false_positives: 16211818.0000 - true_negatives: 172253808.0000 - false_negatives: 19450116.0000 - precision: 0.8732 - recall: 0.8516 - val_loss: 0.0724 - val_accuracy: 0.8823 - val_binary_iou: 0.7848 - val_true_positives: 38025824.0000 - val_false_positives: 5357245.0000 - val_true_negatives: 55475288.0000 - val_false_negatives: 7113354.0000 - val_precision: 0.8765 - val_recall: 0.8424\n",
      "Epoch 61/100\n",
      "398/398 [==============================] - ETA: 0s - loss: 0.0698 - accuracy: 0.8882 - binary_iou: 0.7928 - true_positives: 111625056.0000 - false_positives: 16248429.0000 - true_negatives: 172164304.0000 - false_negatives: 19482984.0000 - precision: 0.8729 - recall: 0.8514"
     ]
    },
    {
     "name": "stderr",
     "output_type": "stream",
     "text": [
      "WARNING:absl:Found untraced functions such as _jit_compiled_convolution_op, _jit_compiled_convolution_op, _jit_compiled_convolution_op, _jit_compiled_convolution_op, _jit_compiled_convolution_op while saving (showing 5 of 64). These functions will not be directly callable after loading.\n"
     ]
    },
    {
     "name": "stdout",
     "output_type": "stream",
     "text": [
      "INFO:tensorflow:Assets written to: ../saved_model_FT_test\\FT_test_AVG_no_of_frozen_layers_183_e100\\assets\n"
     ]
    },
    {
     "name": "stderr",
     "output_type": "stream",
     "text": [
      "INFO:tensorflow:Assets written to: ../saved_model_FT_test\\FT_test_AVG_no_of_frozen_layers_183_e100\\assets\n"
     ]
    },
    {
     "name": "stdout",
     "output_type": "stream",
     "text": [
      "398/398 [==============================] - 169s 425ms/step - loss: 0.0698 - accuracy: 0.8882 - binary_iou: 0.7928 - true_positives: 111625056.0000 - false_positives: 16248429.0000 - true_negatives: 172164304.0000 - false_negatives: 19482984.0000 - precision: 0.8729 - recall: 0.8514 - val_loss: 0.0719 - val_accuracy: 0.8857 - val_binary_iou: 0.7920 - val_true_positives: 40008660.0000 - val_false_positives: 6950614.0000 - val_true_negatives: 53851884.0000 - val_false_negatives: 5160537.0000 - val_precision: 0.8520 - val_recall: 0.8858\n",
      "Epoch 62/100\n",
      "398/398 [==============================] - 134s 335ms/step - loss: 0.0693 - accuracy: 0.8894 - binary_iou: 0.7948 - true_positives: 111832104.0000 - false_positives: 16087610.0000 - true_negatives: 172342992.0000 - false_negatives: 19257988.0000 - precision: 0.8742 - recall: 0.8531 - val_loss: 0.0860 - val_accuracy: 0.8592 - val_binary_iou: 0.7425 - val_true_positives: 33238404.0000 - val_false_positives: 3034032.0000 - val_true_negatives: 57809696.0000 - val_false_negatives: 11889571.0000 - val_precision: 0.9164 - val_recall: 0.7365\n",
      "Epoch 63/100\n",
      "398/398 [==============================] - 134s 335ms/step - loss: 0.0693 - accuracy: 0.8894 - binary_iou: 0.7948 - true_positives: 111810888.0000 - false_positives: 16032721.0000 - true_negatives: 172367728.0000 - false_negatives: 19309438.0000 - precision: 0.8746 - recall: 0.8527 - val_loss: 0.0795 - val_accuracy: 0.8735 - val_binary_iou: 0.7676 - val_true_positives: 35400352.0000 - val_false_positives: 3689432.0000 - val_true_negatives: 57161040.0000 - val_false_negatives: 9720906.0000 - val_precision: 0.9056 - val_recall: 0.7846\n",
      "Epoch 64/100\n",
      "398/398 [==============================] - 134s 336ms/step - loss: 0.0695 - accuracy: 0.8884 - binary_iou: 0.7933 - true_positives: 111689736.0000 - false_positives: 16202075.0000 - true_negatives: 172186048.0000 - false_negatives: 19442862.0000 - precision: 0.8733 - recall: 0.8517 - val_loss: 0.0758 - val_accuracy: 0.8776 - val_binary_iou: 0.7791 - val_true_positives: 39693812.0000 - val_false_positives: 7559088.0000 - val_true_negatives: 53310804.0000 - val_false_negatives: 5407998.0000 - val_precision: 0.8400 - val_recall: 0.8801\n",
      "Epoch 65/100\n",
      "398/398 [==============================] - 134s 337ms/step - loss: 0.0689 - accuracy: 0.8901 - binary_iou: 0.7961 - true_positives: 111939024.0000 - false_positives: 15899358.0000 - true_negatives: 172475312.0000 - false_negatives: 19207072.0000 - precision: 0.8756 - recall: 0.8535 - val_loss: 0.1359 - val_accuracy: 0.7880 - val_binary_iou: 0.6222 - val_true_positives: 24266056.0000 - val_false_positives: 1582781.0000 - val_true_negatives: 59243448.0000 - val_false_negatives: 20879408.0000 - val_precision: 0.9388 - val_recall: 0.5375\n",
      "Epoch 66/100\n",
      "398/398 [==============================] - ETA: 0s - loss: 0.0689 - accuracy: 0.8894 - binary_iou: 0.7949 - true_positives: 111899968.0000 - false_positives: 16145603.0000 - true_negatives: 172293216.0000 - false_negatives: 19182052.0000 - precision: 0.8739 - recall: 0.8537"
     ]
    },
    {
     "name": "stderr",
     "output_type": "stream",
     "text": [
      "WARNING:absl:Found untraced functions such as _jit_compiled_convolution_op, _jit_compiled_convolution_op, _jit_compiled_convolution_op, _jit_compiled_convolution_op, _jit_compiled_convolution_op while saving (showing 5 of 64). These functions will not be directly callable after loading.\n"
     ]
    },
    {
     "name": "stdout",
     "output_type": "stream",
     "text": [
      "INFO:tensorflow:Assets written to: ../saved_model_FT_test\\FT_test_AVG_no_of_frozen_layers_183_e100\\assets\n"
     ]
    },
    {
     "name": "stderr",
     "output_type": "stream",
     "text": [
      "INFO:tensorflow:Assets written to: ../saved_model_FT_test\\FT_test_AVG_no_of_frozen_layers_183_e100\\assets\n"
     ]
    },
    {
     "name": "stdout",
     "output_type": "stream",
     "text": [
      "398/398 [==============================] - 170s 428ms/step - loss: 0.0689 - accuracy: 0.8894 - binary_iou: 0.7949 - true_positives: 111899968.0000 - false_positives: 16145603.0000 - true_negatives: 172293216.0000 - false_negatives: 19182052.0000 - precision: 0.8739 - recall: 0.8537 - val_loss: 0.0701 - val_accuracy: 0.8880 - val_binary_iou: 0.7950 - val_true_positives: 39279140.0000 - val_false_positives: 6042733.0000 - val_true_negatives: 54825964.0000 - val_false_negatives: 5823879.0000 - val_precision: 0.8667 - val_recall: 0.8709\n",
      "Epoch 67/100\n",
      "398/398 [==============================] - 134s 335ms/step - loss: 0.0688 - accuracy: 0.8901 - binary_iou: 0.7960 - true_positives: 111865480.0000 - false_positives: 15830442.0000 - true_negatives: 172532208.0000 - false_negatives: 19292612.0000 - precision: 0.8760 - recall: 0.8529 - val_loss: 0.0774 - val_accuracy: 0.8784 - val_binary_iou: 0.7808 - val_true_positives: 40402348.0000 - val_false_positives: 8221260.0000 - val_true_negatives: 52680000.0000 - val_false_negatives: 4668108.0000 - val_precision: 0.8309 - val_recall: 0.8964\n",
      "Epoch 68/100\n",
      "398/398 [==============================] - 134s 336ms/step - loss: 0.0690 - accuracy: 0.8891 - binary_iou: 0.7944 - true_positives: 111709696.0000 - false_positives: 15976760.0000 - true_negatives: 172388368.0000 - false_negatives: 19445922.0000 - precision: 0.8749 - recall: 0.8517 - val_loss: 0.0803 - val_accuracy: 0.8730 - val_binary_iou: 0.7725 - val_true_positives: 40478668.0000 - val_false_positives: 8900463.0000 - val_true_negatives: 52034368.0000 - val_false_negatives: 4558195.0000 - val_precision: 0.8198 - val_recall: 0.8988\n",
      "Epoch 69/100\n",
      "398/398 [==============================] - 134s 337ms/step - loss: 0.0688 - accuracy: 0.8902 - binary_iou: 0.7962 - true_positives: 111886672.0000 - false_positives: 15776121.0000 - true_negatives: 172563696.0000 - false_negatives: 19294172.0000 - precision: 0.8764 - recall: 0.8529 - val_loss: 0.0752 - val_accuracy: 0.8810 - val_binary_iou: 0.7845 - val_true_positives: 39947648.0000 - val_false_positives: 7431002.0000 - val_true_negatives: 53413960.0000 - val_false_negatives: 5179119.0000 - val_precision: 0.8432 - val_recall: 0.8852\n",
      "Epoch 70/100\n",
      "398/398 [==============================] - 134s 337ms/step - loss: 0.0691 - accuracy: 0.8894 - binary_iou: 0.7948 - true_positives: 111791048.0000 - false_positives: 16044969.0000 - true_negatives: 172387392.0000 - false_negatives: 19297388.0000 - precision: 0.8745 - recall: 0.8528 - val_loss: 0.0951 - val_accuracy: 0.8679 - val_binary_iou: 0.7649 - val_true_positives: 40768648.0000 - val_false_positives: 9800652.0000 - val_true_negatives: 51205848.0000 - val_false_negatives: 4196562.0000 - val_precision: 0.8062 - val_recall: 0.9067\n",
      "Epoch 71/100\n",
      "398/398 [==============================] - 134s 337ms/step - loss: 0.0686 - accuracy: 0.8903 - binary_iou: 0.7963 - true_positives: 112000912.0000 - false_positives: 15904758.0000 - true_negatives: 172459744.0000 - false_negatives: 19155282.0000 - precision: 0.8757 - recall: 0.8540 - val_loss: 0.0771 - val_accuracy: 0.8741 - val_binary_iou: 0.7688 - val_true_positives: 35527912.0000 - val_false_positives: 3736203.0000 - val_true_negatives: 57103272.0000 - val_false_negatives: 9604338.0000 - val_precision: 0.9048 - val_recall: 0.7872\n",
      "Epoch 72/100\n",
      "398/398 [==============================] - 135s 339ms/step - loss: 0.0678 - accuracy: 0.8926 - binary_iou: 0.8001 - true_positives: 112179992.0000 - false_positives: 15409854.0000 - true_negatives: 173029520.0000 - false_negatives: 18901586.0000 - precision: 0.8792 - recall: 0.8558 - val_loss: 0.0724 - val_accuracy: 0.8848 - val_binary_iou: 0.7907 - val_true_positives: 40174352.0000 - val_false_positives: 7346762.0000 - val_true_negatives: 53591184.0000 - val_false_negatives: 4859408.0000 - val_precision: 0.8454 - val_recall: 0.8921\n",
      "Epoch 73/100\n",
      "398/398 [==============================] - ETA: 0s - loss: 0.0682 - accuracy: 0.8912 - binary_iou: 0.7977 - true_positives: 111957296.0000 - false_positives: 15631962.0000 - true_negatives: 172790976.0000 - false_negatives: 19140550.0000 - precision: 0.8775 - recall: 0.8540"
     ]
    },
    {
     "name": "stderr",
     "output_type": "stream",
     "text": [
      "WARNING:absl:Found untraced functions such as _jit_compiled_convolution_op, _jit_compiled_convolution_op, _jit_compiled_convolution_op, _jit_compiled_convolution_op, _jit_compiled_convolution_op while saving (showing 5 of 64). These functions will not be directly callable after loading.\n"
     ]
    },
    {
     "name": "stdout",
     "output_type": "stream",
     "text": [
      "INFO:tensorflow:Assets written to: ../saved_model_FT_test\\FT_test_AVG_no_of_frozen_layers_183_e100\\assets\n"
     ]
    },
    {
     "name": "stderr",
     "output_type": "stream",
     "text": [
      "INFO:tensorflow:Assets written to: ../saved_model_FT_test\\FT_test_AVG_no_of_frozen_layers_183_e100\\assets\n"
     ]
    },
    {
     "name": "stdout",
     "output_type": "stream",
     "text": [
      "398/398 [==============================] - 171s 429ms/step - loss: 0.0682 - accuracy: 0.8912 - binary_iou: 0.7977 - true_positives: 111957296.0000 - false_positives: 15631962.0000 - true_negatives: 172790976.0000 - false_negatives: 19140550.0000 - precision: 0.8775 - recall: 0.8540 - val_loss: 0.0689 - val_accuracy: 0.8901 - val_binary_iou: 0.7975 - val_true_positives: 38453356.0000 - val_false_positives: 4979271.0000 - val_true_negatives: 55869972.0000 - val_false_negatives: 6669114.0000 - val_precision: 0.8854 - val_recall: 0.8522\n",
      "Epoch 74/100\n",
      "398/398 [==============================] - 160s 402ms/step - loss: 0.0682 - accuracy: 0.8911 - binary_iou: 0.7976 - true_positives: 112027632.0000 - false_positives: 15746636.0000 - true_negatives: 172694192.0000 - false_negatives: 19052250.0000 - precision: 0.8768 - recall: 0.8547 - val_loss: 0.0703 - val_accuracy: 0.8876 - val_binary_iou: 0.7944 - val_true_positives: 39253120.0000 - val_false_positives: 6203339.0000 - val_true_negatives: 54812624.0000 - val_false_negatives: 5702634.0000 - val_precision: 0.8635 - val_recall: 0.8732\n",
      "Epoch 75/100\n",
      "398/398 [==============================] - 134s 336ms/step - loss: 0.0678 - accuracy: 0.8924 - binary_iou: 0.7998 - true_positives: 112174480.0000 - false_positives: 15427345.0000 - true_negatives: 172958144.0000 - false_negatives: 18960760.0000 - precision: 0.8791 - recall: 0.8554 - val_loss: 0.0714 - val_accuracy: 0.8860 - val_binary_iou: 0.7922 - val_true_positives: 39661624.0000 - val_false_positives: 6618287.0000 - val_true_negatives: 54230892.0000 - val_false_negatives: 5460903.0000 - val_precision: 0.8570 - val_recall: 0.8790\n",
      "Epoch 76/100\n",
      "398/398 [==============================] - 134s 337ms/step - loss: 0.0676 - accuracy: 0.8918 - binary_iou: 0.7988 - true_positives: 112268576.0000 - false_positives: 15669733.0000 - true_negatives: 172670096.0000 - false_negatives: 18912436.0000 - precision: 0.8775 - recall: 0.8558 - val_loss: 0.0768 - val_accuracy: 0.8799 - val_binary_iou: 0.7831 - val_true_positives: 40321992.0000 - val_false_positives: 7994599.0000 - val_true_negatives: 52923220.0000 - val_false_negatives: 4731924.0000 - val_precision: 0.8345 - val_recall: 0.8950\n",
      "Epoch 77/100\n",
      "398/398 [==============================] - 135s 338ms/step - loss: 0.0672 - accuracy: 0.8930 - binary_iou: 0.8009 - true_positives: 112414688.0000 - false_positives: 15411543.0000 - true_negatives: 172917456.0000 - false_negatives: 18777054.0000 - precision: 0.8794 - recall: 0.8569 - val_loss: 0.1484 - val_accuracy: 0.7818 - val_binary_iou: 0.6113 - val_true_positives: 23371532.0000 - val_false_positives: 1365110.0000 - val_true_negatives: 59475000.0000 - val_false_negatives: 21760066.0000 - val_precision: 0.9448 - val_recall: 0.5179\n",
      "Epoch 78/100\n",
      "398/398 [==============================] - 134s 335ms/step - loss: 0.0670 - accuracy: 0.8930 - binary_iou: 0.8007 - true_positives: 112071688.0000 - false_positives: 15228398.0000 - true_negatives: 173257568.0000 - false_negatives: 18963102.0000 - precision: 0.8804 - recall: 0.8553 - val_loss: 0.0730 - val_accuracy: 0.8837 - val_binary_iou: 0.7859 - val_true_positives: 37128412.0000 - val_false_positives: 4391111.0000 - val_true_negatives: 56520536.0000 - val_false_negatives: 7931644.0000 - val_precision: 0.8942 - val_recall: 0.8240\n",
      "Epoch 79/100\n",
      "398/398 [==============================] - ETA: 0s - loss: 0.0676 - accuracy: 0.8922 - binary_iou: 0.7995 - true_positives: 112183280.0000 - false_positives: 15484272.0000 - true_negatives: 172888128.0000 - false_negatives: 18965140.0000 - precision: 0.8787 - recall: 0.8554"
     ]
    },
    {
     "name": "stderr",
     "output_type": "stream",
     "text": [
      "WARNING:absl:Found untraced functions such as _jit_compiled_convolution_op, _jit_compiled_convolution_op, _jit_compiled_convolution_op, _jit_compiled_convolution_op, _jit_compiled_convolution_op while saving (showing 5 of 64). These functions will not be directly callable after loading.\n"
     ]
    },
    {
     "name": "stdout",
     "output_type": "stream",
     "text": [
      "INFO:tensorflow:Assets written to: ../saved_model_FT_test\\FT_test_AVG_no_of_frozen_layers_183_e100\\assets\n"
     ]
    },
    {
     "name": "stderr",
     "output_type": "stream",
     "text": [
      "INFO:tensorflow:Assets written to: ../saved_model_FT_test\\FT_test_AVG_no_of_frozen_layers_183_e100\\assets\n"
     ]
    },
    {
     "name": "stdout",
     "output_type": "stream",
     "text": [
      "398/398 [==============================] - 170s 427ms/step - loss: 0.0676 - accuracy: 0.8922 - binary_iou: 0.7995 - true_positives: 112183280.0000 - false_positives: 15484272.0000 - true_negatives: 172888128.0000 - false_negatives: 18965140.0000 - precision: 0.8787 - recall: 0.8554 - val_loss: 0.0678 - val_accuracy: 0.8915 - val_binary_iou: 0.7994 - val_true_positives: 38122228.0000 - val_false_positives: 4515762.0000 - val_true_negatives: 56352220.0000 - val_false_negatives: 6981488.0000 - val_precision: 0.8941 - val_recall: 0.8452\n",
      "Epoch 80/100\n",
      "398/398 [==============================] - 133s 333ms/step - loss: 0.0669 - accuracy: 0.8936 - binary_iou: 0.8018 - true_positives: 112442640.0000 - false_positives: 15260840.0000 - true_negatives: 173075456.0000 - false_negatives: 18741888.0000 - precision: 0.8805 - recall: 0.8571 - val_loss: 0.0707 - val_accuracy: 0.8882 - val_binary_iou: 0.7955 - val_true_positives: 39381688.0000 - val_false_positives: 6069700.0000 - val_true_negatives: 54746240.0000 - val_false_negatives: 5774078.0000 - val_precision: 0.8665 - val_recall: 0.8721\n",
      "Epoch 81/100\n",
      "398/398 [==============================] - 134s 336ms/step - loss: 0.0668 - accuracy: 0.8932 - binary_iou: 0.8013 - true_positives: 112449040.0000 - false_positives: 15470578.0000 - true_negatives: 172959840.0000 - false_negatives: 18641352.0000 - precision: 0.8791 - recall: 0.8578 - val_loss: 0.0734 - val_accuracy: 0.8809 - val_binary_iou: 0.7799 - val_true_positives: 35980932.0000 - val_false_positives: 3395829.0000 - val_true_negatives: 57365376.0000 - val_false_negatives: 9229588.0000 - val_precision: 0.9138 - val_recall: 0.7959\n",
      "Epoch 82/100\n",
      "398/398 [==============================] - 134s 335ms/step - loss: 0.0666 - accuracy: 0.8935 - binary_iou: 0.8015 - true_positives: 112170456.0000 - false_positives: 15109560.0000 - true_negatives: 173310432.0000 - false_negatives: 18930238.0000 - precision: 0.8813 - recall: 0.8556 - val_loss: 0.0687 - val_accuracy: 0.8896 - val_binary_iou: 0.7965 - val_true_positives: 38277924.0000 - val_false_positives: 4777362.0000 - val_true_negatives: 55992768.0000 - val_false_negatives: 6923645.0000 - val_precision: 0.8890 - val_recall: 0.8468\n",
      "Epoch 83/100\n",
      "398/398 [==============================] - 134s 336ms/step - loss: 0.0665 - accuracy: 0.8945 - binary_iou: 0.8033 - true_positives: 112567264.0000 - false_positives: 15171494.0000 - true_negatives: 173237200.0000 - false_negatives: 18544780.0000 - precision: 0.8812 - recall: 0.8586 - val_loss: 0.1019 - val_accuracy: 0.8186 - val_binary_iou: 0.6723 - val_true_positives: 27651104.0000 - val_false_positives: 1777387.0000 - val_true_negatives: 59099132.0000 - val_false_negatives: 17444088.0000 - val_precision: 0.9396 - val_recall: 0.6132\n",
      "Epoch 84/100\n",
      "398/398 [==============================] - 134s 336ms/step - loss: 0.0674 - accuracy: 0.8926 - binary_iou: 0.8001 - true_positives: 112299664.0000 - false_positives: 15546087.0000 - true_negatives: 172895488.0000 - false_negatives: 18779640.0000 - precision: 0.8784 - recall: 0.8567 - val_loss: 0.0816 - val_accuracy: 0.8774 - val_binary_iou: 0.7792 - val_true_positives: 40354892.0000 - val_false_positives: 8312571.0000 - val_true_negatives: 52624612.0000 - val_false_negatives: 4679636.0000 - val_precision: 0.8292 - val_recall: 0.8961\n",
      "Epoch 85/100\n",
      "398/398 [==============================] - 134s 336ms/step - loss: 0.0667 - accuracy: 0.8937 - binary_iou: 0.8020 - true_positives: 112282648.0000 - false_positives: 15109516.0000 - true_negatives: 173280112.0000 - false_negatives: 18848368.0000 - precision: 0.8814 - recall: 0.8563 - val_loss: 0.0783 - val_accuracy: 0.8691 - val_binary_iou: 0.7659 - val_true_positives: 39678192.0000 - val_false_positives: 8383734.0000 - val_true_negatives: 52426100.0000 - val_false_negatives: 5483700.0000 - val_precision: 0.8256 - val_recall: 0.8786\n",
      "Epoch 86/100\n",
      "398/398 [==============================] - 134s 336ms/step - loss: 0.0666 - accuracy: 0.8935 - binary_iou: 0.8018 - true_positives: 112706776.0000 - false_positives: 15555337.0000 - true_negatives: 172791440.0000 - false_negatives: 18467180.0000 - precision: 0.8787 - recall: 0.8592 - val_loss: 0.0741 - val_accuracy: 0.8826 - val_binary_iou: 0.7877 - val_true_positives: 40878036.0000 - val_false_positives: 8097197.0000 - val_true_negatives: 52650636.0000 - val_false_negatives: 4345838.0000 - val_precision: 0.8347 - val_recall: 0.9039\n",
      "Epoch 87/100\n",
      "398/398 [==============================] - 134s 336ms/step - loss: 0.0659 - accuracy: 0.8952 - binary_iou: 0.8046 - true_positives: 112822448.0000 - false_positives: 15160487.0000 - true_negatives: 173219936.0000 - false_negatives: 18317834.0000 - precision: 0.8815 - recall: 0.8603 - val_loss: 0.0712 - val_accuracy: 0.8861 - val_binary_iou: 0.7889 - val_true_positives: 36594128.0000 - val_false_positives: 3547294.0000 - val_true_negatives: 57302372.0000 - val_false_negatives: 8527889.0000 - val_precision: 0.9116 - val_recall: 0.8110\n",
      "Epoch 88/100\n",
      "398/398 [==============================] - 134s 336ms/step - loss: 0.0661 - accuracy: 0.8949 - binary_iou: 0.8041 - true_positives: 112634032.0000 - false_positives: 15075881.0000 - true_negatives: 173317312.0000 - false_negatives: 18493656.0000 - precision: 0.8820 - recall: 0.8590 - val_loss: 0.1567 - val_accuracy: 0.7551 - val_binary_iou: 0.5705 - val_true_positives: 20908572.0000 - val_false_positives: 1721498.0000 - val_true_negatives: 59106516.0000 - val_false_negatives: 24235132.0000 - val_precision: 0.9239 - val_recall: 0.4632\n",
      "Epoch 89/100\n",
      "398/398 [==============================] - 134s 336ms/step - loss: 0.0659 - accuracy: 0.8953 - binary_iou: 0.8046 - true_positives: 112573032.0000 - false_positives: 14919423.0000 - true_negatives: 173497088.0000 - false_negatives: 18531148.0000 - precision: 0.8830 - recall: 0.8587 - val_loss: 0.0721 - val_accuracy: 0.8864 - val_binary_iou: 0.7910 - val_true_positives: 37871184.0000 - val_false_positives: 4839935.0000 - val_true_negatives: 56064496.0000 - val_false_negatives: 7196119.0000 - val_precision: 0.8867 - val_recall: 0.8403\n",
      "Epoch 90/100\n",
      "398/398 [==============================] - 134s 336ms/step - loss: 0.0654 - accuracy: 0.8963 - binary_iou: 0.8064 - true_positives: 112841192.0000 - false_positives: 14810634.0000 - true_negatives: 173555312.0000 - false_negatives: 18313536.0000 - precision: 0.8840 - recall: 0.8604 - val_loss: 0.0810 - val_accuracy: 0.8655 - val_binary_iou: 0.7549 - val_true_positives: 35077924.0000 - val_false_positives: 4263421.0000 - val_true_negatives: 56635472.0000 - val_false_negatives: 9994884.0000 - val_precision: 0.8916 - val_recall: 0.7783\n",
      "Epoch 91/100\n",
      "398/398 [==============================] - 134s 337ms/step - loss: 0.0652 - accuracy: 0.8962 - binary_iou: 0.8062 - true_positives: 112972344.0000 - false_positives: 15045884.0000 - true_negatives: 173367568.0000 - false_negatives: 18134990.0000 - precision: 0.8825 - recall: 0.8617 - val_loss: 0.0913 - val_accuracy: 0.8630 - val_binary_iou: 0.7575 - val_true_positives: 40925680.0000 - val_false_positives: 10408766.0000 - val_true_negatives: 50531900.0000 - val_false_negatives: 4105355.0000 - val_precision: 0.7972 - val_recall: 0.9088\n",
      "Epoch 92/100\n",
      "398/398 [==============================] - 134s 335ms/step - loss: 0.0655 - accuracy: 0.8956 - binary_iou: 0.8053 - true_positives: 112770296.0000 - false_positives: 14935553.0000 - true_negatives: 173408240.0000 - false_negatives: 18406754.0000 - precision: 0.8830 - recall: 0.8597 - val_loss: 0.0681 - val_accuracy: 0.8916 - val_binary_iou: 0.7991 - val_true_positives: 37650052.0000 - val_false_positives: 4016793.0000 - val_true_negatives: 56835504.0000 - val_false_negatives: 7469375.0000 - val_precision: 0.9036 - val_recall: 0.8345\n",
      "Epoch 93/100\n",
      "398/398 [==============================] - 134s 336ms/step - loss: 0.0650 - accuracy: 0.8965 - binary_iou: 0.8066 - true_positives: 112672744.0000 - false_positives: 14632333.0000 - true_negatives: 173781648.0000 - false_negatives: 18434098.0000 - precision: 0.8851 - recall: 0.8594 - val_loss: 0.0741 - val_accuracy: 0.8843 - val_binary_iou: 0.7891 - val_true_positives: 39229924.0000 - val_false_positives: 6452676.0000 - val_true_negatives: 54484932.0000 - val_false_negatives: 5804178.0000 - val_precision: 0.8587 - val_recall: 0.8711\n",
      "Epoch 94/100\n",
      "398/398 [==============================] - 133s 335ms/step - loss: 0.0654 - accuracy: 0.8961 - binary_iou: 0.8061 - true_positives: 112790800.0000 - false_positives: 14832199.0000 - true_negatives: 173542400.0000 - false_negatives: 18355386.0000 - precision: 0.8838 - recall: 0.8600 - val_loss: 0.0749 - val_accuracy: 0.8854 - val_binary_iou: 0.7920 - val_true_positives: 40681160.0000 - val_false_positives: 7715254.0000 - val_true_negatives: 53141616.0000 - val_false_negatives: 4433672.0000 - val_precision: 0.8406 - val_recall: 0.9017\n",
      "Epoch 95/100\n",
      "398/398 [==============================] - 133s 335ms/step - loss: 0.0653 - accuracy: 0.8962 - binary_iou: 0.8061 - true_positives: 112847560.0000 - false_positives: 14876293.0000 - true_negatives: 173496784.0000 - false_negatives: 18300084.0000 - precision: 0.8835 - recall: 0.8605 - val_loss: 0.0764 - val_accuracy: 0.8787 - val_binary_iou: 0.7810 - val_true_positives: 40074776.0000 - val_false_positives: 7857041.0000 - val_true_negatives: 53039168.0000 - val_false_negatives: 5000726.0000 - val_precision: 0.8361 - val_recall: 0.8891\n",
      "Epoch 96/100\n",
      "398/398 [==============================] - ETA: 0s - loss: 0.0654 - accuracy: 0.8957 - binary_iou: 0.8054 - true_positives: 112712896.0000 - false_positives: 14928653.0000 - true_negatives: 173495776.0000 - false_negatives: 18383450.0000 - precision: 0.8830 - recall: 0.8598"
     ]
    },
    {
     "name": "stderr",
     "output_type": "stream",
     "text": [
      "WARNING:absl:Found untraced functions such as _jit_compiled_convolution_op, _jit_compiled_convolution_op, _jit_compiled_convolution_op, _jit_compiled_convolution_op, _jit_compiled_convolution_op while saving (showing 5 of 64). These functions will not be directly callable after loading.\n"
     ]
    },
    {
     "name": "stdout",
     "output_type": "stream",
     "text": [
      "INFO:tensorflow:Assets written to: ../saved_model_FT_test\\FT_test_AVG_no_of_frozen_layers_183_e100\\assets\n"
     ]
    },
    {
     "name": "stderr",
     "output_type": "stream",
     "text": [
      "INFO:tensorflow:Assets written to: ../saved_model_FT_test\\FT_test_AVG_no_of_frozen_layers_183_e100\\assets\n"
     ]
    },
    {
     "name": "stdout",
     "output_type": "stream",
     "text": [
      "398/398 [==============================] - 169s 425ms/step - loss: 0.0654 - accuracy: 0.8957 - binary_iou: 0.8054 - true_positives: 112712896.0000 - false_positives: 14928653.0000 - true_negatives: 173495776.0000 - false_negatives: 18383450.0000 - precision: 0.8830 - recall: 0.8598 - val_loss: 0.0676 - val_accuracy: 0.8920 - val_binary_iou: 0.8012 - val_true_positives: 39038164.0000 - val_false_positives: 5411304.0000 - val_true_negatives: 55491768.0000 - val_false_negatives: 6030472.0000 - val_precision: 0.8783 - val_recall: 0.8662\n",
      "Epoch 97/100\n",
      "398/398 [==============================] - 133s 334ms/step - loss: 0.0649 - accuracy: 0.8968 - binary_iou: 0.8072 - true_positives: 112836920.0000 - false_positives: 14683751.0000 - true_negatives: 173715984.0000 - false_negatives: 18284156.0000 - precision: 0.8849 - recall: 0.8606 - val_loss: 0.0736 - val_accuracy: 0.8828 - val_binary_iou: 0.7850 - val_true_positives: 37599728.0000 - val_false_positives: 4910598.0000 - val_true_negatives: 55953576.0000 - val_false_negatives: 7507811.0000 - val_precision: 0.8845 - val_recall: 0.8336\n",
      "Epoch 98/100\n",
      "398/398 [==============================] - 134s 337ms/step - loss: 0.0644 - accuracy: 0.8975 - binary_iou: 0.8083 - true_positives: 113073528.0000 - false_positives: 14661790.0000 - true_negatives: 173689344.0000 - false_negatives: 18096160.0000 - precision: 0.8852 - recall: 0.8620 - val_loss: 0.0808 - val_accuracy: 0.8723 - val_binary_iou: 0.7642 - val_true_positives: 34353932.0000 - val_false_positives: 2753126.0000 - val_true_negatives: 58084044.0000 - val_false_negatives: 10780616.0000 - val_precision: 0.9258 - val_recall: 0.7611\n",
      "Epoch 99/100\n",
      "398/398 [==============================] - 134s 336ms/step - loss: 0.0650 - accuracy: 0.8971 - binary_iou: 0.8076 - true_positives: 112894736.0000 - false_positives: 14678940.0000 - true_negatives: 173739488.0000 - false_negatives: 18207648.0000 - precision: 0.8849 - recall: 0.8611 - val_loss: 0.0691 - val_accuracy: 0.8917 - val_binary_iou: 0.8007 - val_true_positives: 39146796.0000 - val_false_positives: 5586695.0000 - val_true_negatives: 55345212.0000 - val_false_negatives: 5892998.0000 - val_precision: 0.8751 - val_recall: 0.8692\n",
      "Epoch 100/100\n",
      "398/398 [==============================] - 134s 336ms/step - loss: 0.0648 - accuracy: 0.8970 - binary_iou: 0.8074 - true_positives: 112868432.0000 - false_positives: 14630436.0000 - true_negatives: 173732256.0000 - false_negatives: 18289650.0000 - precision: 0.8853 - recall: 0.8606 - val_loss: 0.0872 - val_accuracy: 0.8663 - val_binary_iou: 0.7620 - val_true_positives: 40245384.0000 - val_false_positives: 9343865.0000 - val_true_negatives: 51557684.0000 - val_false_negatives: 4824793.0000 - val_precision: 0.8116 - val_recall: 0.8929\n",
      "132/132 [==============================] - 45s 317ms/step - loss: 212.9752 - accuracy: 0.8897 - binary_iou: 0.7965 - true_positives: 38099952.0000 - false_positives: 5604668.0000 - true_negatives: 56180072.0000 - false_negatives: 6087014.0000 - precision: 0.8718 - recall: 0.8622\n",
      "189\n",
      "188\n",
      "187\n",
      "186\n",
      "185\n",
      "184\n",
      "183\n",
      "182\n",
      "181\n",
      "180\n",
      "179\n",
      "178\n",
      "177\n",
      "176\n",
      "175\n",
      "174\n",
      "173\n",
      "172\n",
      "171\n",
      "170\n",
      "169\n",
      "168\n",
      "167\n",
      "166\n",
      "165\n",
      "164\n",
      "163\n",
      "162\n",
      "161\n",
      "160\n",
      "159\n",
      "158\n",
      "157\n",
      "156\n",
      "155\n",
      "154\n",
      "153\n",
      "152\n",
      "151\n",
      "150\n",
      "149\n",
      "148\n",
      "147\n",
      "146\n",
      "145\n",
      "144\n",
      "143\n",
      "142\n",
      "141\n",
      "140\n",
      "139\n",
      "138\n",
      "137\n",
      "136\n",
      "135\n",
      "134\n",
      "133\n",
      "132\n",
      "131\n",
      "130\n",
      "129\n",
      "128\n",
      "127\n",
      "126\n",
      "125\n",
      "124\n",
      "123\n",
      "122\n",
      "121\n",
      "120\n",
      "119\n",
      "118\n",
      "117\n",
      "116\n",
      "115\n",
      "114\n",
      "113\n",
      "112\n",
      "111\n",
      "110\n",
      "109\n",
      "108\n",
      "107\n",
      "106\n",
      "105\n",
      "104\n",
      "103\n",
      "102\n",
      "101\n",
      "100\n",
      "99\n",
      "98\n",
      "97\n",
      "96\n",
      "95\n",
      "94\n",
      "93\n",
      "92\n",
      "91\n",
      "90\n",
      "89\n",
      "88\n",
      "87\n",
      "86\n",
      "85\n",
      "84\n",
      "83\n",
      "82\n",
      "81\n",
      "80\n",
      "79\n",
      "78\n",
      "77\n",
      "76\n",
      "75\n",
      "74\n",
      "73\n",
      "72\n",
      "71\n",
      "70\n",
      "69\n",
      "68\n",
      "67\n",
      "66\n",
      "65\n",
      "64\n",
      "63\n",
      "62\n",
      "61\n",
      "60\n",
      "59\n",
      "58\n",
      "57\n",
      "56\n",
      "55\n",
      "54\n",
      "53\n",
      "52\n",
      "51\n",
      "50\n",
      "49\n",
      "48\n",
      "47\n",
      "46\n",
      "45\n",
      "44\n",
      "43\n",
      "42\n",
      "41\n",
      "40\n",
      "39\n",
      "38\n",
      "37\n",
      "36\n",
      "35\n",
      "34\n",
      "33\n",
      "32\n",
      "31\n",
      "30\n",
      "29\n",
      "28\n",
      "27\n",
      "26\n",
      "25\n",
      "24\n",
      "23\n",
      "22\n",
      "21\n",
      "20\n",
      "19\n",
      "18\n",
      "17\n",
      "16\n",
      "15\n",
      "14\n",
      "13\n",
      "12\n",
      "11\n",
      "10\n",
      "9\n",
      "8\n",
      "7\n",
      "6\n",
      "5\n",
      "4\n",
      "3\n",
      "2\n",
      "1\n",
      "0\n",
      "-1\n",
      "Epoch 1/100\n",
      "398/398 [==============================] - ETA: 0s - loss: 0.1136 - accuracy: 0.7974 - binary_iou: 0.6551 - true_positives: 98326080.0000 - false_positives: 32122076.0000 - true_negatives: 156454464.0000 - false_negatives: 32618228.0000 - precision: 0.7538 - recall: 0.7509"
     ]
    },
    {
     "name": "stderr",
     "output_type": "stream",
     "text": [
      "WARNING:absl:Found untraced functions such as _jit_compiled_convolution_op, _jit_compiled_convolution_op, _jit_compiled_convolution_op, _jit_compiled_convolution_op, _jit_compiled_convolution_op while saving (showing 5 of 64). These functions will not be directly callable after loading.\n"
     ]
    },
    {
     "name": "stdout",
     "output_type": "stream",
     "text": [
      "INFO:tensorflow:Assets written to: ../saved_model_FT_test\\FT_test_AVG_no_of_frozen_layers_190_e100\\assets\n"
     ]
    },
    {
     "name": "stderr",
     "output_type": "stream",
     "text": [
      "INFO:tensorflow:Assets written to: ../saved_model_FT_test\\FT_test_AVG_no_of_frozen_layers_190_e100\\assets\n"
     ]
    },
    {
     "name": "stdout",
     "output_type": "stream",
     "text": [
      "398/398 [==============================] - 185s 442ms/step - loss: 0.1136 - accuracy: 0.7974 - binary_iou: 0.6551 - true_positives: 98326080.0000 - false_positives: 32122076.0000 - true_negatives: 156454464.0000 - false_negatives: 32618228.0000 - precision: 0.7538 - recall: 0.7509 - val_loss: 0.1105 - val_accuracy: 0.8061 - val_binary_iou: 0.6605 - val_true_positives: 29558962.0000 - val_false_positives: 5074877.0000 - val_true_negatives: 55861256.0000 - val_false_negatives: 15476612.0000 - val_precision: 0.8535 - val_recall: 0.6563\n",
      "Epoch 2/100\n",
      "398/398 [==============================] - 137s 344ms/step - loss: 0.0969 - accuracy: 0.8330 - binary_iou: 0.7067 - true_positives: 103866728.0000 - false_positives: 26122214.0000 - true_negatives: 162309504.0000 - false_negatives: 27222196.0000 - precision: 0.7990 - recall: 0.7923 - val_loss: 0.1090 - val_accuracy: 0.7971 - val_binary_iou: 0.6466 - val_true_positives: 28650442.0000 - val_false_positives: 5022378.0000 - val_true_negatives: 55819924.0000 - val_false_negatives: 16478962.0000 - val_precision: 0.8508 - val_recall: 0.6349\n",
      "Epoch 3/100\n",
      "398/398 [==============================] - ETA: 0s - loss: 0.0945 - accuracy: 0.8377 - binary_iou: 0.7135 - true_positives: 104209056.0000 - false_positives: 24911088.0000 - true_negatives: 163465440.0000 - false_negatives: 26935170.0000 - precision: 0.8071 - recall: 0.7946"
     ]
    },
    {
     "name": "stderr",
     "output_type": "stream",
     "text": [
      "WARNING:absl:Found untraced functions such as _jit_compiled_convolution_op, _jit_compiled_convolution_op, _jit_compiled_convolution_op, _jit_compiled_convolution_op, _jit_compiled_convolution_op while saving (showing 5 of 64). These functions will not be directly callable after loading.\n"
     ]
    },
    {
     "name": "stdout",
     "output_type": "stream",
     "text": [
      "INFO:tensorflow:Assets written to: ../saved_model_FT_test\\FT_test_AVG_no_of_frozen_layers_190_e100\\assets\n"
     ]
    },
    {
     "name": "stderr",
     "output_type": "stream",
     "text": [
      "INFO:tensorflow:Assets written to: ../saved_model_FT_test\\FT_test_AVG_no_of_frozen_layers_190_e100\\assets\n"
     ]
    },
    {
     "name": "stdout",
     "output_type": "stream",
     "text": [
      "398/398 [==============================] - 176s 441ms/step - loss: 0.0945 - accuracy: 0.8377 - binary_iou: 0.7135 - true_positives: 104209056.0000 - false_positives: 24911088.0000 - true_negatives: 163465440.0000 - false_negatives: 26935170.0000 - precision: 0.8071 - recall: 0.7946 - val_loss: 0.1040 - val_accuracy: 0.8304 - val_binary_iou: 0.7052 - val_true_positives: 36088200.0000 - val_false_positives: 8909478.0000 - val_true_negatives: 51910856.0000 - val_false_negatives: 9063180.0000 - val_precision: 0.8020 - val_recall: 0.7993\n",
      "Epoch 4/100\n",
      "398/398 [==============================] - ETA: 0s - loss: 0.0933 - accuracy: 0.8420 - binary_iou: 0.7202 - true_positives: 105374728.0000 - false_positives: 24733490.0000 - true_negatives: 163660432.0000 - false_negatives: 25752116.0000 - precision: 0.8099 - recall: 0.8036"
     ]
    },
    {
     "name": "stderr",
     "output_type": "stream",
     "text": [
      "WARNING:absl:Found untraced functions such as _jit_compiled_convolution_op, _jit_compiled_convolution_op, _jit_compiled_convolution_op, _jit_compiled_convolution_op, _jit_compiled_convolution_op while saving (showing 5 of 64). These functions will not be directly callable after loading.\n"
     ]
    },
    {
     "name": "stdout",
     "output_type": "stream",
     "text": [
      "INFO:tensorflow:Assets written to: ../saved_model_FT_test\\FT_test_AVG_no_of_frozen_layers_190_e100\\assets\n"
     ]
    },
    {
     "name": "stderr",
     "output_type": "stream",
     "text": [
      "INFO:tensorflow:Assets written to: ../saved_model_FT_test\\FT_test_AVG_no_of_frozen_layers_190_e100\\assets\n"
     ]
    },
    {
     "name": "stdout",
     "output_type": "stream",
     "text": [
      "398/398 [==============================] - 175s 440ms/step - loss: 0.0933 - accuracy: 0.8420 - binary_iou: 0.7202 - true_positives: 105374728.0000 - false_positives: 24733490.0000 - true_negatives: 163660432.0000 - false_negatives: 25752116.0000 - precision: 0.8099 - recall: 0.8036 - val_loss: 0.0947 - val_accuracy: 0.8398 - val_binary_iou: 0.7195 - val_true_positives: 36842232.0000 - val_false_positives: 8677888.0000 - val_true_negatives: 52152584.0000 - val_false_negatives: 8299018.0000 - val_precision: 0.8094 - val_recall: 0.8162\n",
      "Epoch 5/100\n",
      "398/398 [==============================] - 137s 344ms/step - loss: 0.0914 - accuracy: 0.8468 - binary_iou: 0.7275 - true_positives: 106150000.0000 - false_positives: 23878964.0000 - true_negatives: 164412704.0000 - false_negatives: 25079016.0000 - precision: 0.8164 - recall: 0.8089 - val_loss: 0.1028 - val_accuracy: 0.8082 - val_binary_iou: 0.6639 - val_true_positives: 29808732.0000 - val_false_positives: 5023932.0000 - val_true_negatives: 55838920.0000 - val_false_negatives: 15300131.0000 - val_precision: 0.8558 - val_recall: 0.6608\n",
      "Epoch 6/100\n",
      "398/398 [==============================] - ETA: 0s - loss: 0.0905 - accuracy: 0.8479 - binary_iou: 0.7292 - true_positives: 106345344.0000 - false_positives: 23792932.0000 - true_negatives: 164588064.0000 - false_negatives: 24794420.0000 - precision: 0.8172 - recall: 0.8109"
     ]
    },
    {
     "name": "stderr",
     "output_type": "stream",
     "text": [
      "WARNING:absl:Found untraced functions such as _jit_compiled_convolution_op, _jit_compiled_convolution_op, _jit_compiled_convolution_op, _jit_compiled_convolution_op, _jit_compiled_convolution_op while saving (showing 5 of 64). These functions will not be directly callable after loading.\n"
     ]
    },
    {
     "name": "stdout",
     "output_type": "stream",
     "text": [
      "INFO:tensorflow:Assets written to: ../saved_model_FT_test\\FT_test_AVG_no_of_frozen_layers_190_e100\\assets\n"
     ]
    },
    {
     "name": "stderr",
     "output_type": "stream",
     "text": [
      "INFO:tensorflow:Assets written to: ../saved_model_FT_test\\FT_test_AVG_no_of_frozen_layers_190_e100\\assets\n"
     ]
    },
    {
     "name": "stdout",
     "output_type": "stream",
     "text": [
      "398/398 [==============================] - 175s 440ms/step - loss: 0.0905 - accuracy: 0.8479 - binary_iou: 0.7292 - true_positives: 106345344.0000 - false_positives: 23792932.0000 - true_negatives: 164588064.0000 - false_negatives: 24794420.0000 - precision: 0.8172 - recall: 0.8109 - val_loss: 0.0844 - val_accuracy: 0.8593 - val_binary_iou: 0.7474 - val_true_positives: 36334244.0000 - val_false_positives: 6082476.0000 - val_true_negatives: 54722900.0000 - val_false_negatives: 8832084.0000 - val_precision: 0.8566 - val_recall: 0.8045\n",
      "Epoch 7/100\n",
      "398/398 [==============================] - 139s 349ms/step - loss: 0.0889 - accuracy: 0.8510 - binary_iou: 0.7339 - true_positives: 106864624.0000 - false_positives: 23327616.0000 - true_negatives: 165044144.0000 - false_negatives: 24284384.0000 - precision: 0.8208 - recall: 0.8148 - val_loss: 0.1001 - val_accuracy: 0.8204 - val_binary_iou: 0.6782 - val_true_positives: 29000756.0000 - val_false_positives: 3039177.0000 - val_true_negatives: 57938184.0000 - val_false_negatives: 15993596.0000 - val_precision: 0.9051 - val_recall: 0.6445\n",
      "Epoch 8/100\n",
      "398/398 [==============================] - 138s 347ms/step - loss: 0.0877 - accuracy: 0.8533 - binary_iou: 0.7374 - true_positives: 107015776.0000 - false_positives: 22760176.0000 - true_negatives: 165621696.0000 - false_negatives: 24123068.0000 - precision: 0.8246 - recall: 0.8160 - val_loss: 0.0992 - val_accuracy: 0.8232 - val_binary_iou: 0.6827 - val_true_positives: 29234104.0000 - val_false_positives: 2876097.0000 - val_true_negatives: 58006276.0000 - val_false_negatives: 15855237.0000 - val_precision: 0.9104 - val_recall: 0.6484\n",
      "Epoch 9/100\n",
      "398/398 [==============================] - 138s 347ms/step - loss: 0.0868 - accuracy: 0.8551 - binary_iou: 0.7402 - true_positives: 107298048.0000 - false_positives: 22419816.0000 - true_negatives: 165917520.0000 - false_negatives: 23885356.0000 - precision: 0.8272 - recall: 0.8179 - val_loss: 0.0907 - val_accuracy: 0.8447 - val_binary_iou: 0.7263 - val_true_positives: 36638376.0000 - val_false_positives: 7956607.0000 - val_true_negatives: 52870960.0000 - val_false_negatives: 8505777.0000 - val_precision: 0.8216 - val_recall: 0.8116\n",
      "Epoch 10/100\n",
      "398/398 [==============================] - 138s 347ms/step - loss: 0.0860 - accuracy: 0.8567 - binary_iou: 0.7427 - true_positives: 107560656.0000 - false_positives: 22263318.0000 - true_negatives: 166169616.0000 - false_negatives: 23527152.0000 - precision: 0.8285 - recall: 0.8205 - val_loss: 0.0871 - val_accuracy: 0.8539 - val_binary_iou: 0.7427 - val_true_positives: 39383768.0000 - val_false_positives: 9782407.0000 - val_true_negatives: 51109704.0000 - val_false_negatives: 5695821.0000 - val_precision: 0.8010 - val_recall: 0.8736\n",
      "Epoch 11/100\n",
      "398/398 [==============================] - 139s 349ms/step - loss: 0.0840 - accuracy: 0.8601 - binary_iou: 0.7481 - true_positives: 108232024.0000 - false_positives: 21758164.0000 - true_negatives: 166597248.0000 - false_negatives: 22933332.0000 - precision: 0.8326 - recall: 0.8252 - val_loss: 0.0899 - val_accuracy: 0.8479 - val_binary_iou: 0.7261 - val_true_positives: 33317968.0000 - val_false_positives: 4355052.0000 - val_true_negatives: 56538512.0000 - val_false_negatives: 11760183.0000 - val_precision: 0.8844 - val_recall: 0.7391\n",
      "Epoch 12/100\n",
      "398/398 [==============================] - ETA: 0s - loss: 0.0836 - accuracy: 0.8615 - binary_iou: 0.7502 - true_positives: 108323264.0000 - false_positives: 21464682.0000 - true_negatives: 166940784.0000 - false_negatives: 22792124.0000 - precision: 0.8346 - recall: 0.8262"
     ]
    },
    {
     "name": "stderr",
     "output_type": "stream",
     "text": [
      "WARNING:absl:Found untraced functions such as _jit_compiled_convolution_op, _jit_compiled_convolution_op, _jit_compiled_convolution_op, _jit_compiled_convolution_op, _jit_compiled_convolution_op while saving (showing 5 of 64). These functions will not be directly callable after loading.\n"
     ]
    },
    {
     "name": "stdout",
     "output_type": "stream",
     "text": [
      "INFO:tensorflow:Assets written to: ../saved_model_FT_test\\FT_test_AVG_no_of_frozen_layers_190_e100\\assets\n"
     ]
    },
    {
     "name": "stderr",
     "output_type": "stream",
     "text": [
      "INFO:tensorflow:Assets written to: ../saved_model_FT_test\\FT_test_AVG_no_of_frozen_layers_190_e100\\assets\n"
     ]
    },
    {
     "name": "stdout",
     "output_type": "stream",
     "text": [
      "398/398 [==============================] - 176s 442ms/step - loss: 0.0836 - accuracy: 0.8615 - binary_iou: 0.7502 - true_positives: 108323264.0000 - false_positives: 21464682.0000 - true_negatives: 166940784.0000 - false_negatives: 22792124.0000 - precision: 0.8346 - recall: 0.8262 - val_loss: 0.0843 - val_accuracy: 0.8626 - val_binary_iou: 0.7532 - val_true_positives: 36904740.0000 - val_false_positives: 6333535.0000 - val_true_negatives: 54509848.0000 - val_false_negatives: 8223592.0000 - val_precision: 0.8535 - val_recall: 0.8178\n",
      "Epoch 13/100\n",
      "398/398 [==============================] - 139s 348ms/step - loss: 0.0827 - accuracy: 0.8639 - binary_iou: 0.7537 - true_positives: 108190992.0000 - false_positives: 20585124.0000 - true_negatives: 167837744.0000 - false_negatives: 22906836.0000 - precision: 0.8401 - recall: 0.8253 - val_loss: 0.0861 - val_accuracy: 0.8567 - val_binary_iou: 0.7439 - val_true_positives: 36617192.0000 - val_false_positives: 6830996.0000 - val_true_negatives: 54164012.0000 - val_false_negatives: 8359509.0000 - val_precision: 0.8428 - val_recall: 0.8141\n",
      "Epoch 14/100\n",
      "398/398 [==============================] - ETA: 0s - loss: 0.0819 - accuracy: 0.8642 - binary_iou: 0.7545 - true_positives: 108930208.0000 - false_positives: 21142038.0000 - true_negatives: 167195552.0000 - false_negatives: 22252968.0000 - precision: 0.8375 - recall: 0.8304"
     ]
    },
    {
     "name": "stderr",
     "output_type": "stream",
     "text": [
      "WARNING:absl:Found untraced functions such as _jit_compiled_convolution_op, _jit_compiled_convolution_op, _jit_compiled_convolution_op, _jit_compiled_convolution_op, _jit_compiled_convolution_op while saving (showing 5 of 64). These functions will not be directly callable after loading.\n"
     ]
    },
    {
     "name": "stdout",
     "output_type": "stream",
     "text": [
      "INFO:tensorflow:Assets written to: ../saved_model_FT_test\\FT_test_AVG_no_of_frozen_layers_190_e100\\assets\n"
     ]
    },
    {
     "name": "stderr",
     "output_type": "stream",
     "text": [
      "INFO:tensorflow:Assets written to: ../saved_model_FT_test\\FT_test_AVG_no_of_frozen_layers_190_e100\\assets\n"
     ]
    },
    {
     "name": "stdout",
     "output_type": "stream",
     "text": [
      "398/398 [==============================] - 177s 445ms/step - loss: 0.0819 - accuracy: 0.8642 - binary_iou: 0.7545 - true_positives: 108930208.0000 - false_positives: 21142038.0000 - true_negatives: 167195552.0000 - false_negatives: 22252968.0000 - precision: 0.8375 - recall: 0.8304 - val_loss: 0.0832 - val_accuracy: 0.8657 - val_binary_iou: 0.7568 - val_true_positives: 36133160.0000 - val_false_positives: 5289682.0000 - val_true_negatives: 55606572.0000 - val_false_negatives: 8942304.0000 - val_precision: 0.8723 - val_recall: 0.8016\n",
      "Epoch 15/100\n",
      "398/398 [==============================] - 139s 349ms/step - loss: 0.0805 - accuracy: 0.8679 - binary_iou: 0.7603 - true_positives: 109205312.0000 - false_positives: 20384652.0000 - true_negatives: 168115712.0000 - false_negatives: 21815188.0000 - precision: 0.8427 - recall: 0.8335 - val_loss: 0.0826 - val_accuracy: 0.8640 - val_binary_iou: 0.7537 - val_true_positives: 35741368.0000 - val_false_positives: 5012108.0000 - val_true_negatives: 55818184.0000 - val_false_negatives: 9400030.0000 - val_precision: 0.8770 - val_recall: 0.7918\n",
      "Epoch 16/100\n",
      "398/398 [==============================] - 139s 348ms/step - loss: 0.0796 - accuracy: 0.8695 - binary_iou: 0.7628 - true_positives: 109519336.0000 - false_positives: 20095204.0000 - true_negatives: 168288400.0000 - false_negatives: 21617852.0000 - precision: 0.8450 - recall: 0.8352 - val_loss: 0.0904 - val_accuracy: 0.8553 - val_binary_iou: 0.7370 - val_true_positives: 33358712.0000 - val_false_positives: 3548969.0000 - val_true_negatives: 57280136.0000 - val_false_negatives: 11783893.0000 - val_precision: 0.9038 - val_recall: 0.7390\n",
      "Epoch 17/100\n",
      "398/398 [==============================] - 138s 348ms/step - loss: 0.0802 - accuracy: 0.8684 - binary_iou: 0.7611 - true_positives: 109389072.0000 - false_positives: 20335696.0000 - true_negatives: 168089696.0000 - false_negatives: 21706340.0000 - precision: 0.8432 - recall: 0.8344 - val_loss: 0.0819 - val_accuracy: 0.8643 - val_binary_iou: 0.7543 - val_true_positives: 35849168.0000 - val_false_positives: 5100314.0000 - val_true_negatives: 55738372.0000 - val_false_negatives: 9283861.0000 - val_precision: 0.8754 - val_recall: 0.7943\n",
      "Epoch 18/100\n",
      "398/398 [==============================] - 138s 347ms/step - loss: 0.0787 - accuracy: 0.8711 - binary_iou: 0.7654 - true_positives: 109737320.0000 - false_positives: 19834218.0000 - true_negatives: 168589664.0000 - false_negatives: 21359514.0000 - precision: 0.8469 - recall: 0.8371 - val_loss: 0.0840 - val_accuracy: 0.8606 - val_binary_iou: 0.7474 - val_true_positives: 34968736.0000 - val_false_positives: 4551350.0000 - val_true_negatives: 56227608.0000 - val_false_negatives: 10224023.0000 - val_precision: 0.8848 - val_recall: 0.7738\n",
      "Epoch 19/100\n",
      "398/398 [==============================] - ETA: 0s - loss: 0.0781 - accuracy: 0.8722 - binary_iou: 0.7672 - true_positives: 110207600.0000 - false_positives: 19916546.0000 - true_negatives: 168471104.0000 - false_negatives: 20925544.0000 - precision: 0.8469 - recall: 0.8404"
     ]
    },
    {
     "name": "stderr",
     "output_type": "stream",
     "text": [
      "WARNING:absl:Found untraced functions such as _jit_compiled_convolution_op, _jit_compiled_convolution_op, _jit_compiled_convolution_op, _jit_compiled_convolution_op, _jit_compiled_convolution_op while saving (showing 5 of 64). These functions will not be directly callable after loading.\n"
     ]
    },
    {
     "name": "stdout",
     "output_type": "stream",
     "text": [
      "INFO:tensorflow:Assets written to: ../saved_model_FT_test\\FT_test_AVG_no_of_frozen_layers_190_e100\\assets\n"
     ]
    },
    {
     "name": "stderr",
     "output_type": "stream",
     "text": [
      "INFO:tensorflow:Assets written to: ../saved_model_FT_test\\FT_test_AVG_no_of_frozen_layers_190_e100\\assets\n"
     ]
    },
    {
     "name": "stdout",
     "output_type": "stream",
     "text": [
      "398/398 [==============================] - 175s 440ms/step - loss: 0.0781 - accuracy: 0.8722 - binary_iou: 0.7672 - true_positives: 110207600.0000 - false_positives: 19916546.0000 - true_negatives: 168471104.0000 - false_negatives: 20925544.0000 - precision: 0.8469 - recall: 0.8404 - val_loss: 0.0795 - val_accuracy: 0.8686 - val_binary_iou: 0.7619 - val_true_positives: 36683320.0000 - val_false_positives: 5540348.0000 - val_true_negatives: 55363864.0000 - val_false_negatives: 8384161.0000 - val_precision: 0.8688 - val_recall: 0.8140\n",
      "Epoch 20/100\n",
      "398/398 [==============================] - 139s 348ms/step - loss: 0.0776 - accuracy: 0.8728 - binary_iou: 0.7680 - true_positives: 109780352.0000 - false_positives: 19325732.0000 - true_negatives: 169090848.0000 - false_negatives: 21323936.0000 - precision: 0.8503 - recall: 0.8374 - val_loss: 0.0809 - val_accuracy: 0.8656 - val_binary_iou: 0.7602 - val_true_positives: 39312376.0000 - val_false_positives: 8557187.0000 - val_true_negatives: 52416080.0000 - val_false_negatives: 5686077.0000 - val_precision: 0.8212 - val_recall: 0.8736\n",
      "Epoch 21/100\n",
      "398/398 [==============================] - ETA: 0s - loss: 0.0763 - accuracy: 0.8761 - binary_iou: 0.7733 - true_positives: 110311784.0000 - false_positives: 18727964.0000 - true_negatives: 169617920.0000 - false_negatives: 20863094.0000 - precision: 0.8549 - recall: 0.8410"
     ]
    },
    {
     "name": "stderr",
     "output_type": "stream",
     "text": [
      "WARNING:absl:Found untraced functions such as _jit_compiled_convolution_op, _jit_compiled_convolution_op, _jit_compiled_convolution_op, _jit_compiled_convolution_op, _jit_compiled_convolution_op while saving (showing 5 of 64). These functions will not be directly callable after loading.\n"
     ]
    },
    {
     "name": "stdout",
     "output_type": "stream",
     "text": [
      "INFO:tensorflow:Assets written to: ../saved_model_FT_test\\FT_test_AVG_no_of_frozen_layers_190_e100\\assets\n"
     ]
    },
    {
     "name": "stderr",
     "output_type": "stream",
     "text": [
      "INFO:tensorflow:Assets written to: ../saved_model_FT_test\\FT_test_AVG_no_of_frozen_layers_190_e100\\assets\n"
     ]
    },
    {
     "name": "stdout",
     "output_type": "stream",
     "text": [
      "398/398 [==============================] - 177s 444ms/step - loss: 0.0763 - accuracy: 0.8761 - binary_iou: 0.7733 - true_positives: 110311784.0000 - false_positives: 18727964.0000 - true_negatives: 169617920.0000 - false_negatives: 20863094.0000 - precision: 0.8549 - recall: 0.8410 - val_loss: 0.0794 - val_accuracy: 0.8732 - val_binary_iou: 0.7725 - val_true_positives: 40125432.0000 - val_false_positives: 8428567.0000 - val_true_negatives: 52404920.0000 - val_false_negatives: 5012805.0000 - val_precision: 0.8264 - val_recall: 0.8889\n",
      "Epoch 22/100\n",
      "398/398 [==============================] - 139s 347ms/step - loss: 0.0762 - accuracy: 0.8764 - binary_iou: 0.7739 - true_positives: 110538152.0000 - false_positives: 18913164.0000 - true_negatives: 169494592.0000 - false_negatives: 20574936.0000 - precision: 0.8539 - recall: 0.8431 - val_loss: 0.0951 - val_accuracy: 0.8363 - val_binary_iou: 0.7062 - val_true_positives: 31574824.0000 - val_false_positives: 3741021.0000 - val_true_negatives: 57054612.0000 - val_false_negatives: 13601249.0000 - val_precision: 0.8941 - val_recall: 0.6989\n",
      "Epoch 23/100\n",
      "398/398 [==============================] - ETA: 0s - loss: 0.0753 - accuracy: 0.8777 - binary_iou: 0.7759 - true_positives: 110752488.0000 - false_positives: 18647580.0000 - true_negatives: 169676000.0000 - false_negatives: 20444714.0000 - precision: 0.8559 - recall: 0.8442"
     ]
    },
    {
     "name": "stderr",
     "output_type": "stream",
     "text": [
      "WARNING:absl:Found untraced functions such as _jit_compiled_convolution_op, _jit_compiled_convolution_op, _jit_compiled_convolution_op, _jit_compiled_convolution_op, _jit_compiled_convolution_op while saving (showing 5 of 64). These functions will not be directly callable after loading.\n"
     ]
    },
    {
     "name": "stdout",
     "output_type": "stream",
     "text": [
      "INFO:tensorflow:Assets written to: ../saved_model_FT_test\\FT_test_AVG_no_of_frozen_layers_190_e100\\assets\n"
     ]
    },
    {
     "name": "stderr",
     "output_type": "stream",
     "text": [
      "INFO:tensorflow:Assets written to: ../saved_model_FT_test\\FT_test_AVG_no_of_frozen_layers_190_e100\\assets\n"
     ]
    },
    {
     "name": "stdout",
     "output_type": "stream",
     "text": [
      "398/398 [==============================] - 176s 443ms/step - loss: 0.0753 - accuracy: 0.8777 - binary_iou: 0.7759 - true_positives: 110752488.0000 - false_positives: 18647580.0000 - true_negatives: 169676000.0000 - false_negatives: 20444714.0000 - precision: 0.8559 - recall: 0.8442 - val_loss: 0.0744 - val_accuracy: 0.8783 - val_binary_iou: 0.7776 - val_true_positives: 37268520.0000 - val_false_positives: 5039199.0000 - val_true_negatives: 55808504.0000 - val_false_negatives: 7855478.0000 - val_precision: 0.8809 - val_recall: 0.8259\n",
      "Epoch 24/100\n",
      "398/398 [==============================] - 139s 348ms/step - loss: 0.0753 - accuracy: 0.8775 - binary_iou: 0.7757 - true_positives: 110844512.0000 - false_positives: 18808940.0000 - true_negatives: 169537376.0000 - false_negatives: 20330032.0000 - precision: 0.8549 - recall: 0.8450 - val_loss: 0.0757 - val_accuracy: 0.8756 - val_binary_iou: 0.7748 - val_true_positives: 38605216.0000 - val_false_positives: 6663971.0000 - val_true_negatives: 54178532.0000 - val_false_negatives: 6523988.0000 - val_precision: 0.8528 - val_recall: 0.8554\n",
      "Epoch 25/100\n",
      "398/398 [==============================] - 138s 348ms/step - loss: 0.0744 - accuracy: 0.8792 - binary_iou: 0.7784 - true_positives: 110836560.0000 - false_positives: 18290544.0000 - true_negatives: 170090624.0000 - false_negatives: 20303034.0000 - precision: 0.8584 - recall: 0.8452 - val_loss: 0.0838 - val_accuracy: 0.8686 - val_binary_iou: 0.7643 - val_true_positives: 38808680.0000 - val_false_positives: 7733552.0000 - val_true_negatives: 53238424.0000 - val_false_negatives: 6191043.0000 - val_precision: 0.8338 - val_recall: 0.8624\n",
      "Epoch 26/100\n",
      "398/398 [==============================] - ETA: 0s - loss: 0.0742 - accuracy: 0.8794 - binary_iou: 0.7788 - true_positives: 110882384.0000 - false_positives: 18254576.0000 - true_negatives: 170115376.0000 - false_negatives: 20268464.0000 - precision: 0.8586 - recall: 0.8455"
     ]
    },
    {
     "name": "stderr",
     "output_type": "stream",
     "text": [
      "WARNING:absl:Found untraced functions such as _jit_compiled_convolution_op, _jit_compiled_convolution_op, _jit_compiled_convolution_op, _jit_compiled_convolution_op, _jit_compiled_convolution_op while saving (showing 5 of 64). These functions will not be directly callable after loading.\n"
     ]
    },
    {
     "name": "stdout",
     "output_type": "stream",
     "text": [
      "INFO:tensorflow:Assets written to: ../saved_model_FT_test\\FT_test_AVG_no_of_frozen_layers_190_e100\\assets\n"
     ]
    },
    {
     "name": "stderr",
     "output_type": "stream",
     "text": [
      "INFO:tensorflow:Assets written to: ../saved_model_FT_test\\FT_test_AVG_no_of_frozen_layers_190_e100\\assets\n"
     ]
    },
    {
     "name": "stdout",
     "output_type": "stream",
     "text": [
      "398/398 [==============================] - 177s 445ms/step - loss: 0.0742 - accuracy: 0.8794 - binary_iou: 0.7788 - true_positives: 110882384.0000 - false_positives: 18254576.0000 - true_negatives: 170115376.0000 - false_negatives: 20268464.0000 - precision: 0.8586 - recall: 0.8455 - val_loss: 0.0743 - val_accuracy: 0.8803 - val_binary_iou: 0.7815 - val_true_positives: 37964788.0000 - val_false_positives: 5535672.0000 - val_true_negatives: 55320728.0000 - val_false_negatives: 7150529.0000 - val_precision: 0.8727 - val_recall: 0.8415\n",
      "Epoch 27/100\n",
      "398/398 [==============================] - 139s 348ms/step - loss: 0.0736 - accuracy: 0.8807 - binary_iou: 0.7808 - true_positives: 110972968.0000 - false_positives: 17974036.0000 - true_negatives: 170442016.0000 - false_negatives: 20131872.0000 - precision: 0.8606 - recall: 0.8464 - val_loss: 0.0780 - val_accuracy: 0.8706 - val_binary_iou: 0.7684 - val_true_positives: 39906784.0000 - val_false_positives: 8499998.0000 - val_true_negatives: 52356132.0000 - val_false_negatives: 5208790.0000 - val_precision: 0.8244 - val_recall: 0.8845\n",
      "Epoch 28/100\n",
      "398/398 [==============================] - 139s 349ms/step - loss: 0.0728 - accuracy: 0.8829 - binary_iou: 0.7843 - true_positives: 111373168.0000 - false_positives: 17715180.0000 - true_negatives: 170722176.0000 - false_negatives: 19710296.0000 - precision: 0.8628 - recall: 0.8496 - val_loss: 0.0770 - val_accuracy: 0.8757 - val_binary_iou: 0.7717 - val_true_positives: 35798568.0000 - val_false_positives: 3818787.0000 - val_true_negatives: 57002196.0000 - val_false_negatives: 9352164.0000 - val_precision: 0.9036 - val_recall: 0.7929\n",
      "Epoch 29/100\n",
      "398/398 [==============================] - 139s 350ms/step - loss: 0.0726 - accuracy: 0.8827 - binary_iou: 0.7841 - true_positives: 111452024.0000 - false_positives: 17798892.0000 - true_negatives: 170586352.0000 - false_negatives: 19683584.0000 - precision: 0.8623 - recall: 0.8499 - val_loss: 0.0810 - val_accuracy: 0.8639 - val_binary_iou: 0.7540 - val_true_positives: 36116544.0000 - val_false_positives: 5372076.0000 - val_true_negatives: 55429736.0000 - val_false_negatives: 9053340.0000 - val_precision: 0.8705 - val_recall: 0.7996\n",
      "Epoch 30/100\n",
      "398/398 [==============================] - ETA: 0s - loss: 0.0726 - accuracy: 0.8835 - binary_iou: 0.7854 - true_positives: 111503784.0000 - false_positives: 17627908.0000 - true_negatives: 170794800.0000 - false_negatives: 19594356.0000 - precision: 0.8635 - recall: 0.8505"
     ]
    },
    {
     "name": "stderr",
     "output_type": "stream",
     "text": [
      "WARNING:absl:Found untraced functions such as _jit_compiled_convolution_op, _jit_compiled_convolution_op, _jit_compiled_convolution_op, _jit_compiled_convolution_op, _jit_compiled_convolution_op while saving (showing 5 of 64). These functions will not be directly callable after loading.\n"
     ]
    },
    {
     "name": "stdout",
     "output_type": "stream",
     "text": [
      "INFO:tensorflow:Assets written to: ../saved_model_FT_test\\FT_test_AVG_no_of_frozen_layers_190_e100\\assets\n"
     ]
    },
    {
     "name": "stderr",
     "output_type": "stream",
     "text": [
      "INFO:tensorflow:Assets written to: ../saved_model_FT_test\\FT_test_AVG_no_of_frozen_layers_190_e100\\assets\n"
     ]
    },
    {
     "name": "stdout",
     "output_type": "stream",
     "text": [
      "398/398 [==============================] - 175s 441ms/step - loss: 0.0726 - accuracy: 0.8835 - binary_iou: 0.7854 - true_positives: 111503784.0000 - false_positives: 17627908.0000 - true_negatives: 170794800.0000 - false_negatives: 19594356.0000 - precision: 0.8635 - recall: 0.8505 - val_loss: 0.0704 - val_accuracy: 0.8863 - val_binary_iou: 0.7915 - val_true_positives: 38513900.0000 - val_false_positives: 5352287.0000 - val_true_negatives: 55406376.0000 - val_false_negatives: 6699139.0000 - val_precision: 0.8780 - val_recall: 0.8518\n",
      "Epoch 31/100\n",
      "398/398 [==============================] - 139s 350ms/step - loss: 0.0720 - accuracy: 0.8833 - binary_iou: 0.7852 - true_positives: 111675440.0000 - false_positives: 17808288.0000 - true_negatives: 170566208.0000 - false_negatives: 19470846.0000 - precision: 0.8625 - recall: 0.8515 - val_loss: 0.0821 - val_accuracy: 0.8666 - val_binary_iou: 0.7624 - val_true_positives: 40110328.0000 - val_false_positives: 9223599.0000 - val_true_negatives: 51725288.0000 - val_false_negatives: 4912495.0000 - val_precision: 0.8130 - val_recall: 0.8909\n",
      "Epoch 32/100\n",
      "398/398 [==============================] - 139s 349ms/step - loss: 0.0706 - accuracy: 0.8862 - binary_iou: 0.7899 - true_positives: 111930336.0000 - false_positives: 17126412.0000 - true_negatives: 171239056.0000 - false_negatives: 19225072.0000 - precision: 0.8673 - recall: 0.8534 - val_loss: 0.0739 - val_accuracy: 0.8792 - val_binary_iou: 0.7784 - val_true_positives: 36755232.0000 - val_false_positives: 4481793.0000 - val_true_negatives: 56420288.0000 - val_false_negatives: 8314384.0000 - val_precision: 0.8913 - val_recall: 0.8155\n",
      "Epoch 33/100\n",
      "398/398 [==============================] - 137s 345ms/step - loss: 0.0708 - accuracy: 0.8861 - binary_iou: 0.7896 - true_positives: 111675448.0000 - false_positives: 17012134.0000 - true_negatives: 171463120.0000 - false_negatives: 19370032.0000 - precision: 0.8678 - recall: 0.8522 - val_loss: 0.0725 - val_accuracy: 0.8842 - val_binary_iou: 0.7874 - val_true_positives: 37718920.0000 - val_false_positives: 4882348.0000 - val_true_negatives: 55984972.0000 - val_false_negatives: 7385472.0000 - val_precision: 0.8854 - val_recall: 0.8363\n",
      "Epoch 34/100\n",
      "398/398 [==============================] - 138s 346ms/step - loss: 0.0706 - accuracy: 0.8864 - binary_iou: 0.7901 - true_positives: 112083648.0000 - false_positives: 17320000.0000 - true_negatives: 171126784.0000 - false_negatives: 18990262.0000 - precision: 0.8662 - recall: 0.8551 - val_loss: 0.0778 - val_accuracy: 0.8782 - val_binary_iou: 0.7759 - val_true_positives: 36081004.0000 - val_false_positives: 3847325.0000 - val_true_negatives: 56984628.0000 - val_false_negatives: 9058767.0000 - val_precision: 0.9036 - val_recall: 0.7993\n",
      "Epoch 35/100\n",
      "398/398 [==============================] - 138s 346ms/step - loss: 0.0708 - accuracy: 0.8855 - binary_iou: 0.7886 - true_positives: 111719080.0000 - false_positives: 17155256.0000 - true_negatives: 171213584.0000 - false_negatives: 19432856.0000 - precision: 0.8669 - recall: 0.8518 - val_loss: 0.0713 - val_accuracy: 0.8854 - val_binary_iou: 0.7898 - val_true_positives: 38198888.0000 - val_false_positives: 5231896.0000 - val_true_negatives: 55629572.0000 - val_false_negatives: 6911343.0000 - val_precision: 0.8795 - val_recall: 0.8468\n",
      "Epoch 36/100\n",
      "398/398 [==============================] - ETA: 0s - loss: 0.0698 - accuracy: 0.8885 - binary_iou: 0.7936 - true_positives: 112434120.0000 - false_positives: 16930284.0000 - true_negatives: 171448272.0000 - false_negatives: 18708080.0000 - precision: 0.8691 - recall: 0.8573"
     ]
    },
    {
     "name": "stderr",
     "output_type": "stream",
     "text": [
      "WARNING:absl:Found untraced functions such as _jit_compiled_convolution_op, _jit_compiled_convolution_op, _jit_compiled_convolution_op, _jit_compiled_convolution_op, _jit_compiled_convolution_op while saving (showing 5 of 64). These functions will not be directly callable after loading.\n"
     ]
    },
    {
     "name": "stdout",
     "output_type": "stream",
     "text": [
      "INFO:tensorflow:Assets written to: ../saved_model_FT_test\\FT_test_AVG_no_of_frozen_layers_190_e100\\assets\n"
     ]
    },
    {
     "name": "stderr",
     "output_type": "stream",
     "text": [
      "INFO:tensorflow:Assets written to: ../saved_model_FT_test\\FT_test_AVG_no_of_frozen_layers_190_e100\\assets\n"
     ]
    },
    {
     "name": "stdout",
     "output_type": "stream",
     "text": [
      "398/398 [==============================] - 174s 437ms/step - loss: 0.0698 - accuracy: 0.8885 - binary_iou: 0.7936 - true_positives: 112434120.0000 - false_positives: 16930284.0000 - true_negatives: 171448272.0000 - false_negatives: 18708080.0000 - precision: 0.8691 - recall: 0.8573 - val_loss: 0.0690 - val_accuracy: 0.8875 - val_binary_iou: 0.7944 - val_true_positives: 39463176.0000 - val_false_positives: 6336379.0000 - val_true_negatives: 54590884.0000 - val_false_negatives: 5581280.0000 - val_precision: 0.8616 - val_recall: 0.8761\n",
      "Epoch 37/100\n",
      "398/398 [==============================] - 138s 347ms/step - loss: 0.0696 - accuracy: 0.8883 - binary_iou: 0.7932 - true_positives: 112009744.0000 - false_positives: 16654082.0000 - true_negatives: 171826960.0000 - false_negatives: 19029884.0000 - precision: 0.8706 - recall: 0.8548 - val_loss: 0.0782 - val_accuracy: 0.8673 - val_binary_iou: 0.7644 - val_true_positives: 41361104.0000 - val_false_positives: 10324735.0000 - val_true_negatives: 50551800.0000 - val_false_negatives: 3734080.0000 - val_precision: 0.8002 - val_recall: 0.9172\n",
      "Epoch 38/100\n",
      "398/398 [==============================] - ETA: 0s - loss: 0.0688 - accuracy: 0.8894 - binary_iou: 0.7951 - true_positives: 112377720.0000 - false_positives: 16558084.0000 - true_negatives: 171814512.0000 - false_negatives: 18770476.0000 - precision: 0.8716 - recall: 0.8569"
     ]
    },
    {
     "name": "stderr",
     "output_type": "stream",
     "text": [
      "WARNING:absl:Found untraced functions such as _jit_compiled_convolution_op, _jit_compiled_convolution_op, _jit_compiled_convolution_op, _jit_compiled_convolution_op, _jit_compiled_convolution_op while saving (showing 5 of 64). These functions will not be directly callable after loading.\n"
     ]
    },
    {
     "name": "stdout",
     "output_type": "stream",
     "text": [
      "INFO:tensorflow:Assets written to: ../saved_model_FT_test\\FT_test_AVG_no_of_frozen_layers_190_e100\\assets\n"
     ]
    },
    {
     "name": "stderr",
     "output_type": "stream",
     "text": [
      "INFO:tensorflow:Assets written to: ../saved_model_FT_test\\FT_test_AVG_no_of_frozen_layers_190_e100\\assets\n"
     ]
    },
    {
     "name": "stdout",
     "output_type": "stream",
     "text": [
      "398/398 [==============================] - 176s 443ms/step - loss: 0.0688 - accuracy: 0.8894 - binary_iou: 0.7951 - true_positives: 112377720.0000 - false_positives: 16558084.0000 - true_negatives: 171814512.0000 - false_negatives: 18770476.0000 - precision: 0.8716 - recall: 0.8569 - val_loss: 0.0699 - val_accuracy: 0.8879 - val_binary_iou: 0.7946 - val_true_positives: 38986240.0000 - val_false_positives: 5839663.0000 - val_true_negatives: 55106392.0000 - val_false_negatives: 6039420.0000 - val_precision: 0.8697 - val_recall: 0.8659\n",
      "Epoch 39/100\n",
      "398/398 [==============================] - 138s 347ms/step - loss: 0.0682 - accuracy: 0.8907 - binary_iou: 0.7971 - true_positives: 112353240.0000 - false_positives: 16102053.0000 - true_negatives: 172235680.0000 - false_negatives: 18829746.0000 - precision: 0.8746 - recall: 0.8565 - val_loss: 0.0704 - val_accuracy: 0.8881 - val_binary_iou: 0.7939 - val_true_positives: 38109872.0000 - val_false_positives: 4901732.0000 - val_true_negatives: 55998932.0000 - val_false_negatives: 6961182.0000 - val_precision: 0.8860 - val_recall: 0.8456\n",
      "Epoch 40/100\n",
      "398/398 [==============================] - ETA: 0s - loss: 0.0679 - accuracy: 0.8914 - binary_iou: 0.7983 - true_positives: 112329176.0000 - false_positives: 15916602.0000 - true_negatives: 172495872.0000 - false_negatives: 18779148.0000 - precision: 0.8759 - recall: 0.8568"
     ]
    },
    {
     "name": "stderr",
     "output_type": "stream",
     "text": [
      "WARNING:absl:Found untraced functions such as _jit_compiled_convolution_op, _jit_compiled_convolution_op, _jit_compiled_convolution_op, _jit_compiled_convolution_op, _jit_compiled_convolution_op while saving (showing 5 of 64). These functions will not be directly callable after loading.\n"
     ]
    },
    {
     "name": "stdout",
     "output_type": "stream",
     "text": [
      "INFO:tensorflow:Assets written to: ../saved_model_FT_test\\FT_test_AVG_no_of_frozen_layers_190_e100\\assets\n"
     ]
    },
    {
     "name": "stderr",
     "output_type": "stream",
     "text": [
      "INFO:tensorflow:Assets written to: ../saved_model_FT_test\\FT_test_AVG_no_of_frozen_layers_190_e100\\assets\n"
     ]
    },
    {
     "name": "stdout",
     "output_type": "stream",
     "text": [
      "398/398 [==============================] - 177s 445ms/step - loss: 0.0679 - accuracy: 0.8914 - binary_iou: 0.7983 - true_positives: 112329176.0000 - false_positives: 15916602.0000 - true_negatives: 172495872.0000 - false_negatives: 18779148.0000 - precision: 0.8759 - recall: 0.8568 - val_loss: 0.0682 - val_accuracy: 0.8908 - val_binary_iou: 0.7980 - val_true_positives: 37943940.0000 - val_false_positives: 4332921.0000 - val_true_negatives: 56451604.0000 - val_false_negatives: 7243249.0000 - val_precision: 0.8975 - val_recall: 0.8397\n",
      "Epoch 41/100\n",
      "398/398 [==============================] - 138s 347ms/step - loss: 0.0678 - accuracy: 0.8911 - binary_iou: 0.7979 - true_positives: 112549024.0000 - false_positives: 16229167.0000 - true_negatives: 172190704.0000 - false_negatives: 18551880.0000 - precision: 0.8740 - recall: 0.8585 - val_loss: 0.0777 - val_accuracy: 0.8769 - val_binary_iou: 0.7724 - val_true_positives: 34971264.0000 - val_false_positives: 2822913.0000 - val_true_negatives: 57959224.0000 - val_false_negatives: 10218323.0000 - val_precision: 0.9253 - val_recall: 0.7739\n",
      "Epoch 42/100\n",
      "398/398 [==============================] - ETA: 0s - loss: 0.0684 - accuracy: 0.8901 - binary_iou: 0.7961 - true_positives: 112222048.0000 - false_positives: 16198421.0000 - true_negatives: 172183216.0000 - false_negatives: 18917136.0000 - precision: 0.8739 - recall: 0.8557"
     ]
    },
    {
     "name": "stderr",
     "output_type": "stream",
     "text": [
      "WARNING:absl:Found untraced functions such as _jit_compiled_convolution_op, _jit_compiled_convolution_op, _jit_compiled_convolution_op, _jit_compiled_convolution_op, _jit_compiled_convolution_op while saving (showing 5 of 64). These functions will not be directly callable after loading.\n"
     ]
    },
    {
     "name": "stdout",
     "output_type": "stream",
     "text": [
      "INFO:tensorflow:Assets written to: ../saved_model_FT_test\\FT_test_AVG_no_of_frozen_layers_190_e100\\assets\n"
     ]
    },
    {
     "name": "stderr",
     "output_type": "stream",
     "text": [
      "INFO:tensorflow:Assets written to: ../saved_model_FT_test\\FT_test_AVG_no_of_frozen_layers_190_e100\\assets\n"
     ]
    },
    {
     "name": "stdout",
     "output_type": "stream",
     "text": [
      "398/398 [==============================] - 176s 442ms/step - loss: 0.0684 - accuracy: 0.8901 - binary_iou: 0.7961 - true_positives: 112222048.0000 - false_positives: 16198421.0000 - true_negatives: 172183216.0000 - false_negatives: 18917136.0000 - precision: 0.8739 - recall: 0.8557 - val_loss: 0.0680 - val_accuracy: 0.8908 - val_binary_iou: 0.7986 - val_true_positives: 38459688.0000 - val_false_positives: 4965429.0000 - val_true_negatives: 55937692.0000 - val_false_negatives: 6608893.0000 - val_precision: 0.8857 - val_recall: 0.8534\n",
      "Epoch 43/100\n",
      "398/398 [==============================] - 138s 347ms/step - loss: 0.0672 - accuracy: 0.8924 - binary_iou: 0.8000 - true_positives: 112625344.0000 - false_positives: 15909708.0000 - true_negatives: 172527040.0000 - false_negatives: 18458692.0000 - precision: 0.8762 - recall: 0.8592 - val_loss: 0.0681 - val_accuracy: 0.8911 - val_binary_iou: 0.7985 - val_true_positives: 37945288.0000 - val_false_positives: 4341430.0000 - val_true_negatives: 56481624.0000 - val_false_negatives: 7203356.0000 - val_precision: 0.8973 - val_recall: 0.8405\n",
      "Epoch 44/100\n",
      "398/398 [==============================] - 139s 348ms/step - loss: 0.0670 - accuracy: 0.8926 - binary_iou: 0.8004 - true_positives: 112697608.0000 - false_positives: 15912619.0000 - true_negatives: 172519168.0000 - false_negatives: 18391396.0000 - precision: 0.8763 - recall: 0.8597 - val_loss: 0.0695 - val_accuracy: 0.8885 - val_binary_iou: 0.7942 - val_true_positives: 37790920.0000 - val_false_positives: 4531809.0000 - val_true_negatives: 56360128.0000 - val_false_negatives: 7288845.0000 - val_precision: 0.8929 - val_recall: 0.8383\n",
      "Epoch 45/100\n",
      "398/398 [==============================] - 138s 347ms/step - loss: 0.0677 - accuracy: 0.8915 - binary_iou: 0.7986 - true_positives: 112710072.0000 - false_positives: 16261744.0000 - true_negatives: 172151872.0000 - false_negatives: 18397136.0000 - precision: 0.8739 - recall: 0.8597 - val_loss: 0.0678 - val_accuracy: 0.8902 - val_binary_iou: 0.7985 - val_true_positives: 39367096.0000 - val_false_positives: 5935776.0000 - val_true_negatives: 54966212.0000 - val_false_negatives: 5702605.0000 - val_precision: 0.8690 - val_recall: 0.8735\n",
      "Epoch 46/100\n",
      "398/398 [==============================] - ETA: 0s - loss: 0.0659 - accuracy: 0.8949 - binary_iou: 0.8042 - true_positives: 113095896.0000 - false_positives: 15677050.0000 - true_negatives: 172837472.0000 - false_negatives: 17910376.0000 - precision: 0.8783 - recall: 0.8633"
     ]
    },
    {
     "name": "stderr",
     "output_type": "stream",
     "text": [
      "WARNING:absl:Found untraced functions such as _jit_compiled_convolution_op, _jit_compiled_convolution_op, _jit_compiled_convolution_op, _jit_compiled_convolution_op, _jit_compiled_convolution_op while saving (showing 5 of 64). These functions will not be directly callable after loading.\n"
     ]
    },
    {
     "name": "stdout",
     "output_type": "stream",
     "text": [
      "INFO:tensorflow:Assets written to: ../saved_model_FT_test\\FT_test_AVG_no_of_frozen_layers_190_e100\\assets\n"
     ]
    },
    {
     "name": "stderr",
     "output_type": "stream",
     "text": [
      "INFO:tensorflow:Assets written to: ../saved_model_FT_test\\FT_test_AVG_no_of_frozen_layers_190_e100\\assets\n"
     ]
    },
    {
     "name": "stdout",
     "output_type": "stream",
     "text": [
      "398/398 [==============================] - 175s 438ms/step - loss: 0.0659 - accuracy: 0.8949 - binary_iou: 0.8042 - true_positives: 113095896.0000 - false_positives: 15677050.0000 - true_negatives: 172837472.0000 - false_negatives: 17910376.0000 - precision: 0.8783 - recall: 0.8633 - val_loss: 0.0660 - val_accuracy: 0.8946 - val_binary_iou: 0.8052 - val_true_positives: 39001808.0000 - val_false_positives: 4980377.0000 - val_true_negatives: 55796588.0000 - val_false_negatives: 6192927.0000 - val_precision: 0.8868 - val_recall: 0.8630\n",
      "Epoch 47/100\n",
      "398/398 [==============================] - 139s 347ms/step - loss: 0.0664 - accuracy: 0.8936 - binary_iou: 0.8020 - true_positives: 112788272.0000 - false_positives: 15639641.0000 - true_negatives: 172750048.0000 - false_negatives: 18342840.0000 - precision: 0.8782 - recall: 0.8601 - val_loss: 0.0699 - val_accuracy: 0.8875 - val_binary_iou: 0.7919 - val_true_positives: 37142420.0000 - val_false_positives: 4069980.0000 - val_true_negatives: 56904784.0000 - val_false_negatives: 7854534.0000 - val_precision: 0.9012 - val_recall: 0.8254\n",
      "Epoch 48/100\n",
      "398/398 [==============================] - 139s 348ms/step - loss: 0.0655 - accuracy: 0.8950 - binary_iou: 0.8044 - true_positives: 113115328.0000 - false_positives: 15486498.0000 - true_negatives: 172855152.0000 - false_negatives: 18063804.0000 - precision: 0.8796 - recall: 0.8623 - val_loss: 0.0692 - val_accuracy: 0.8888 - val_binary_iou: 0.7959 - val_true_positives: 38962320.0000 - val_false_positives: 5677038.0000 - val_true_negatives: 55221624.0000 - val_false_negatives: 6110758.0000 - val_precision: 0.8728 - val_recall: 0.8644\n",
      "Epoch 49/100\n",
      "398/398 [==============================] - 139s 349ms/step - loss: 0.0651 - accuracy: 0.8960 - binary_iou: 0.8059 - true_positives: 113075528.0000 - false_positives: 15203770.0000 - true_negatives: 173212272.0000 - false_negatives: 18029176.0000 - precision: 0.8815 - recall: 0.8625 - val_loss: 0.0729 - val_accuracy: 0.8840 - val_binary_iou: 0.7863 - val_true_positives: 37080092.0000 - val_false_positives: 4269862.0000 - val_true_negatives: 56597916.0000 - val_false_negatives: 8023830.0000 - val_precision: 0.8967 - val_recall: 0.8221\n",
      "Epoch 50/100\n",
      "398/398 [==============================] - 139s 349ms/step - loss: 0.0648 - accuracy: 0.8961 - binary_iou: 0.8062 - true_positives: 113327736.0000 - false_positives: 15474886.0000 - true_negatives: 172995104.0000 - false_negatives: 17722972.0000 - precision: 0.8799 - recall: 0.8648 - val_loss: 0.0675 - val_accuracy: 0.8916 - val_binary_iou: 0.7997 - val_true_positives: 38295708.0000 - val_false_positives: 4763659.0000 - val_true_negatives: 56185512.0000 - val_false_negatives: 6726823.0000 - val_precision: 0.8894 - val_recall: 0.8506\n",
      "Epoch 51/100\n",
      "398/398 [==============================] - 139s 348ms/step - loss: 0.0644 - accuracy: 0.8971 - binary_iou: 0.8078 - true_positives: 113363456.0000 - false_positives: 15155710.0000 - true_negatives: 173270416.0000 - false_negatives: 17731144.0000 - precision: 0.8821 - recall: 0.8647 - val_loss: 0.0699 - val_accuracy: 0.8883 - val_binary_iou: 0.7926 - val_true_positives: 36737004.0000 - val_false_positives: 3459131.0000 - val_true_negatives: 57393536.0000 - val_false_negatives: 8382044.0000 - val_precision: 0.9139 - val_recall: 0.8142\n",
      "Epoch 52/100\n",
      "398/398 [==============================] - 139s 349ms/step - loss: 0.0649 - accuracy: 0.8960 - binary_iou: 0.8061 - true_positives: 113351536.0000 - false_positives: 15406054.0000 - true_negatives: 172946240.0000 - false_negatives: 17816920.0000 - precision: 0.8803 - recall: 0.8642 - val_loss: 0.0693 - val_accuracy: 0.8881 - val_binary_iou: 0.7931 - val_true_positives: 37406232.0000 - val_false_positives: 4189810.0000 - val_true_negatives: 56703164.0000 - val_false_negatives: 7672504.0000 - val_precision: 0.8993 - val_recall: 0.8298\n",
      "Epoch 53/100\n",
      "398/398 [==============================] - ETA: 0s - loss: 0.0646 - accuracy: 0.8966 - binary_iou: 0.8069 - true_positives: 113306208.0000 - false_positives: 15135919.0000 - true_negatives: 173161216.0000 - false_negatives: 17917392.0000 - precision: 0.8822 - recall: 0.8635"
     ]
    },
    {
     "name": "stderr",
     "output_type": "stream",
     "text": [
      "WARNING:absl:Found untraced functions such as _jit_compiled_convolution_op, _jit_compiled_convolution_op, _jit_compiled_convolution_op, _jit_compiled_convolution_op, _jit_compiled_convolution_op while saving (showing 5 of 64). These functions will not be directly callable after loading.\n"
     ]
    },
    {
     "name": "stdout",
     "output_type": "stream",
     "text": [
      "INFO:tensorflow:Assets written to: ../saved_model_FT_test\\FT_test_AVG_no_of_frozen_layers_190_e100\\assets\n"
     ]
    },
    {
     "name": "stderr",
     "output_type": "stream",
     "text": [
      "INFO:tensorflow:Assets written to: ../saved_model_FT_test\\FT_test_AVG_no_of_frozen_layers_190_e100\\assets\n"
     ]
    },
    {
     "name": "stdout",
     "output_type": "stream",
     "text": [
      "398/398 [==============================] - 175s 439ms/step - loss: 0.0646 - accuracy: 0.8966 - binary_iou: 0.8069 - true_positives: 113306208.0000 - false_positives: 15135919.0000 - true_negatives: 173161216.0000 - false_negatives: 17917392.0000 - precision: 0.8822 - recall: 0.8635 - val_loss: 0.0644 - val_accuracy: 0.8982 - val_binary_iou: 0.8115 - val_true_positives: 39367752.0000 - val_false_positives: 4995223.0000 - val_true_negatives: 55818860.0000 - val_false_negatives: 5789865.0000 - val_precision: 0.8874 - val_recall: 0.8718\n",
      "Epoch 54/100\n",
      "398/398 [==============================] - 139s 348ms/step - loss: 0.0637 - accuracy: 0.8982 - binary_iou: 0.8098 - true_positives: 113737680.0000 - false_positives: 15229448.0000 - true_negatives: 173259152.0000 - false_negatives: 17294578.0000 - precision: 0.8819 - recall: 0.8680 - val_loss: 0.0701 - val_accuracy: 0.8890 - val_binary_iou: 0.7959 - val_true_positives: 38609764.0000 - val_false_positives: 5199589.0000 - val_true_negatives: 55594380.0000 - val_false_negatives: 6567994.0000 - val_precision: 0.8813 - val_recall: 0.8546\n",
      "Epoch 55/100\n",
      "398/398 [==============================] - 138s 347ms/step - loss: 0.0643 - accuracy: 0.8975 - binary_iou: 0.8085 - true_positives: 113463744.0000 - false_positives: 15104503.0000 - true_negatives: 173302384.0000 - false_negatives: 17650162.0000 - precision: 0.8825 - recall: 0.8654 - val_loss: 0.0674 - val_accuracy: 0.8904 - val_binary_iou: 0.7991 - val_true_positives: 39483080.0000 - val_false_positives: 5960064.0000 - val_true_negatives: 54877108.0000 - val_false_negatives: 5651467.0000 - val_precision: 0.8688 - val_recall: 0.8748\n",
      "Epoch 56/100\n",
      "398/398 [==============================] - 138s 348ms/step - loss: 0.0637 - accuracy: 0.8983 - binary_iou: 0.8098 - true_positives: 113509408.0000 - false_positives: 14836776.0000 - true_negatives: 173506304.0000 - false_negatives: 17668256.0000 - precision: 0.8844 - recall: 0.8653 - val_loss: 0.0679 - val_accuracy: 0.8912 - val_binary_iou: 0.7994 - val_true_positives: 38486376.0000 - val_false_positives: 4910151.0000 - val_true_negatives: 55960840.0000 - val_false_negatives: 6614339.0000 - val_precision: 0.8869 - val_recall: 0.8533\n",
      "Epoch 57/100\n",
      "398/398 [==============================] - 138s 347ms/step - loss: 0.0631 - accuracy: 0.8992 - binary_iou: 0.8113 - true_positives: 113698048.0000 - false_positives: 14690406.0000 - true_negatives: 173600240.0000 - false_negatives: 17532068.0000 - precision: 0.8856 - recall: 0.8664 - val_loss: 0.0652 - val_accuracy: 0.8966 - val_binary_iou: 0.8095 - val_true_positives: 40043744.0000 - val_false_positives: 5826681.0000 - val_true_negatives: 54969080.0000 - val_false_negatives: 5132186.0000 - val_precision: 0.8730 - val_recall: 0.8864\n",
      "Epoch 58/100\n",
      "398/398 [==============================] - 138s 346ms/step - loss: 0.0637 - accuracy: 0.8980 - binary_iou: 0.8094 - true_positives: 113588616.0000 - false_positives: 14980239.0000 - true_negatives: 173351664.0000 - false_negatives: 17600292.0000 - precision: 0.8835 - recall: 0.8658 - val_loss: 0.0656 - val_accuracy: 0.8946 - val_binary_iou: 0.8057 - val_true_positives: 39386224.0000 - val_false_positives: 5345324.0000 - val_true_negatives: 55416720.0000 - val_false_negatives: 5823438.0000 - val_precision: 0.8805 - val_recall: 0.8712\n",
      "Epoch 59/100\n",
      "398/398 [==============================] - 138s 346ms/step - loss: 0.0632 - accuracy: 0.8994 - binary_iou: 0.8117 - true_positives: 113913360.0000 - false_positives: 14901580.0000 - true_negatives: 173453984.0000 - false_negatives: 17251912.0000 - precision: 0.8843 - recall: 0.8685 - val_loss: 0.0677 - val_accuracy: 0.8909 - val_binary_iou: 0.7967 - val_true_positives: 36674312.0000 - val_false_positives: 3143865.0000 - val_true_negatives: 57733296.0000 - val_false_negatives: 8420255.0000 - val_precision: 0.9210 - val_recall: 0.8133\n",
      "Epoch 60/100\n",
      "398/398 [==============================] - 138s 346ms/step - loss: 0.0628 - accuracy: 0.8998 - binary_iou: 0.8124 - true_positives: 113707192.0000 - false_positives: 14696928.0000 - true_negatives: 173804480.0000 - false_negatives: 17312232.0000 - precision: 0.8855 - recall: 0.8679 - val_loss: 0.0644 - val_accuracy: 0.8966 - val_binary_iou: 0.8081 - val_true_positives: 38568048.0000 - val_false_positives: 4499647.0000 - val_true_negatives: 56449208.0000 - val_false_negatives: 6454799.0000 - val_precision: 0.8955 - val_recall: 0.8566\n",
      "Epoch 61/100\n",
      "398/398 [==============================] - 138s 347ms/step - loss: 0.0629 - accuracy: 0.8991 - binary_iou: 0.8111 - true_positives: 113587144.0000 - false_positives: 14703208.0000 - true_negatives: 173683136.0000 - false_negatives: 17547360.0000 - precision: 0.8854 - recall: 0.8662 - val_loss: 0.0652 - val_accuracy: 0.8961 - val_binary_iou: 0.8068 - val_true_positives: 38103600.0000 - val_false_positives: 3996850.0000 - val_true_negatives: 56860540.0000 - val_false_negatives: 7010724.0000 - val_precision: 0.9051 - val_recall: 0.8446\n",
      "Epoch 62/100\n",
      "398/398 [==============================] - 138s 347ms/step - loss: 0.0619 - accuracy: 0.9011 - binary_iou: 0.8147 - true_positives: 114228344.0000 - false_positives: 14679725.0000 - true_negatives: 173688992.0000 - false_negatives: 16923826.0000 - precision: 0.8861 - recall: 0.8710 - val_loss: 0.0670 - val_accuracy: 0.8930 - val_binary_iou: 0.8033 - val_true_positives: 39714736.0000 - val_false_positives: 5934338.0000 - val_true_negatives: 54915616.0000 - val_false_negatives: 5407036.0000 - val_precision: 0.8700 - val_recall: 0.8802\n",
      "Epoch 63/100\n",
      "398/398 [==============================] - 138s 346ms/step - loss: 0.0620 - accuracy: 0.9012 - binary_iou: 0.8149 - true_positives: 114160192.0000 - false_positives: 14541802.0000 - true_negatives: 173797200.0000 - false_negatives: 17021584.0000 - precision: 0.8870 - recall: 0.8702 - val_loss: 0.0660 - val_accuracy: 0.8971 - val_binary_iou: 0.8080 - val_true_positives: 37770996.0000 - val_false_positives: 3567448.0000 - val_true_negatives: 57291268.0000 - val_false_negatives: 7341999.0000 - val_precision: 0.9137 - val_recall: 0.8373\n",
      "Epoch 64/100\n",
      "398/398 [==============================] - 138s 346ms/step - loss: 0.0617 - accuracy: 0.9012 - binary_iou: 0.8149 - true_positives: 114073448.0000 - false_positives: 14479113.0000 - true_negatives: 173890848.0000 - false_negatives: 17077416.0000 - precision: 0.8874 - recall: 0.8698 - val_loss: 0.0689 - val_accuracy: 0.8869 - val_binary_iou: 0.7917 - val_true_positives: 37728168.0000 - val_false_positives: 4620711.0000 - val_true_negatives: 56262276.0000 - val_false_negatives: 7360528.0000 - val_precision: 0.8909 - val_recall: 0.8368\n",
      "Epoch 65/100\n",
      "398/398 [==============================] - 138s 347ms/step - loss: 0.0619 - accuracy: 0.9012 - binary_iou: 0.8148 - true_positives: 114021800.0000 - false_positives: 14454801.0000 - true_negatives: 173942048.0000 - false_negatives: 17102218.0000 - precision: 0.8875 - recall: 0.8696 - val_loss: 0.0649 - val_accuracy: 0.8959 - val_binary_iou: 0.8076 - val_true_positives: 39236980.0000 - val_false_positives: 5234554.0000 - val_true_negatives: 55702736.0000 - val_false_negatives: 5797450.0000 - val_precision: 0.8823 - val_recall: 0.8713\n",
      "Epoch 66/100\n",
      "398/398 [==============================] - 138s 346ms/step - loss: 0.0616 - accuracy: 0.9018 - binary_iou: 0.8158 - true_positives: 114294520.0000 - false_positives: 14557606.0000 - true_negatives: 173837216.0000 - false_negatives: 16831460.0000 - precision: 0.8870 - recall: 0.8716 - val_loss: 0.0668 - val_accuracy: 0.8935 - val_binary_iou: 0.8021 - val_true_positives: 37644852.0000 - val_false_positives: 3729698.0000 - val_true_negatives: 57043988.0000 - val_false_negatives: 7553180.0000 - val_precision: 0.9099 - val_recall: 0.8329\n",
      "Epoch 67/100\n",
      "398/398 [==============================] - 138s 346ms/step - loss: 0.0610 - accuracy: 0.9025 - binary_iou: 0.8171 - true_positives: 114541624.0000 - false_positives: 14579440.0000 - true_negatives: 173826448.0000 - false_negatives: 16573294.0000 - precision: 0.8871 - recall: 0.8736 - val_loss: 0.0697 - val_accuracy: 0.8909 - val_binary_iou: 0.8004 - val_true_positives: 40092472.0000 - val_false_positives: 6589798.0000 - val_true_negatives: 54318728.0000 - val_false_negatives: 4970714.0000 - val_precision: 0.8588 - val_recall: 0.8897\n",
      "Epoch 68/100\n",
      "398/398 [==============================] - ETA: 0s - loss: 0.0611 - accuracy: 0.9022 - binary_iou: 0.8166 - true_positives: 114267568.0000 - false_positives: 14379401.0000 - true_negatives: 174018128.0000 - false_negatives: 16855688.0000 - precision: 0.8882 - recall: 0.8715"
     ]
    },
    {
     "name": "stderr",
     "output_type": "stream",
     "text": [
      "WARNING:absl:Found untraced functions such as _jit_compiled_convolution_op, _jit_compiled_convolution_op, _jit_compiled_convolution_op, _jit_compiled_convolution_op, _jit_compiled_convolution_op while saving (showing 5 of 64). These functions will not be directly callable after loading.\n"
     ]
    },
    {
     "name": "stdout",
     "output_type": "stream",
     "text": [
      "INFO:tensorflow:Assets written to: ../saved_model_FT_test\\FT_test_AVG_no_of_frozen_layers_190_e100\\assets\n"
     ]
    },
    {
     "name": "stderr",
     "output_type": "stream",
     "text": [
      "INFO:tensorflow:Assets written to: ../saved_model_FT_test\\FT_test_AVG_no_of_frozen_layers_190_e100\\assets\n"
     ]
    },
    {
     "name": "stdout",
     "output_type": "stream",
     "text": [
      "398/398 [==============================] - 174s 436ms/step - loss: 0.0611 - accuracy: 0.9022 - binary_iou: 0.8166 - true_positives: 114267568.0000 - false_positives: 14379401.0000 - true_negatives: 174018128.0000 - false_negatives: 16855688.0000 - precision: 0.8882 - recall: 0.8715 - val_loss: 0.0628 - val_accuracy: 0.8995 - val_binary_iou: 0.8142 - val_true_positives: 40126964.0000 - val_false_positives: 5757267.0000 - val_true_negatives: 55192272.0000 - val_false_negatives: 4895184.0000 - val_precision: 0.8745 - val_recall: 0.8913\n",
      "Epoch 69/100\n",
      "398/398 [==============================] - 139s 348ms/step - loss: 0.0604 - accuracy: 0.9035 - binary_iou: 0.8187 - true_positives: 114372352.0000 - false_positives: 14042377.0000 - true_negatives: 174325200.0000 - false_negatives: 16780868.0000 - precision: 0.8906 - recall: 0.8721 - val_loss: 0.0720 - val_accuracy: 0.8868 - val_binary_iou: 0.7945 - val_true_positives: 40941160.0000 - val_false_positives: 7836965.0000 - val_true_negatives: 53037104.0000 - val_false_negatives: 4156491.0000 - val_precision: 0.8393 - val_recall: 0.9078\n",
      "Epoch 70/100\n",
      "398/398 [==============================] - 138s 347ms/step - loss: 0.0598 - accuracy: 0.9050 - binary_iou: 0.8213 - true_positives: 114764616.0000 - false_positives: 13977922.0000 - true_negatives: 174412896.0000 - false_negatives: 16365363.0000 - precision: 0.8914 - recall: 0.8752 - val_loss: 0.0632 - val_accuracy: 0.8991 - val_binary_iou: 0.8121 - val_true_positives: 38543120.0000 - val_false_positives: 4116308.0000 - val_true_negatives: 56735084.0000 - val_false_negatives: 6577184.0000 - val_precision: 0.9035 - val_recall: 0.8542\n",
      "Epoch 71/100\n",
      "398/398 [==============================] - 139s 348ms/step - loss: 0.0602 - accuracy: 0.9038 - binary_iou: 0.8192 - true_positives: 114492112.0000 - false_positives: 14097260.0000 - true_negatives: 174293072.0000 - false_negatives: 16638253.0000 - precision: 0.8904 - recall: 0.8731 - val_loss: 0.0649 - val_accuracy: 0.8957 - val_binary_iou: 0.8085 - val_true_positives: 40805296.0000 - val_false_positives: 6699145.0000 - val_true_negatives: 54108424.0000 - val_false_negatives: 4358863.0000 - val_precision: 0.8590 - val_recall: 0.9035\n",
      "Epoch 72/100\n",
      "398/398 [==============================] - 139s 348ms/step - loss: 0.0605 - accuracy: 0.9037 - binary_iou: 0.8190 - true_positives: 114271792.0000 - false_positives: 13944031.0000 - true_negatives: 174493456.0000 - false_negatives: 16811372.0000 - precision: 0.8912 - recall: 0.8718 - val_loss: 0.0673 - val_accuracy: 0.8897 - val_binary_iou: 0.7995 - val_true_positives: 41579912.0000 - val_false_positives: 8194420.0000 - val_true_negatives: 52699744.0000 - val_false_negatives: 3497623.0000 - val_precision: 0.8354 - val_recall: 0.9224\n",
      "Epoch 73/100\n",
      "398/398 [==============================] - 138s 347ms/step - loss: 0.0606 - accuracy: 0.9038 - binary_iou: 0.8192 - true_positives: 114383448.0000 - false_positives: 13910560.0000 - true_negatives: 174400160.0000 - false_negatives: 16826680.0000 - precision: 0.8916 - recall: 0.8718 - val_loss: 0.0766 - val_accuracy: 0.8862 - val_binary_iou: 0.7928 - val_true_positives: 40028572.0000 - val_false_positives: 7006960.0000 - val_true_negatives: 53881560.0000 - val_false_negatives: 5054641.0000 - val_precision: 0.8510 - val_recall: 0.8879\n",
      "Epoch 74/100\n",
      "398/398 [==============================] - ETA: 0s - loss: 0.0600 - accuracy: 0.9047 - binary_iou: 0.8208 - true_positives: 114618984.0000 - false_positives: 13905703.0000 - true_negatives: 174461968.0000 - false_negatives: 16534175.0000 - precision: 0.8918 - recall: 0.8739"
     ]
    },
    {
     "name": "stderr",
     "output_type": "stream",
     "text": [
      "WARNING:absl:Found untraced functions such as _jit_compiled_convolution_op, _jit_compiled_convolution_op, _jit_compiled_convolution_op, _jit_compiled_convolution_op, _jit_compiled_convolution_op while saving (showing 5 of 64). These functions will not be directly callable after loading.\n"
     ]
    },
    {
     "name": "stdout",
     "output_type": "stream",
     "text": [
      "INFO:tensorflow:Assets written to: ../saved_model_FT_test\\FT_test_AVG_no_of_frozen_layers_190_e100\\assets\n"
     ]
    },
    {
     "name": "stderr",
     "output_type": "stream",
     "text": [
      "INFO:tensorflow:Assets written to: ../saved_model_FT_test\\FT_test_AVG_no_of_frozen_layers_190_e100\\assets\n"
     ]
    },
    {
     "name": "stdout",
     "output_type": "stream",
     "text": [
      "398/398 [==============================] - 175s 440ms/step - loss: 0.0600 - accuracy: 0.9047 - binary_iou: 0.8208 - true_positives: 114618984.0000 - false_positives: 13905703.0000 - true_negatives: 174461968.0000 - false_negatives: 16534175.0000 - precision: 0.8918 - recall: 0.8739 - val_loss: 0.0630 - val_accuracy: 0.9009 - val_binary_iou: 0.8159 - val_true_positives: 39473896.0000 - val_false_positives: 4852153.0000 - val_true_negatives: 55992092.0000 - val_false_negatives: 5653550.0000 - val_precision: 0.8905 - val_recall: 0.8747\n",
      "Epoch 75/100\n",
      "398/398 [==============================] - 139s 348ms/step - loss: 0.0598 - accuracy: 0.9053 - binary_iou: 0.8217 - true_positives: 114655032.0000 - false_positives: 13736962.0000 - true_negatives: 174595376.0000 - false_negatives: 16533304.0000 - precision: 0.8930 - recall: 0.8740 - val_loss: 0.0671 - val_accuracy: 0.8912 - val_binary_iou: 0.7983 - val_true_positives: 37558328.0000 - val_false_positives: 3884693.0000 - val_true_negatives: 56883664.0000 - val_false_negatives: 7645055.0000 - val_precision: 0.9063 - val_recall: 0.8309\n",
      "Epoch 76/100\n",
      "398/398 [==============================] - ETA: 0s - loss: 0.0597 - accuracy: 0.9053 - binary_iou: 0.8218 - true_positives: 114733776.0000 - false_positives: 13861437.0000 - true_negatives: 174539488.0000 - false_negatives: 16385981.0000 - precision: 0.8922 - recall: 0.8750"
     ]
    },
    {
     "name": "stderr",
     "output_type": "stream",
     "text": [
      "WARNING:absl:Found untraced functions such as _jit_compiled_convolution_op, _jit_compiled_convolution_op, _jit_compiled_convolution_op, _jit_compiled_convolution_op, _jit_compiled_convolution_op while saving (showing 5 of 64). These functions will not be directly callable after loading.\n"
     ]
    },
    {
     "name": "stdout",
     "output_type": "stream",
     "text": [
      "INFO:tensorflow:Assets written to: ../saved_model_FT_test\\FT_test_AVG_no_of_frozen_layers_190_e100\\assets\n"
     ]
    },
    {
     "name": "stderr",
     "output_type": "stream",
     "text": [
      "INFO:tensorflow:Assets written to: ../saved_model_FT_test\\FT_test_AVG_no_of_frozen_layers_190_e100\\assets\n"
     ]
    },
    {
     "name": "stdout",
     "output_type": "stream",
     "text": [
      "398/398 [==============================] - 176s 442ms/step - loss: 0.0597 - accuracy: 0.9053 - binary_iou: 0.8218 - true_positives: 114733776.0000 - false_positives: 13861437.0000 - true_negatives: 174539488.0000 - false_negatives: 16385981.0000 - precision: 0.8922 - recall: 0.8750 - val_loss: 0.0613 - val_accuracy: 0.9038 - val_binary_iou: 0.8209 - val_true_positives: 39589588.0000 - val_false_positives: 4649140.0000 - val_true_negatives: 56191696.0000 - val_false_negatives: 5541295.0000 - val_precision: 0.8949 - val_recall: 0.8772\n",
      "Epoch 77/100\n",
      "398/398 [==============================] - 138s 347ms/step - loss: 0.0590 - accuracy: 0.9066 - binary_iou: 0.8240 - true_positives: 114924592.0000 - false_positives: 13616651.0000 - true_negatives: 174744976.0000 - false_negatives: 16234598.0000 - precision: 0.8941 - recall: 0.8762 - val_loss: 0.0657 - val_accuracy: 0.8950 - val_binary_iou: 0.8070 - val_true_positives: 40115272.0000 - val_false_positives: 6156170.0000 - val_true_negatives: 54733744.0000 - val_false_negatives: 4966526.0000 - val_precision: 0.8670 - val_recall: 0.8898\n",
      "Epoch 78/100\n",
      "398/398 [==============================] - 139s 348ms/step - loss: 0.0590 - accuracy: 0.9069 - binary_iou: 0.8244 - true_positives: 114822896.0000 - false_positives: 13371130.0000 - true_negatives: 174937648.0000 - false_negatives: 16389186.0000 - precision: 0.8957 - recall: 0.8751 - val_loss: 0.0643 - val_accuracy: 0.8999 - val_binary_iou: 0.8143 - val_true_positives: 39385200.0000 - val_false_positives: 4859034.0000 - val_true_negatives: 55981228.0000 - val_false_negatives: 5746234.0000 - val_precision: 0.8902 - val_recall: 0.8727\n",
      "Epoch 79/100\n",
      "398/398 [==============================] - 139s 348ms/step - loss: 0.0592 - accuracy: 0.9064 - binary_iou: 0.8238 - true_positives: 115060424.0000 - false_positives: 13745673.0000 - true_negatives: 174567392.0000 - false_negatives: 16147346.0000 - precision: 0.8933 - recall: 0.8769 - val_loss: 0.0611 - val_accuracy: 0.9035 - val_binary_iou: 0.8204 - val_true_positives: 39653136.0000 - val_false_positives: 4728918.0000 - val_true_negatives: 56094144.0000 - val_false_negatives: 5495510.0000 - val_precision: 0.8934 - val_recall: 0.8783\n",
      "Epoch 80/100\n",
      "398/398 [==============================] - 138s 347ms/step - loss: 0.0590 - accuracy: 0.9059 - binary_iou: 0.8228 - true_positives: 114785464.0000 - false_positives: 13761449.0000 - true_negatives: 174670400.0000 - false_negatives: 16303439.0000 - precision: 0.8929 - recall: 0.8756 - val_loss: 0.0693 - val_accuracy: 0.8904 - val_binary_iou: 0.7999 - val_true_positives: 40398372.0000 - val_false_positives: 6853430.0000 - val_true_negatives: 53963436.0000 - val_false_negatives: 4756454.0000 - val_precision: 0.8550 - val_recall: 0.8947\n",
      "Epoch 81/100\n",
      "398/398 [==============================] - 139s 348ms/step - loss: 0.0584 - accuracy: 0.9071 - binary_iou: 0.8249 - true_positives: 115098648.0000 - false_positives: 13609404.0000 - true_negatives: 174737072.0000 - false_negatives: 16075616.0000 - precision: 0.8943 - recall: 0.8774 - val_loss: 0.0620 - val_accuracy: 0.9023 - val_binary_iou: 0.8191 - val_true_positives: 40398948.0000 - val_false_positives: 5691739.0000 - val_true_negatives: 55220200.0000 - val_false_negatives: 4660829.0000 - val_precision: 0.8765 - val_recall: 0.8966\n",
      "Epoch 82/100\n",
      "398/398 [==============================] - 138s 347ms/step - loss: 0.0580 - accuracy: 0.9078 - binary_iou: 0.8260 - true_positives: 115041896.0000 - false_positives: 13368177.0000 - true_negatives: 175011792.0000 - false_negatives: 16098864.0000 - precision: 0.8959 - recall: 0.8772 - val_loss: 0.0618 - val_accuracy: 0.9024 - val_binary_iou: 0.8176 - val_true_positives: 38695004.0000 - val_false_positives: 3913730.0000 - val_true_negatives: 56928672.0000 - val_false_negatives: 6434295.0000 - val_precision: 0.9081 - val_recall: 0.8574\n",
      "Epoch 83/100\n",
      "398/398 [==============================] - 138s 347ms/step - loss: 0.0586 - accuracy: 0.9073 - binary_iou: 0.8253 - true_positives: 115108880.0000 - false_positives: 13592248.0000 - true_negatives: 174804848.0000 - false_negatives: 16014808.0000 - precision: 0.8944 - recall: 0.8779 - val_loss: 0.0632 - val_accuracy: 0.9009 - val_binary_iou: 0.8162 - val_true_positives: 39746444.0000 - val_false_positives: 5064269.0000 - val_true_negatives: 55720692.0000 - val_false_negatives: 5440308.0000 - val_precision: 0.8870 - val_recall: 0.8796\n",
      "Epoch 84/100\n",
      "398/398 [==============================] - ETA: 0s - loss: 0.0578 - accuracy: 0.9085 - binary_iou: 0.8272 - true_positives: 115246840.0000 - false_positives: 13281822.0000 - true_negatives: 175027632.0000 - false_negatives: 15964501.0000 - precision: 0.8967 - recall: 0.8783"
     ]
    },
    {
     "name": "stderr",
     "output_type": "stream",
     "text": [
      "WARNING:absl:Found untraced functions such as _jit_compiled_convolution_op, _jit_compiled_convolution_op, _jit_compiled_convolution_op, _jit_compiled_convolution_op, _jit_compiled_convolution_op while saving (showing 5 of 64). These functions will not be directly callable after loading.\n"
     ]
    },
    {
     "name": "stdout",
     "output_type": "stream",
     "text": [
      "INFO:tensorflow:Assets written to: ../saved_model_FT_test\\FT_test_AVG_no_of_frozen_layers_190_e100\\assets\n"
     ]
    },
    {
     "name": "stderr",
     "output_type": "stream",
     "text": [
      "INFO:tensorflow:Assets written to: ../saved_model_FT_test\\FT_test_AVG_no_of_frozen_layers_190_e100\\assets\n"
     ]
    },
    {
     "name": "stdout",
     "output_type": "stream",
     "text": [
      "398/398 [==============================] - 175s 440ms/step - loss: 0.0578 - accuracy: 0.9085 - binary_iou: 0.8272 - true_positives: 115246840.0000 - false_positives: 13281822.0000 - true_negatives: 175027632.0000 - false_negatives: 15964501.0000 - precision: 0.8967 - recall: 0.8783 - val_loss: 0.0609 - val_accuracy: 0.9045 - val_binary_iou: 0.8220 - val_true_positives: 39622044.0000 - val_false_positives: 4580523.0000 - val_true_negatives: 56227608.0000 - val_false_negatives: 5541544.0000 - val_precision: 0.8964 - val_recall: 0.8773\n",
      "Epoch 85/100\n",
      "398/398 [==============================] - 139s 348ms/step - loss: 0.0579 - accuracy: 0.9080 - binary_iou: 0.8265 - true_positives: 115247800.0000 - false_positives: 13446067.0000 - true_negatives: 174880816.0000 - false_negatives: 15946018.0000 - precision: 0.8955 - recall: 0.8785 - val_loss: 0.0743 - val_accuracy: 0.8851 - val_binary_iou: 0.7913 - val_true_positives: 40276164.0000 - val_false_positives: 7452888.0000 - val_true_negatives: 53520128.0000 - val_false_negatives: 4722535.0000 - val_precision: 0.8439 - val_recall: 0.8951\n",
      "Epoch 86/100\n",
      "398/398 [==============================] - 138s 348ms/step - loss: 0.0573 - accuracy: 0.9089 - binary_iou: 0.8280 - true_positives: 115350232.0000 - false_positives: 13306295.0000 - true_negatives: 175061568.0000 - false_negatives: 15802560.0000 - precision: 0.8966 - recall: 0.8795 - val_loss: 0.0687 - val_accuracy: 0.8928 - val_binary_iou: 0.8045 - val_true_positives: 41609304.0000 - val_false_positives: 7912378.0000 - val_true_negatives: 52998040.0000 - val_false_negatives: 3452000.0000 - val_precision: 0.8402 - val_recall: 0.9234\n",
      "Epoch 87/100\n",
      "398/398 [==============================] - 139s 348ms/step - loss: 0.0570 - accuracy: 0.9097 - binary_iou: 0.8295 - true_positives: 115566680.0000 - false_positives: 13204775.0000 - true_negatives: 175116896.0000 - false_negatives: 15632293.0000 - precision: 0.8975 - recall: 0.8809 - val_loss: 0.0618 - val_accuracy: 0.9033 - val_binary_iou: 0.8206 - val_true_positives: 40212672.0000 - val_false_positives: 5331110.0000 - val_true_negatives: 55514868.0000 - val_false_negatives: 4913069.0000 - val_precision: 0.8829 - val_recall: 0.8911\n",
      "Epoch 88/100\n",
      "398/398 [==============================] - 139s 348ms/step - loss: 0.0574 - accuracy: 0.9091 - binary_iou: 0.8283 - true_positives: 115335368.0000 - false_positives: 13241246.0000 - true_negatives: 175149360.0000 - false_negatives: 15794777.0000 - precision: 0.8970 - recall: 0.8795 - val_loss: 0.0619 - val_accuracy: 0.9025 - val_binary_iou: 0.8185 - val_true_positives: 39427960.0000 - val_false_positives: 4689384.0000 - val_true_negatives: 56207648.0000 - val_false_negatives: 5646732.0000 - val_precision: 0.8937 - val_recall: 0.8747\n",
      "Epoch 89/100\n",
      "398/398 [==============================] - 139s 349ms/step - loss: 0.0572 - accuracy: 0.9092 - binary_iou: 0.8284 - true_positives: 115450496.0000 - false_positives: 13292661.0000 - true_negatives: 175043360.0000 - false_negatives: 15734289.0000 - precision: 0.8968 - recall: 0.8801 - val_loss: 0.0653 - val_accuracy: 0.8978 - val_binary_iou: 0.8097 - val_true_positives: 38248656.0000 - val_false_positives: 3970812.0000 - val_true_negatives: 56891840.0000 - val_false_negatives: 6860412.0000 - val_precision: 0.9059 - val_recall: 0.8479\n",
      "Epoch 90/100\n",
      "398/398 [==============================] - 139s 349ms/step - loss: 0.0576 - accuracy: 0.9085 - binary_iou: 0.8272 - true_positives: 115059888.0000 - false_positives: 13279338.0000 - true_negatives: 175221456.0000 - false_negatives: 15960160.0000 - precision: 0.8965 - recall: 0.8782 - val_loss: 0.0621 - val_accuracy: 0.9005 - val_binary_iou: 0.8159 - val_true_positives: 40226056.0000 - val_false_positives: 5739225.0000 - val_true_negatives: 55198836.0000 - val_false_negatives: 4807608.0000 - val_precision: 0.8751 - val_recall: 0.8932\n",
      "Epoch 91/100\n",
      "398/398 [==============================] - 138s 347ms/step - loss: 0.0567 - accuracy: 0.9100 - binary_iou: 0.8299 - true_positives: 115410632.0000 - false_positives: 13091224.0000 - true_negatives: 175366784.0000 - false_negatives: 15652111.0000 - precision: 0.8981 - recall: 0.8806 - val_loss: 0.0648 - val_accuracy: 0.8976 - val_binary_iou: 0.8096 - val_true_positives: 38385240.0000 - val_false_positives: 4143129.0000 - val_true_negatives: 56738792.0000 - val_false_negatives: 6704553.0000 - val_precision: 0.9026 - val_recall: 0.8513\n",
      "Epoch 92/100\n",
      "398/398 [==============================] - 139s 349ms/step - loss: 0.0569 - accuracy: 0.9100 - binary_iou: 0.8298 - true_positives: 115559664.0000 - false_positives: 13187510.0000 - true_negatives: 175197328.0000 - false_negatives: 15576244.0000 - precision: 0.8976 - recall: 0.8812 - val_loss: 0.0616 - val_accuracy: 0.9021 - val_binary_iou: 0.8190 - val_true_positives: 40675596.0000 - val_false_positives: 5981493.0000 - val_true_negatives: 54921920.0000 - val_false_negatives: 4392702.0000 - val_precision: 0.8718 - val_recall: 0.9025\n",
      "Epoch 93/100\n",
      "398/398 [==============================] - ETA: 0s - loss: 0.0563 - accuracy: 0.9109 - binary_iou: 0.8313 - true_positives: 115628352.0000 - false_positives: 12969629.0000 - true_negatives: 175407312.0000 - false_negatives: 15515576.0000 - precision: 0.8991 - recall: 0.8817"
     ]
    },
    {
     "name": "stderr",
     "output_type": "stream",
     "text": [
      "WARNING:absl:Found untraced functions such as _jit_compiled_convolution_op, _jit_compiled_convolution_op, _jit_compiled_convolution_op, _jit_compiled_convolution_op, _jit_compiled_convolution_op while saving (showing 5 of 64). These functions will not be directly callable after loading.\n"
     ]
    },
    {
     "name": "stdout",
     "output_type": "stream",
     "text": [
      "INFO:tensorflow:Assets written to: ../saved_model_FT_test\\FT_test_AVG_no_of_frozen_layers_190_e100\\assets\n"
     ]
    },
    {
     "name": "stderr",
     "output_type": "stream",
     "text": [
      "INFO:tensorflow:Assets written to: ../saved_model_FT_test\\FT_test_AVG_no_of_frozen_layers_190_e100\\assets\n"
     ]
    },
    {
     "name": "stdout",
     "output_type": "stream",
     "text": [
      "398/398 [==============================] - 175s 440ms/step - loss: 0.0563 - accuracy: 0.9109 - binary_iou: 0.8313 - true_positives: 115628352.0000 - false_positives: 12969629.0000 - true_negatives: 175407312.0000 - false_negatives: 15515576.0000 - precision: 0.8991 - recall: 0.8817 - val_loss: 0.0604 - val_accuracy: 0.9043 - val_binary_iou: 0.8220 - val_true_positives: 40136756.0000 - val_false_positives: 5091398.0000 - val_true_negatives: 55688312.0000 - val_false_negatives: 5055239.0000 - val_precision: 0.8874 - val_recall: 0.8881\n",
      "Epoch 94/100\n",
      "398/398 [==============================] - 138s 346ms/step - loss: 0.0565 - accuracy: 0.9104 - binary_iou: 0.8305 - true_positives: 115524848.0000 - false_positives: 13007364.0000 - true_negatives: 175357504.0000 - false_negatives: 15631114.0000 - precision: 0.8988 - recall: 0.8808 - val_loss: 0.0637 - val_accuracy: 0.8973 - val_binary_iou: 0.8116 - val_true_positives: 41283940.0000 - val_false_positives: 7066725.0000 - val_true_negatives: 53805696.0000 - val_false_negatives: 3815342.0000 - val_precision: 0.8538 - val_recall: 0.9154\n",
      "Epoch 95/100\n",
      "398/398 [==============================] - 138s 348ms/step - loss: 0.0566 - accuracy: 0.9100 - binary_iou: 0.8298 - true_positives: 115418920.0000 - false_positives: 13103144.0000 - true_negatives: 175337664.0000 - false_negatives: 15661151.0000 - precision: 0.8980 - recall: 0.8805 - val_loss: 0.0685 - val_accuracy: 0.8931 - val_binary_iou: 0.8000 - val_true_positives: 36465344.0000 - val_false_positives: 2706221.0000 - val_true_negatives: 58180776.0000 - val_false_negatives: 8619357.0000 - val_precision: 0.9309 - val_recall: 0.8088\n",
      "Epoch 96/100\n",
      "398/398 [==============================] - ETA: 0s - loss: 0.0561 - accuracy: 0.9111 - binary_iou: 0.8317 - true_positives: 115815832.0000 - false_positives: 13073346.0000 - true_negatives: 175286256.0000 - false_negatives: 15345345.0000 - precision: 0.8986 - recall: 0.8830"
     ]
    },
    {
     "name": "stderr",
     "output_type": "stream",
     "text": [
      "WARNING:absl:Found untraced functions such as _jit_compiled_convolution_op, _jit_compiled_convolution_op, _jit_compiled_convolution_op, _jit_compiled_convolution_op, _jit_compiled_convolution_op while saving (showing 5 of 64). These functions will not be directly callable after loading.\n"
     ]
    },
    {
     "name": "stdout",
     "output_type": "stream",
     "text": [
      "INFO:tensorflow:Assets written to: ../saved_model_FT_test\\FT_test_AVG_no_of_frozen_layers_190_e100\\assets\n"
     ]
    },
    {
     "name": "stderr",
     "output_type": "stream",
     "text": [
      "INFO:tensorflow:Assets written to: ../saved_model_FT_test\\FT_test_AVG_no_of_frozen_layers_190_e100\\assets\n"
     ]
    },
    {
     "name": "stdout",
     "output_type": "stream",
     "text": [
      "398/398 [==============================] - 175s 441ms/step - loss: 0.0561 - accuracy: 0.9111 - binary_iou: 0.8317 - true_positives: 115815832.0000 - false_positives: 13073346.0000 - true_negatives: 175286256.0000 - false_negatives: 15345345.0000 - precision: 0.8986 - recall: 0.8830 - val_loss: 0.0591 - val_accuracy: 0.9071 - val_binary_iou: 0.8267 - val_true_positives: 40077468.0000 - val_false_positives: 4810660.0000 - val_true_negatives: 56051568.0000 - val_false_negatives: 5032024.0000 - val_precision: 0.8928 - val_recall: 0.8884\n",
      "Epoch 97/100\n",
      "398/398 [==============================] - 138s 347ms/step - loss: 0.0561 - accuracy: 0.9108 - binary_iou: 0.8312 - true_positives: 115485504.0000 - false_positives: 12872387.0000 - true_negatives: 175535872.0000 - false_negatives: 15627070.0000 - precision: 0.8997 - recall: 0.8808 - val_loss: 0.0686 - val_accuracy: 0.8930 - val_binary_iou: 0.8049 - val_true_positives: 41539792.0000 - val_false_positives: 7744004.0000 - val_true_negatives: 53097324.0000 - val_false_negatives: 3590584.0000 - val_precision: 0.8429 - val_recall: 0.9204\n",
      "Epoch 98/100\n",
      "398/398 [==============================] - 138s 347ms/step - loss: 0.0560 - accuracy: 0.9111 - binary_iou: 0.8318 - true_positives: 115753184.0000 - false_positives: 13009851.0000 - true_negatives: 175361808.0000 - false_negatives: 15395915.0000 - precision: 0.8990 - recall: 0.8826 - val_loss: 0.0621 - val_accuracy: 0.9018 - val_binary_iou: 0.8154 - val_true_positives: 37469948.0000 - val_false_positives: 2734699.0000 - val_true_negatives: 58100136.0000 - val_false_negatives: 7666928.0000 - val_precision: 0.9320 - val_recall: 0.8301\n",
      "Epoch 99/100\n",
      "398/398 [==============================] - 139s 348ms/step - loss: 0.0557 - accuracy: 0.9119 - binary_iou: 0.8331 - true_positives: 115764048.0000 - false_positives: 12780396.0000 - true_negatives: 175605136.0000 - false_negatives: 15371262.0000 - precision: 0.9006 - recall: 0.8828 - val_loss: 0.0607 - val_accuracy: 0.9049 - val_binary_iou: 0.8227 - val_true_positives: 39667376.0000 - val_false_positives: 4631294.0000 - val_true_negatives: 56222816.0000 - val_false_negatives: 5450231.0000 - val_precision: 0.8955 - val_recall: 0.8792\n",
      "Epoch 100/100\n",
      "398/398 [==============================] - 139s 349ms/step - loss: 0.0556 - accuracy: 0.9117 - binary_iou: 0.8328 - true_positives: 115600880.0000 - false_positives: 12729907.0000 - true_negatives: 175719568.0000 - false_negatives: 15470327.0000 - precision: 0.9008 - recall: 0.8820 - val_loss: 0.0629 - val_accuracy: 0.8997 - val_binary_iou: 0.8149 - val_true_positives: 40599992.0000 - val_false_positives: 6119560.0000 - val_true_negatives: 54737740.0000 - val_false_negatives: 4514413.0000 - val_precision: 0.8690 - val_recall: 0.8999\n",
      "132/132 [==============================] - 20s 121ms/step - loss: 224.4008 - accuracy: 0.9036 - binary_iou: 0.8199 - true_positives: 38915348.0000 - false_positives: 4943305.0000 - true_negatives: 56841440.0000 - false_negatives: 5271624.0000 - precision: 0.8873 - recall: 0.8807\n"
     ]
    }
   ],
   "source": [
    "\n",
    "\"\"\"\n",
    "# Durch RegEx kann aus den Layernamen der Index der Convolutional-Layer entnommen werden und diese dann nacheinander eingefroren werden\n",
    "\n",
    "conv_layers = [4, 7, 11, 15, 18, 22, 26, 27, 30, 34, 38, 42, 46, 50, 53, 57, 61, 64, 68, 72, 75, 79, 83, 86, 90, 94, 95, 98, 102, 106, 110, 114, 118,\n",
    " 121, 125, 129, 132, 136, 140, 141, 144, 148, 152, 156, 160, 164, 167, 171, 175, 176, 179, 183, 190]\n",
    "\n",
    "import gc\n",
    "\n",
    "for number in conv_layers:      \n",
    "\n",
    "    training_split = 0.6\n",
    "\n",
    "    pretrained_weights = 'AVG' #AVG (Mittelwert von RGB), RNDM (IR-Kanal Random), EXTRA_CONV (Original mit zusätzlichem Conv-Layer davor), RGB_SPLIT (Original und IR Bypass)\n",
    "\n",
    "    conf = {\n",
    "        'AVG': 'BN',\n",
    "        'RNDM': 'BN',\n",
    "        'EXTRA_CONV': 'CONV',\n",
    "        'RGB_SPLIT': 'SPLIT'\n",
    "        } # Art des Netzwerks, BN, SPLIT (RGB & IR seperate conv-layer), CONV (zusätzlicher Conv um channel zu downsamplen) ...\n",
    "\n",
    "    lr = 0.001 # Learning rate\n",
    "\n",
    "    rgb_drop = 0 # Dropout rate RGB 0-1\n",
    "    ir_drop = 0 # Dropout rate IR 0-1\n",
    "\n",
    "    l1 = 0.0005 # L1 weight decay regularizer 0-1\n",
    "    l2 = 0.0005 # L2 weight decay regularizer0-1\n",
    "\n",
    "    #freeze = True # Trainierbarkeit des Encoders\n",
    "    freeze_from = 'input' # Ab diesem layer wird eingefroren, EXKLUSIVE (wird überschrieben bei SPLIT-Variante)!\n",
    "    train_encoder_layers = number # Anzahl an Layern (int) im Encoder, die trainiert werden. Rückwärts gezählt ab Bottleneck\n",
    "    #freeze_what = 'No1ConvBN' # Beschreibung ob 1. Layer eingefroren oder nicht\n",
    "\n",
    "    batch_size = 16\n",
    "\n",
    "    patch_size = 224 # Maße des inputs\n",
    "\n",
    "    epochs = 100\n",
    "\n",
    "\n",
    "    unet = load_model(conf[pretrained_weights])\n",
    "    set_dropout(unet, rgb_drop= rgb_drop, ir_drop= ir_drop)\n",
    "    set_weight_decay(unet, l1= l1, l2= l2)\n",
    "    set_pretrained_weights(unet, pretrained_weights)\n",
    "    set_encoder_frozen(unet, pretrained_weights, freeze_from= freeze_from, train_encoder_layers= train_encoder_layers)\n",
    "\n",
    "    optimizer = tf.keras.optimizers.Adam(learning_rate= lr)\n",
    "\n",
    "    loss = tf.keras.losses.BinaryFocalCrossentropy(gamma= 2.0, name= 'binary_focal_crossentropy')\n",
    "\n",
    "\n",
    "    binary_iou = tf.keras.metrics.BinaryIoU(name='binary_iou', threshold=0.5),\n",
    "    metrics = [\n",
    "        'accuracy',\n",
    "        binary_iou,\n",
    "        tf.keras.metrics.TruePositives(name='true_positives'),\n",
    "        tf.keras.metrics.FalsePositives(name='false_positives'),\n",
    "        tf.keras.metrics.TrueNegatives(name='true_negatives'),\n",
    "        tf.keras.metrics.FalseNegatives(name='false_negatives'),\n",
    "        tf.keras.metrics.Precision(name='precision'),\n",
    "        tf.keras.metrics.Recall(name='recall')\n",
    "    ]\n",
    "\n",
    "    unet.compile(optimizer= optimizer, loss= loss, metrics= metrics)\n",
    "\n",
    "    model_name = f'FT_test_AVG_no_of_frozen_layers_{number}'\n",
    "\n",
    "    checkpoint_path = f'../saved_model_FT_test/{model_name}_e{str(epochs)}'\n",
    "    logger_path = f'../saved_history_FT_test/{model_name}_e{str(epochs)}.log'\n",
    "\n",
    "    checkpoint_callback = tf.keras.callbacks.ModelCheckpoint(\n",
    "        filepath=checkpoint_path,\n",
    "        monitor='val_binary_iou',\n",
    "        mode= 'max',\n",
    "        save_weights_only=False,\n",
    "        save_best_only=True)\n",
    "\n",
    "    history_logger = tf.keras.callbacks.CSVLogger(logger_path)\n",
    "\n",
    "    callbacks = [checkpoint_callback, history_logger]\n",
    "\n",
    "\n",
    "\n",
    "    train_data_generator = CustomDataGenerator(\n",
    "    batch_size = batch_size,\n",
    "    augment = True,\n",
    "    shuffle = True,\n",
    "    img_directory = f'../data/Potsdam/{patch_size}_patchesRGBIR/split_folders{training_split}/train/images',\n",
    "    msk_directory = f'../data/Potsdam/{patch_size}_patchesRGBIR/split_folders{training_split}/train/masks'\n",
    "    )\n",
    "\n",
    "    val_data_generator = CustomDataGenerator(\n",
    "        batch_size = batch_size,\n",
    "        augment = False,\n",
    "        shuffle = True,\n",
    "        img_directory = f'../data/Potsdam/{patch_size}_patchesRGBIR/split_folders{training_split}/val/images',\n",
    "        msk_directory = f'../data/Potsdam/{patch_size}_patchesRGBIR/split_folders{training_split}/val/masks'\n",
    "    )\n",
    "\n",
    "    test_data_generator = CustomDataGenerator(\n",
    "        batch_size = batch_size,\n",
    "        augment = False,\n",
    "        shuffle = False,\n",
    "        img_directory = f'../data/Potsdam/{patch_size}_patchesRGBIR/split_folders{training_split}/test/images',\n",
    "        msk_directory = f'../data/Potsdam/{patch_size}_patchesRGBIR/split_folders{training_split}/test/masks'\n",
    "    )\n",
    "\n",
    "    model_history = unet.fit(train_data_generator, validation_data=val_data_generator, callbacks= [checkpoint_callback, history_logger], epochs=epochs)\n",
    "\n",
    "\n",
    "    # laden des besten models\n",
    "    unet = tf.keras.models.load_model(checkpoint_path)\n",
    "\n",
    "    # Evaluieren & Ergebnisse in Tabelle\n",
    "    eval_out = unet.evaluate(test_data_generator)\n",
    "\n",
    "    with open('../results/FT_test_eval_output.csv', 'a') as f_object:\n",
    "        row = []\n",
    "        \n",
    "        row.append(model_name)\n",
    "\n",
    "        for x in eval_out:\n",
    "            row.append(x)\n",
    "\n",
    "        writer_object = csv.writer(f_object)\n",
    "\n",
    "        writer_object.writerow(row)\n",
    "\n",
    "    del unet\n",
    "    tf.keras.backend.clear_session()\n",
    "    gc.collect()\n",
    "    \n",
    "\n",
    "\n",
    "\n",
    "\"\"\"  "
   ]
  },
  {
   "attachments": {},
   "cell_type": "markdown",
   "metadata": {},
   "source": [
    "### Prüfen ob trainable oder nicht"
   ]
  },
  {
   "cell_type": "code",
   "execution_count": 4,
   "metadata": {},
   "outputs": [
    {
     "name": "stdout",
     "output_type": "stream",
     "text": [
      "0 input trainable weights: 0 trainable: False\n",
      "1 split_input trainable weights: 0 trainable: False\n",
      "2 dropout_r trainable weights: 0 trainable: False\n",
      "3 dropout_g trainable weights: 0 trainable: False\n",
      "4 dropout_b trainable weights: 0 trainable: False\n",
      "5 dropout_ir trainable weights: 0 trainable: False\n",
      "6 concatenate_dropout trainable weights: 0 trainable: False\n",
      "7 conv1_pad trainable weights: 0 trainable: False\n",
      "8 conv1_conv trainable weights: 2 trainable: True\n",
      "9 pool1_pad trainable weights: 0 trainable: False\n",
      "10 pool1_pool trainable weights: 0 trainable: False\n",
      "11 conv2_block1_preact_bn trainable weights: 0  trainable:  False  training:  False\n",
      "12 conv2_block1_preact_relu trainable weights: 0 trainable: False\n",
      "13 conv2_block1_1_conv trainable weights: 0 trainable: False\n",
      "14 conv2_block1_1_bn trainable weights: 0  trainable:  False  training:  False\n",
      "15 conv2_block1_1_relu trainable weights: 0 trainable: False\n",
      "16 conv2_block1_2_pad trainable weights: 0 trainable: False\n",
      "17 conv2_block1_2_conv trainable weights: 0 trainable: False\n",
      "18 conv2_block1_2_bn trainable weights: 0  trainable:  False  training:  False\n",
      "19 conv2_block1_2_relu trainable weights: 0 trainable: False\n",
      "20 conv2_block1_0_conv trainable weights: 0 trainable: False\n",
      "21 conv2_block1_3_conv trainable weights: 0 trainable: False\n",
      "22 conv2_block1_out trainable weights: 0 trainable: False\n",
      "23 conv2_block2_preact_bn trainable weights: 0  trainable:  False  training:  False\n",
      "24 conv2_block2_preact_relu trainable weights: 0 trainable: False\n",
      "25 conv2_block2_1_conv trainable weights: 0 trainable: False\n",
      "26 conv2_block2_1_bn trainable weights: 0  trainable:  False  training:  False\n",
      "27 conv2_block2_1_relu trainable weights: 0 trainable: False\n",
      "28 conv2_block2_2_pad trainable weights: 0 trainable: False\n",
      "29 conv2_block2_2_conv trainable weights: 0 trainable: False\n",
      "30 conv2_block2_2_bn trainable weights: 0  trainable:  False  training:  False\n",
      "31 conv2_block2_2_relu trainable weights: 0 trainable: False\n",
      "32 conv2_block2_3_conv trainable weights: 0 trainable: False\n",
      "33 conv2_block2_out trainable weights: 0 trainable: False\n",
      "34 conv2_block3_preact_bn trainable weights: 0  trainable:  False  training:  False\n",
      "35 conv2_block3_preact_relu trainable weights: 0 trainable: False\n",
      "36 conv2_block3_1_conv trainable weights: 0 trainable: False\n",
      "37 conv2_block3_1_bn trainable weights: 0  trainable:  False  training:  False\n",
      "38 conv2_block3_1_relu trainable weights: 0 trainable: False\n",
      "39 conv2_block3_2_pad trainable weights: 0 trainable: False\n",
      "40 conv2_block3_2_conv trainable weights: 0 trainable: False\n",
      "41 conv2_block3_2_bn trainable weights: 0  trainable:  False  training:  False\n",
      "42 conv2_block3_2_relu trainable weights: 0 trainable: False\n",
      "43 max_pooling2d_3 trainable weights: 0 trainable: False\n",
      "44 conv2_block3_3_conv trainable weights: 0 trainable: False\n",
      "45 conv2_block3_out trainable weights: 0 trainable: False\n",
      "46 conv3_block1_preact_bn trainable weights: 0  trainable:  False  training:  False\n",
      "47 conv3_block1_preact_relu trainable weights: 0 trainable: False\n",
      "48 conv3_block1_1_conv trainable weights: 0 trainable: False\n",
      "49 conv3_block1_1_bn trainable weights: 0  trainable:  False  training:  False\n",
      "50 conv3_block1_1_relu trainable weights: 0 trainable: False\n",
      "51 conv3_block1_2_pad trainable weights: 0 trainable: False\n",
      "52 conv3_block1_2_conv trainable weights: 0 trainable: False\n",
      "53 conv3_block1_2_bn trainable weights: 0  trainable:  False  training:  False\n",
      "54 conv3_block1_2_relu trainable weights: 0 trainable: False\n",
      "55 conv3_block1_0_conv trainable weights: 0 trainable: False\n",
      "56 conv3_block1_3_conv trainable weights: 0 trainable: False\n",
      "57 conv3_block1_out trainable weights: 0 trainable: False\n",
      "58 conv3_block2_preact_bn trainable weights: 0  trainable:  False  training:  False\n",
      "59 conv3_block2_preact_relu trainable weights: 0 trainable: False\n",
      "60 conv3_block2_1_conv trainable weights: 0 trainable: False\n",
      "61 conv3_block2_1_bn trainable weights: 0  trainable:  False  training:  False\n",
      "62 conv3_block2_1_relu trainable weights: 0 trainable: False\n",
      "63 conv3_block2_2_pad trainable weights: 0 trainable: False\n",
      "64 conv3_block2_2_conv trainable weights: 0 trainable: False\n",
      "65 conv3_block2_2_bn trainable weights: 0  trainable:  False  training:  False\n",
      "66 conv3_block2_2_relu trainable weights: 0 trainable: False\n",
      "67 conv3_block2_3_conv trainable weights: 0 trainable: False\n",
      "68 conv3_block2_out trainable weights: 0 trainable: False\n",
      "69 conv3_block3_preact_bn trainable weights: 0  trainable:  False  training:  False\n",
      "70 conv3_block3_preact_relu trainable weights: 0 trainable: False\n",
      "71 conv3_block3_1_conv trainable weights: 0 trainable: False\n",
      "72 conv3_block3_1_bn trainable weights: 0  trainable:  False  training:  False\n",
      "73 conv3_block3_1_relu trainable weights: 0 trainable: False\n",
      "74 conv3_block3_2_pad trainable weights: 0 trainable: False\n",
      "75 conv3_block3_2_conv trainable weights: 0 trainable: False\n",
      "76 conv3_block3_2_bn trainable weights: 0  trainable:  False  training:  False\n",
      "77 conv3_block3_2_relu trainable weights: 0 trainable: False\n",
      "78 conv3_block3_3_conv trainable weights: 0 trainable: False\n",
      "79 conv3_block3_out trainable weights: 0 trainable: False\n",
      "80 conv3_block4_preact_bn trainable weights: 0  trainable:  False  training:  False\n",
      "81 conv3_block4_preact_relu trainable weights: 0 trainable: False\n",
      "82 conv3_block4_1_conv trainable weights: 0 trainable: False\n",
      "83 conv3_block4_1_bn trainable weights: 0  trainable:  False  training:  False\n",
      "84 conv3_block4_1_relu trainable weights: 0 trainable: False\n",
      "85 conv3_block4_2_pad trainable weights: 0 trainable: False\n",
      "86 conv3_block4_2_conv trainable weights: 0 trainable: False\n",
      "87 conv3_block4_2_bn trainable weights: 0  trainable:  False  training:  False\n",
      "88 conv3_block4_2_relu trainable weights: 0 trainable: False\n",
      "89 max_pooling2d_4 trainable weights: 0 trainable: False\n",
      "90 conv3_block4_3_conv trainable weights: 0 trainable: False\n",
      "91 conv3_block4_out trainable weights: 0 trainable: False\n",
      "92 conv4_block1_preact_bn trainable weights: 0  trainable:  False  training:  False\n",
      "93 conv4_block1_preact_relu trainable weights: 0 trainable: False\n",
      "94 conv4_block1_1_conv trainable weights: 0 trainable: False\n",
      "95 conv4_block1_1_bn trainable weights: 0  trainable:  False  training:  False\n",
      "96 conv4_block1_1_relu trainable weights: 0 trainable: False\n",
      "97 conv4_block1_2_pad trainable weights: 0 trainable: False\n",
      "98 conv4_block1_2_conv trainable weights: 0 trainable: False\n",
      "99 conv4_block1_2_bn trainable weights: 0  trainable:  False  training:  False\n",
      "100 conv4_block1_2_relu trainable weights: 0 trainable: False\n",
      "101 conv4_block1_0_conv trainable weights: 0 trainable: False\n",
      "102 conv4_block1_3_conv trainable weights: 0 trainable: False\n",
      "103 conv4_block1_out trainable weights: 0 trainable: False\n",
      "104 conv4_block2_preact_bn trainable weights: 0  trainable:  False  training:  False\n",
      "105 conv4_block2_preact_relu trainable weights: 0 trainable: False\n",
      "106 conv4_block2_1_conv trainable weights: 0 trainable: False\n",
      "107 conv4_block2_1_bn trainable weights: 0  trainable:  False  training:  False\n",
      "108 conv4_block2_1_relu trainable weights: 0 trainable: False\n",
      "109 conv4_block2_2_pad trainable weights: 0 trainable: False\n",
      "110 conv4_block2_2_conv trainable weights: 0 trainable: False\n",
      "111 conv4_block2_2_bn trainable weights: 0  trainable:  False  training:  False\n",
      "112 conv4_block2_2_relu trainable weights: 0 trainable: False\n",
      "113 conv4_block2_3_conv trainable weights: 0 trainable: False\n",
      "114 conv4_block2_out trainable weights: 0 trainable: False\n",
      "115 conv4_block3_preact_bn trainable weights: 0  trainable:  False  training:  False\n",
      "116 conv4_block3_preact_relu trainable weights: 0 trainable: False\n",
      "117 conv4_block3_1_conv trainable weights: 0 trainable: False\n",
      "118 conv4_block3_1_bn trainable weights: 0  trainable:  False  training:  False\n",
      "119 conv4_block3_1_relu trainable weights: 0 trainable: False\n",
      "120 conv4_block3_2_pad trainable weights: 0 trainable: False\n",
      "121 conv4_block3_2_conv trainable weights: 0 trainable: False\n",
      "122 conv4_block3_2_bn trainable weights: 0  trainable:  False  training:  False\n",
      "123 conv4_block3_2_relu trainable weights: 0 trainable: False\n",
      "124 conv4_block3_3_conv trainable weights: 0 trainable: False\n",
      "125 conv4_block3_out trainable weights: 0 trainable: False\n",
      "126 conv4_block4_preact_bn trainable weights: 0  trainable:  False  training:  False\n",
      "127 conv4_block4_preact_relu trainable weights: 0 trainable: False\n",
      "128 conv4_block4_1_conv trainable weights: 0 trainable: False\n",
      "129 conv4_block4_1_bn trainable weights: 0  trainable:  False  training:  False\n",
      "130 conv4_block4_1_relu trainable weights: 0 trainable: False\n",
      "131 conv4_block4_2_pad trainable weights: 0 trainable: False\n",
      "132 conv4_block4_2_conv trainable weights: 0 trainable: False\n",
      "133 conv4_block4_2_bn trainable weights: 0  trainable:  False  training:  False\n",
      "134 conv4_block4_2_relu trainable weights: 0 trainable: False\n",
      "135 conv4_block4_3_conv trainable weights: 0 trainable: False\n",
      "136 conv4_block4_out trainable weights: 0 trainable: False\n",
      "137 conv4_block5_preact_bn trainable weights: 0  trainable:  False  training:  False\n",
      "138 conv4_block5_preact_relu trainable weights: 0 trainable: False\n",
      "139 conv4_block5_1_conv trainable weights: 0 trainable: False\n",
      "140 conv4_block5_1_bn trainable weights: 0  trainable:  False  training:  False\n",
      "141 conv4_block5_1_relu trainable weights: 0 trainable: False\n",
      "142 conv4_block5_2_pad trainable weights: 0 trainable: False\n",
      "143 conv4_block5_2_conv trainable weights: 0 trainable: False\n",
      "144 conv4_block5_2_bn trainable weights: 0  trainable:  False  training:  False\n",
      "145 conv4_block5_2_relu trainable weights: 0 trainable: False\n",
      "146 conv4_block5_3_conv trainable weights: 0 trainable: False\n",
      "147 conv4_block5_out trainable weights: 0 trainable: False\n",
      "148 conv4_block6_preact_bn trainable weights: 0  trainable:  False  training:  False\n",
      "149 conv4_block6_preact_relu trainable weights: 0 trainable: False\n",
      "150 conv4_block6_1_conv trainable weights: 0 trainable: False\n",
      "151 conv4_block6_1_bn trainable weights: 0  trainable:  False  training:  False\n",
      "152 conv4_block6_1_relu trainable weights: 0 trainable: False\n",
      "153 conv4_block6_2_pad trainable weights: 0 trainable: False\n",
      "154 conv4_block6_2_conv trainable weights: 0 trainable: False\n",
      "155 conv4_block6_2_bn trainable weights: 0  trainable:  False  training:  False\n",
      "156 conv4_block6_2_relu trainable weights: 0 trainable: False\n",
      "157 max_pooling2d_5 trainable weights: 0 trainable: False\n",
      "158 conv4_block6_3_conv trainable weights: 0 trainable: False\n",
      "159 conv4_block6_out trainable weights: 0 trainable: False\n",
      "160 conv5_block1_preact_bn trainable weights: 0  trainable:  False  training:  False\n",
      "161 conv5_block1_preact_relu trainable weights: 0 trainable: False\n",
      "162 conv5_block1_1_conv trainable weights: 0 trainable: False\n",
      "163 conv5_block1_1_bn trainable weights: 0  trainable:  False  training:  False\n",
      "164 conv5_block1_1_relu trainable weights: 0 trainable: False\n",
      "165 conv5_block1_2_pad trainable weights: 0 trainable: False\n",
      "166 conv5_block1_2_conv trainable weights: 0 trainable: False\n",
      "167 conv5_block1_2_bn trainable weights: 0  trainable:  False  training:  False\n",
      "168 conv5_block1_2_relu trainable weights: 0 trainable: False\n",
      "169 conv5_block1_0_conv trainable weights: 0 trainable: False\n",
      "170 conv5_block1_3_conv trainable weights: 0 trainable: False\n",
      "171 conv5_block1_out trainable weights: 0 trainable: False\n",
      "172 conv5_block2_preact_bn trainable weights: 0  trainable:  False  training:  False\n",
      "173 conv5_block2_preact_relu trainable weights: 0 trainable: False\n",
      "174 conv5_block2_1_conv trainable weights: 0 trainable: False\n",
      "175 conv5_block2_1_bn trainable weights: 0  trainable:  False  training:  False\n",
      "176 conv5_block2_1_relu trainable weights: 0 trainable: False\n",
      "177 conv5_block2_2_pad trainable weights: 0 trainable: False\n",
      "178 conv5_block2_2_conv trainable weights: 0 trainable: False\n",
      "179 conv5_block2_2_bn trainable weights: 0  trainable:  False  training:  False\n",
      "180 conv5_block2_2_relu trainable weights: 0 trainable: False\n",
      "181 conv5_block2_3_conv trainable weights: 0 trainable: False\n",
      "182 conv5_block2_out trainable weights: 0 trainable: False\n",
      "183 conv5_block3_preact_bn trainable weights: 0  trainable:  False  training:  False\n",
      "184 conv5_block3_preact_relu trainable weights: 0 trainable: False\n",
      "185 conv5_block3_1_conv trainable weights: 0 trainable: False\n",
      "186 conv5_block3_1_bn trainable weights: 0  trainable:  False  training:  False\n",
      "187 conv5_block3_1_relu trainable weights: 0 trainable: False\n",
      "188 conv5_block3_2_pad trainable weights: 0 trainable: False\n",
      "189 conv5_block3_2_conv trainable weights: 0 trainable: False\n",
      "190 conv5_block3_2_bn trainable weights: 0  trainable:  False  training:  False\n",
      "191 conv5_block3_2_relu trainable weights: 0 trainable: False\n",
      "192 conv5_block3_3_conv trainable weights: 0 trainable: False\n",
      "193 conv5_block3_out trainable weights: 0 trainable: False\n",
      "194 post_bn trainable weights: 0  trainable:  False  training:  False\n",
      "195 post_relu trainable weights: 0 trainable: False\n",
      "196 up_sampling2d trainable weights: 0 trainable: True\n",
      "197 concatenate trainable weights: 0 trainable: True\n",
      "198 conv2d trainable weights: 1 trainable: True\n",
      "199 batch_normalization trainable weights: 2 trainable: True\n",
      "200 activation trainable weights: 0 trainable: True\n",
      "201 conv2d_1 trainable weights: 1 trainable: True\n",
      "202 batch_normalization_1 trainable weights: 2 trainable: True\n",
      "203 activation_1 trainable weights: 0 trainable: True\n",
      "204 up_sampling2d_1 trainable weights: 0 trainable: True\n",
      "205 concatenate_1 trainable weights: 0 trainable: True\n",
      "206 conv2d_2 trainable weights: 1 trainable: True\n",
      "207 batch_normalization_2 trainable weights: 2 trainable: True\n",
      "208 activation_2 trainable weights: 0 trainable: True\n",
      "209 conv2d_3 trainable weights: 1 trainable: True\n",
      "210 batch_normalization_3 trainable weights: 2 trainable: True\n",
      "211 activation_3 trainable weights: 0 trainable: True\n",
      "212 up_sampling2d_2 trainable weights: 0 trainable: True\n",
      "213 concatenate_2 trainable weights: 0 trainable: True\n",
      "214 conv2d_4 trainable weights: 1 trainable: True\n",
      "215 batch_normalization_4 trainable weights: 2 trainable: True\n",
      "216 activation_4 trainable weights: 0 trainable: True\n",
      "217 conv2d_5 trainable weights: 1 trainable: True\n",
      "218 batch_normalization_5 trainable weights: 2 trainable: True\n",
      "219 activation_5 trainable weights: 0 trainable: True\n",
      "220 up_sampling2d_3 trainable weights: 0 trainable: True\n",
      "221 concatenate_3 trainable weights: 0 trainable: True\n",
      "222 conv2d_6 trainable weights: 1 trainable: True\n",
      "223 batch_normalization_6 trainable weights: 2 trainable: True\n",
      "224 activation_6 trainable weights: 0 trainable: True\n",
      "225 conv2d_7 trainable weights: 1 trainable: True\n",
      "226 batch_normalization_7 trainable weights: 2 trainable: True\n",
      "227 activation_7 trainable weights: 0 trainable: True\n",
      "228 up_sampling2d_4 trainable weights: 0 trainable: True\n",
      "229 concatenate_4 trainable weights: 0 trainable: True\n",
      "230 conv2d_8 trainable weights: 1 trainable: True\n",
      "231 batch_normalization_8 trainable weights: 2 trainable: True\n",
      "232 activation_8 trainable weights: 0 trainable: True\n",
      "233 conv2d_9 trainable weights: 1 trainable: True\n",
      "234 batch_normalization_9 trainable weights: 2 trainable: True\n",
      "235 activation_9 trainable weights: 0 trainable: True\n",
      "236 conv2d_10 trainable weights: 2 trainable: True\n",
      "237 masks trainable weights: 0 trainable: True\n"
     ]
    }
   ],
   "source": [
    "for i, layer in enumerate(unet.layers):\n",
    "    #if isinstance(layer, tf.keras.layers.BatchNormalization):\n",
    "    try:\n",
    "        print(i, layer.name, \"trainable weights:\", len(layer.trainable_weights), \" trainable: \" ,layer.trainable, \" training: \", layer.training)\n",
    "\n",
    "    except:\n",
    "        print(i, layer.name, \"trainable weights:\", len(layer.trainable_weights), \"trainable:\", layer.trainable)"
   ]
  },
  {
   "cell_type": "code",
   "execution_count": 4,
   "metadata": {},
   "outputs": [],
   "source": [
    "training_split = 0.6\n",
    "batch_size = 16\n",
    "patch_size = 224 # Maße des inputs\n",
    "epochs = 150\n",
    "\n",
    "pretrained_weights = 'AVG' #AVG (Mittelwert von RGB), RNDM (IR-Kanal Random), EXTRA_CONV (Original mit zusätzlichem Conv-Layer davor), RGB_SPLIT (Original und IR Bypass)\n",
    "\n",
    "conf = {\n",
    "    'AVG': 'BN',\n",
    "    'RNDM': 'BN',\n",
    "    'EXTRA_CONV': 'CONV',\n",
    "    'RGB_SPLIT': 'SPLIT'\n",
    "    } # Art des Netzwerks, BN, SPLIT (RGB & IR seperate conv-layer), CONV (zusätzlicher Conv um channel zu downsamplen) ...\n",
    "\n",
    "learning_rate = 0.001 # Learning rate\n",
    "\n",
    "rgb_drop = 0 # Dropout rate RGB 0-1\n",
    "ir_drop = 0 # Dropout rate IR 0-1\n",
    "\n",
    "l1 = 0.0005 # L1 weight decay regularizer 0-1\n",
    "l2 = 0.0005 # L2 weight decay regularizer0-1\n",
    "\n",
    "# ob 1. Conv-Layer mit Classifier trainiert wird oder eingefroren während erstem Trainingsdurchlauf des Decoder Parts\n",
    "train_first_layer = True\n",
    "\n",
    "# ob 1. Conv-Layer auch während des Fine-Tunings trainiert wird\n",
    "FT_train_first_layer = True\n",
    "\n",
    "initial_epochs = 20\n",
    "fine_tune_epochs = 280\n",
    "\n",
    "early_stop = False\n",
    "\n",
    "model_name = f'Final_{pretrained_weights}_rgbDrop_{rgb_drop}_earlyStop_{early_stop}'\n",
    "\n",
    "# Suffix der checkpoint und logger Ordner im Verzeichnis\n",
    "checkpoint_folder_name = 'final_runs'\n",
    "\n",
    "unet = load_model(conf[pretrained_weights])\n",
    "set_dropout(unet, rgb_drop= rgb_drop, ir_drop= ir_drop)\n",
    "set_weight_decay(unet, l1= l1, l2= l2)\n",
    "set_pretrained_weights(unet, pretrained_weights)\n",
    "set_encoder_frozen(unet, pretrained_weights, train_first_layer)\n",
    "compile_model(unet, learning_rate)"
   ]
  },
  {
   "cell_type": "code",
   "execution_count": 5,
   "metadata": {},
   "outputs": [
    {
     "name": "stdout",
     "output_type": "stream",
     "text": [
      "0 input trainable weights: 0 trainable: False\n",
      "1 split_input trainable weights: 0 trainable: False\n",
      "2 dropout_r trainable weights: 0 trainable: False\n",
      "3 dropout_g trainable weights: 0 trainable: False\n",
      "4 dropout_b trainable weights: 0 trainable: False\n",
      "5 dropout_ir trainable weights: 0 trainable: False\n",
      "6 concatenate_dropout trainable weights: 0 trainable: False\n",
      "7 conv1_pad trainable weights: 0 trainable: False\n",
      "8 conv1_conv trainable weights: 2 trainable: True\n",
      "9 pool1_pad trainable weights: 0 trainable: False\n",
      "10 pool1_pool trainable weights: 0 trainable: False\n",
      "11 conv2_block1_preact_bn trainable weights: 0  trainable:  False  training:  False\n",
      "12 conv2_block1_preact_relu trainable weights: 0 trainable: False\n",
      "13 conv2_block1_1_conv trainable weights: 0 trainable: False\n",
      "14 conv2_block1_1_bn trainable weights: 0  trainable:  False  training:  False\n",
      "15 conv2_block1_1_relu trainable weights: 0 trainable: False\n",
      "16 conv2_block1_2_pad trainable weights: 0 trainable: False\n",
      "17 conv2_block1_2_conv trainable weights: 0 trainable: False\n",
      "18 conv2_block1_2_bn trainable weights: 0  trainable:  False  training:  False\n",
      "19 conv2_block1_2_relu trainable weights: 0 trainable: False\n",
      "20 conv2_block1_0_conv trainable weights: 0 trainable: False\n",
      "21 conv2_block1_3_conv trainable weights: 0 trainable: False\n",
      "22 conv2_block1_out trainable weights: 0 trainable: False\n",
      "23 conv2_block2_preact_bn trainable weights: 0  trainable:  False  training:  False\n",
      "24 conv2_block2_preact_relu trainable weights: 0 trainable: False\n",
      "25 conv2_block2_1_conv trainable weights: 0 trainable: False\n",
      "26 conv2_block2_1_bn trainable weights: 0  trainable:  False  training:  False\n",
      "27 conv2_block2_1_relu trainable weights: 0 trainable: False\n",
      "28 conv2_block2_2_pad trainable weights: 0 trainable: False\n",
      "29 conv2_block2_2_conv trainable weights: 0 trainable: False\n",
      "30 conv2_block2_2_bn trainable weights: 0  trainable:  False  training:  False\n",
      "31 conv2_block2_2_relu trainable weights: 0 trainable: False\n",
      "32 conv2_block2_3_conv trainable weights: 0 trainable: False\n",
      "33 conv2_block2_out trainable weights: 0 trainable: False\n",
      "34 conv2_block3_preact_bn trainable weights: 0  trainable:  False  training:  False\n",
      "35 conv2_block3_preact_relu trainable weights: 0 trainable: False\n",
      "36 conv2_block3_1_conv trainable weights: 0 trainable: False\n",
      "37 conv2_block3_1_bn trainable weights: 0  trainable:  False  training:  False\n",
      "38 conv2_block3_1_relu trainable weights: 0 trainable: False\n",
      "39 conv2_block3_2_pad trainable weights: 0 trainable: False\n",
      "40 conv2_block3_2_conv trainable weights: 0 trainable: False\n",
      "41 conv2_block3_2_bn trainable weights: 0  trainable:  False  training:  False\n",
      "42 conv2_block3_2_relu trainable weights: 0 trainable: False\n",
      "43 max_pooling2d_3 trainable weights: 0 trainable: False\n",
      "44 conv2_block3_3_conv trainable weights: 0 trainable: False\n",
      "45 conv2_block3_out trainable weights: 0 trainable: False\n",
      "46 conv3_block1_preact_bn trainable weights: 0  trainable:  False  training:  False\n",
      "47 conv3_block1_preact_relu trainable weights: 0 trainable: False\n",
      "48 conv3_block1_1_conv trainable weights: 0 trainable: False\n",
      "49 conv3_block1_1_bn trainable weights: 0  trainable:  False  training:  False\n",
      "50 conv3_block1_1_relu trainable weights: 0 trainable: False\n",
      "51 conv3_block1_2_pad trainable weights: 0 trainable: False\n",
      "52 conv3_block1_2_conv trainable weights: 0 trainable: False\n",
      "53 conv3_block1_2_bn trainable weights: 0  trainable:  False  training:  False\n",
      "54 conv3_block1_2_relu trainable weights: 0 trainable: False\n",
      "55 conv3_block1_0_conv trainable weights: 0 trainable: False\n",
      "56 conv3_block1_3_conv trainable weights: 0 trainable: False\n",
      "57 conv3_block1_out trainable weights: 0 trainable: False\n",
      "58 conv3_block2_preact_bn trainable weights: 0  trainable:  False  training:  False\n",
      "59 conv3_block2_preact_relu trainable weights: 0 trainable: False\n",
      "60 conv3_block2_1_conv trainable weights: 0 trainable: False\n",
      "61 conv3_block2_1_bn trainable weights: 0  trainable:  False  training:  False\n",
      "62 conv3_block2_1_relu trainable weights: 0 trainable: False\n",
      "63 conv3_block2_2_pad trainable weights: 0 trainable: False\n",
      "64 conv3_block2_2_conv trainable weights: 0 trainable: False\n",
      "65 conv3_block2_2_bn trainable weights: 0  trainable:  False  training:  False\n",
      "66 conv3_block2_2_relu trainable weights: 0 trainable: False\n",
      "67 conv3_block2_3_conv trainable weights: 0 trainable: False\n",
      "68 conv3_block2_out trainable weights: 0 trainable: False\n",
      "69 conv3_block3_preact_bn trainable weights: 0  trainable:  False  training:  False\n",
      "70 conv3_block3_preact_relu trainable weights: 0 trainable: False\n",
      "71 conv3_block3_1_conv trainable weights: 0 trainable: False\n",
      "72 conv3_block3_1_bn trainable weights: 0  trainable:  False  training:  False\n",
      "73 conv3_block3_1_relu trainable weights: 0 trainable: False\n",
      "74 conv3_block3_2_pad trainable weights: 0 trainable: False\n",
      "75 conv3_block3_2_conv trainable weights: 0 trainable: False\n",
      "76 conv3_block3_2_bn trainable weights: 0  trainable:  False  training:  False\n",
      "77 conv3_block3_2_relu trainable weights: 0 trainable: False\n",
      "78 conv3_block3_3_conv trainable weights: 0 trainable: False\n",
      "79 conv3_block3_out trainable weights: 0 trainable: False\n",
      "80 conv3_block4_preact_bn trainable weights: 0  trainable:  False  training:  False\n",
      "81 conv3_block4_preact_relu trainable weights: 0 trainable: False\n",
      "82 conv3_block4_1_conv trainable weights: 0 trainable: False\n",
      "83 conv3_block4_1_bn trainable weights: 0  trainable:  False  training:  False\n",
      "84 conv3_block4_1_relu trainable weights: 0 trainable: False\n",
      "85 conv3_block4_2_pad trainable weights: 0 trainable: False\n",
      "86 conv3_block4_2_conv trainable weights: 0 trainable: False\n",
      "87 conv3_block4_2_bn trainable weights: 0  trainable:  False  training:  False\n",
      "88 conv3_block4_2_relu trainable weights: 0 trainable: False\n",
      "89 max_pooling2d_4 trainable weights: 0 trainable: False\n",
      "90 conv3_block4_3_conv trainable weights: 0 trainable: False\n",
      "91 conv3_block4_out trainable weights: 0 trainable: False\n",
      "92 conv4_block1_preact_bn trainable weights: 0  trainable:  False  training:  False\n",
      "93 conv4_block1_preact_relu trainable weights: 0 trainable: False\n",
      "94 conv4_block1_1_conv trainable weights: 0 trainable: False\n",
      "95 conv4_block1_1_bn trainable weights: 0  trainable:  False  training:  False\n",
      "96 conv4_block1_1_relu trainable weights: 0 trainable: False\n",
      "97 conv4_block1_2_pad trainable weights: 0 trainable: False\n",
      "98 conv4_block1_2_conv trainable weights: 0 trainable: False\n",
      "99 conv4_block1_2_bn trainable weights: 0  trainable:  False  training:  False\n",
      "100 conv4_block1_2_relu trainable weights: 0 trainable: False\n",
      "101 conv4_block1_0_conv trainable weights: 0 trainable: False\n",
      "102 conv4_block1_3_conv trainable weights: 0 trainable: False\n",
      "103 conv4_block1_out trainable weights: 0 trainable: False\n",
      "104 conv4_block2_preact_bn trainable weights: 0  trainable:  False  training:  False\n",
      "105 conv4_block2_preact_relu trainable weights: 0 trainable: False\n",
      "106 conv4_block2_1_conv trainable weights: 0 trainable: False\n",
      "107 conv4_block2_1_bn trainable weights: 0  trainable:  False  training:  False\n",
      "108 conv4_block2_1_relu trainable weights: 0 trainable: False\n",
      "109 conv4_block2_2_pad trainable weights: 0 trainable: False\n",
      "110 conv4_block2_2_conv trainable weights: 0 trainable: False\n",
      "111 conv4_block2_2_bn trainable weights: 0  trainable:  False  training:  False\n",
      "112 conv4_block2_2_relu trainable weights: 0 trainable: False\n",
      "113 conv4_block2_3_conv trainable weights: 0 trainable: False\n",
      "114 conv4_block2_out trainable weights: 0 trainable: False\n",
      "115 conv4_block3_preact_bn trainable weights: 0  trainable:  False  training:  False\n",
      "116 conv4_block3_preact_relu trainable weights: 0 trainable: False\n",
      "117 conv4_block3_1_conv trainable weights: 0 trainable: False\n",
      "118 conv4_block3_1_bn trainable weights: 0  trainable:  False  training:  False\n",
      "119 conv4_block3_1_relu trainable weights: 0 trainable: False\n",
      "120 conv4_block3_2_pad trainable weights: 0 trainable: False\n",
      "121 conv4_block3_2_conv trainable weights: 0 trainable: False\n",
      "122 conv4_block3_2_bn trainable weights: 0  trainable:  False  training:  False\n",
      "123 conv4_block3_2_relu trainable weights: 0 trainable: False\n",
      "124 conv4_block3_3_conv trainable weights: 0 trainable: False\n",
      "125 conv4_block3_out trainable weights: 0 trainable: False\n",
      "126 conv4_block4_preact_bn trainable weights: 0  trainable:  False  training:  False\n",
      "127 conv4_block4_preact_relu trainable weights: 0 trainable: False\n",
      "128 conv4_block4_1_conv trainable weights: 0 trainable: False\n",
      "129 conv4_block4_1_bn trainable weights: 0  trainable:  False  training:  False\n",
      "130 conv4_block4_1_relu trainable weights: 0 trainable: False\n",
      "131 conv4_block4_2_pad trainable weights: 0 trainable: False\n",
      "132 conv4_block4_2_conv trainable weights: 0 trainable: False\n",
      "133 conv4_block4_2_bn trainable weights: 0  trainable:  False  training:  False\n",
      "134 conv4_block4_2_relu trainable weights: 0 trainable: False\n",
      "135 conv4_block4_3_conv trainable weights: 0 trainable: False\n",
      "136 conv4_block4_out trainable weights: 0 trainable: False\n",
      "137 conv4_block5_preact_bn trainable weights: 0  trainable:  False  training:  False\n",
      "138 conv4_block5_preact_relu trainable weights: 0 trainable: False\n",
      "139 conv4_block5_1_conv trainable weights: 0 trainable: False\n",
      "140 conv4_block5_1_bn trainable weights: 0  trainable:  False  training:  False\n",
      "141 conv4_block5_1_relu trainable weights: 0 trainable: False\n",
      "142 conv4_block5_2_pad trainable weights: 0 trainable: False\n",
      "143 conv4_block5_2_conv trainable weights: 0 trainable: False\n",
      "144 conv4_block5_2_bn trainable weights: 0  trainable:  False  training:  False\n",
      "145 conv4_block5_2_relu trainable weights: 0 trainable: False\n",
      "146 conv4_block5_3_conv trainable weights: 0 trainable: False\n",
      "147 conv4_block5_out trainable weights: 0 trainable: False\n",
      "148 conv4_block6_preact_bn trainable weights: 0  trainable:  False  training:  False\n",
      "149 conv4_block6_preact_relu trainable weights: 0 trainable: False\n",
      "150 conv4_block6_1_conv trainable weights: 0 trainable: False\n",
      "151 conv4_block6_1_bn trainable weights: 0  trainable:  False  training:  False\n",
      "152 conv4_block6_1_relu trainable weights: 0 trainable: False\n",
      "153 conv4_block6_2_pad trainable weights: 0 trainable: False\n",
      "154 conv4_block6_2_conv trainable weights: 0 trainable: False\n",
      "155 conv4_block6_2_bn trainable weights: 0  trainable:  False  training:  False\n",
      "156 conv4_block6_2_relu trainable weights: 0 trainable: False\n",
      "157 max_pooling2d_5 trainable weights: 0 trainable: False\n",
      "158 conv4_block6_3_conv trainable weights: 0 trainable: False\n",
      "159 conv4_block6_out trainable weights: 0 trainable: False\n",
      "160 conv5_block1_preact_bn trainable weights: 0  trainable:  False  training:  False\n",
      "161 conv5_block1_preact_relu trainable weights: 0 trainable: False\n",
      "162 conv5_block1_1_conv trainable weights: 0 trainable: False\n",
      "163 conv5_block1_1_bn trainable weights: 0  trainable:  False  training:  False\n",
      "164 conv5_block1_1_relu trainable weights: 0 trainable: False\n",
      "165 conv5_block1_2_pad trainable weights: 0 trainable: False\n",
      "166 conv5_block1_2_conv trainable weights: 0 trainable: False\n",
      "167 conv5_block1_2_bn trainable weights: 0  trainable:  False  training:  False\n",
      "168 conv5_block1_2_relu trainable weights: 0 trainable: False\n",
      "169 conv5_block1_0_conv trainable weights: 0 trainable: False\n",
      "170 conv5_block1_3_conv trainable weights: 0 trainable: False\n",
      "171 conv5_block1_out trainable weights: 0 trainable: False\n",
      "172 conv5_block2_preact_bn trainable weights: 0  trainable:  False  training:  False\n",
      "173 conv5_block2_preact_relu trainable weights: 0 trainable: False\n",
      "174 conv5_block2_1_conv trainable weights: 0 trainable: False\n",
      "175 conv5_block2_1_bn trainable weights: 0  trainable:  False  training:  False\n",
      "176 conv5_block2_1_relu trainable weights: 0 trainable: False\n",
      "177 conv5_block2_2_pad trainable weights: 0 trainable: False\n",
      "178 conv5_block2_2_conv trainable weights: 0 trainable: False\n",
      "179 conv5_block2_2_bn trainable weights: 0  trainable:  False  training:  False\n",
      "180 conv5_block2_2_relu trainable weights: 0 trainable: False\n",
      "181 conv5_block2_3_conv trainable weights: 0 trainable: False\n",
      "182 conv5_block2_out trainable weights: 0 trainable: False\n",
      "183 conv5_block3_preact_bn trainable weights: 0  trainable:  False  training:  False\n",
      "184 conv5_block3_preact_relu trainable weights: 0 trainable: False\n",
      "185 conv5_block3_1_conv trainable weights: 0 trainable: False\n",
      "186 conv5_block3_1_bn trainable weights: 0  trainable:  False  training:  False\n",
      "187 conv5_block3_1_relu trainable weights: 0 trainable: False\n",
      "188 conv5_block3_2_pad trainable weights: 0 trainable: False\n",
      "189 conv5_block3_2_conv trainable weights: 0 trainable: False\n",
      "190 conv5_block3_2_bn trainable weights: 0  trainable:  False  training:  False\n",
      "191 conv5_block3_2_relu trainable weights: 0 trainable: False\n",
      "192 conv5_block3_3_conv trainable weights: 0 trainable: False\n",
      "193 conv5_block3_out trainable weights: 0 trainable: False\n",
      "194 post_bn trainable weights: 0  trainable:  False  training:  False\n",
      "195 post_relu trainable weights: 0 trainable: False\n",
      "196 up_sampling2d trainable weights: 0 trainable: True\n",
      "197 concatenate trainable weights: 0 trainable: True\n",
      "198 conv2d trainable weights: 1 trainable: True\n",
      "199 batch_normalization trainable weights: 2 trainable: True\n",
      "200 activation trainable weights: 0 trainable: True\n",
      "201 conv2d_1 trainable weights: 1 trainable: True\n",
      "202 batch_normalization_1 trainable weights: 2 trainable: True\n",
      "203 activation_1 trainable weights: 0 trainable: True\n",
      "204 up_sampling2d_1 trainable weights: 0 trainable: True\n",
      "205 concatenate_1 trainable weights: 0 trainable: True\n",
      "206 conv2d_2 trainable weights: 1 trainable: True\n",
      "207 batch_normalization_2 trainable weights: 2 trainable: True\n",
      "208 activation_2 trainable weights: 0 trainable: True\n",
      "209 conv2d_3 trainable weights: 1 trainable: True\n",
      "210 batch_normalization_3 trainable weights: 2 trainable: True\n",
      "211 activation_3 trainable weights: 0 trainable: True\n",
      "212 up_sampling2d_2 trainable weights: 0 trainable: True\n",
      "213 concatenate_2 trainable weights: 0 trainable: True\n",
      "214 conv2d_4 trainable weights: 1 trainable: True\n",
      "215 batch_normalization_4 trainable weights: 2 trainable: True\n",
      "216 activation_4 trainable weights: 0 trainable: True\n",
      "217 conv2d_5 trainable weights: 1 trainable: True\n",
      "218 batch_normalization_5 trainable weights: 2 trainable: True\n",
      "219 activation_5 trainable weights: 0 trainable: True\n",
      "220 up_sampling2d_3 trainable weights: 0 trainable: True\n",
      "221 concatenate_3 trainable weights: 0 trainable: True\n",
      "222 conv2d_6 trainable weights: 1 trainable: True\n",
      "223 batch_normalization_6 trainable weights: 2 trainable: True\n",
      "224 activation_6 trainable weights: 0 trainable: True\n",
      "225 conv2d_7 trainable weights: 1 trainable: True\n",
      "226 batch_normalization_7 trainable weights: 2 trainable: True\n",
      "227 activation_7 trainable weights: 0 trainable: True\n",
      "228 up_sampling2d_4 trainable weights: 0 trainable: True\n",
      "229 concatenate_4 trainable weights: 0 trainable: True\n",
      "230 conv2d_8 trainable weights: 1 trainable: True\n",
      "231 batch_normalization_8 trainable weights: 2 trainable: True\n",
      "232 activation_8 trainable weights: 0 trainable: True\n",
      "233 conv2d_9 trainable weights: 1 trainable: True\n",
      "234 batch_normalization_9 trainable weights: 2 trainable: True\n",
      "235 activation_9 trainable weights: 0 trainable: True\n",
      "236 conv2d_10 trainable weights: 2 trainable: True\n",
      "237 masks trainable weights: 0 trainable: True\n",
      "Epoch 1/20\n",
      " 73/398 [====>.........................] - ETA: 57s - loss: 0.1371 - accuracy: 0.7405 - binary_iou: 0.5840 - true_positives: 18091800.0000 - false_positives: 9166487.0000 - true_negatives: 25305576.0000 - false_negatives: 6041705.0000 - precision: 0.6637 - recall: 0.7497"
     ]
    },
    {
     "ename": "KeyboardInterrupt",
     "evalue": "",
     "output_type": "error",
     "traceback": [
      "\u001b[1;31m---------------------------------------------------------------------------\u001b[0m",
      "\u001b[1;31mKeyboardInterrupt\u001b[0m                         Traceback (most recent call last)",
      "Cell \u001b[1;32mIn[5], line 38\u001b[0m\n\u001b[0;32m     34\u001b[0m     \u001b[39mexcept\u001b[39;00m:\n\u001b[0;32m     35\u001b[0m         \u001b[39mprint\u001b[39m(i, layer\u001b[39m.\u001b[39mname, \u001b[39m\"\u001b[39m\u001b[39mtrainable weights:\u001b[39m\u001b[39m\"\u001b[39m, \u001b[39mlen\u001b[39m(layer\u001b[39m.\u001b[39mtrainable_weights), \u001b[39m\"\u001b[39m\u001b[39mtrainable:\u001b[39m\u001b[39m\"\u001b[39m, layer\u001b[39m.\u001b[39mtrainable)\n\u001b[1;32m---> 38\u001b[0m model_history \u001b[39m=\u001b[39m unet\u001b[39m.\u001b[39;49mfit(train_data_generator, \n\u001b[0;32m     39\u001b[0m                          validation_data\u001b[39m=\u001b[39;49mval_data_generator, \n\u001b[0;32m     40\u001b[0m                          callbacks\u001b[39m=\u001b[39;49m callbacks, \n\u001b[0;32m     41\u001b[0m                          epochs\u001b[39m=\u001b[39;49m initial_epochs)\n\u001b[0;32m     43\u001b[0m total_epochs \u001b[39m=\u001b[39m  initial_epochs \u001b[39m+\u001b[39m fine_tune_epochs\n\u001b[0;32m     45\u001b[0m set_trainable_fine_tuning(unet, pretrained_weights, FT_train_first_layer)\n",
      "File \u001b[1;32mc:\\Users\\manue\\.conda\\envs\\tf2\\lib\\site-packages\\keras\\utils\\traceback_utils.py:65\u001b[0m, in \u001b[0;36mfilter_traceback.<locals>.error_handler\u001b[1;34m(*args, **kwargs)\u001b[0m\n\u001b[0;32m     63\u001b[0m filtered_tb \u001b[39m=\u001b[39m \u001b[39mNone\u001b[39;00m\n\u001b[0;32m     64\u001b[0m \u001b[39mtry\u001b[39;00m:\n\u001b[1;32m---> 65\u001b[0m     \u001b[39mreturn\u001b[39;00m fn(\u001b[39m*\u001b[39margs, \u001b[39m*\u001b[39m\u001b[39m*\u001b[39mkwargs)\n\u001b[0;32m     66\u001b[0m \u001b[39mexcept\u001b[39;00m \u001b[39mException\u001b[39;00m \u001b[39mas\u001b[39;00m e:\n\u001b[0;32m     67\u001b[0m     filtered_tb \u001b[39m=\u001b[39m _process_traceback_frames(e\u001b[39m.\u001b[39m__traceback__)\n",
      "File \u001b[1;32mc:\\Users\\manue\\.conda\\envs\\tf2\\lib\\site-packages\\keras\\engine\\training.py:1570\u001b[0m, in \u001b[0;36mModel.fit\u001b[1;34m(self, x, y, batch_size, epochs, verbose, callbacks, validation_split, validation_data, shuffle, class_weight, sample_weight, initial_epoch, steps_per_epoch, validation_steps, validation_batch_size, validation_freq, max_queue_size, workers, use_multiprocessing)\u001b[0m\n\u001b[0;32m   1568\u001b[0m logs \u001b[39m=\u001b[39m tmp_logs\n\u001b[0;32m   1569\u001b[0m end_step \u001b[39m=\u001b[39m step \u001b[39m+\u001b[39m data_handler\u001b[39m.\u001b[39mstep_increment\n\u001b[1;32m-> 1570\u001b[0m callbacks\u001b[39m.\u001b[39;49mon_train_batch_end(end_step, logs)\n\u001b[0;32m   1571\u001b[0m \u001b[39mif\u001b[39;00m \u001b[39mself\u001b[39m\u001b[39m.\u001b[39mstop_training:\n\u001b[0;32m   1572\u001b[0m     \u001b[39mbreak\u001b[39;00m\n",
      "File \u001b[1;32mc:\\Users\\manue\\.conda\\envs\\tf2\\lib\\site-packages\\keras\\callbacks.py:470\u001b[0m, in \u001b[0;36mCallbackList.on_train_batch_end\u001b[1;34m(self, batch, logs)\u001b[0m\n\u001b[0;32m    463\u001b[0m \u001b[39m\u001b[39m\u001b[39m\"\"\"Calls the `on_train_batch_end` methods of its callbacks.\u001b[39;00m\n\u001b[0;32m    464\u001b[0m \n\u001b[0;32m    465\u001b[0m \u001b[39mArgs:\u001b[39;00m\n\u001b[0;32m    466\u001b[0m \u001b[39m    batch: Integer, index of batch within the current epoch.\u001b[39;00m\n\u001b[0;32m    467\u001b[0m \u001b[39m    logs: Dict. Aggregated metric results up until this batch.\u001b[39;00m\n\u001b[0;32m    468\u001b[0m \u001b[39m\"\"\"\u001b[39;00m\n\u001b[0;32m    469\u001b[0m \u001b[39mif\u001b[39;00m \u001b[39mself\u001b[39m\u001b[39m.\u001b[39m_should_call_train_batch_hooks:\n\u001b[1;32m--> 470\u001b[0m     \u001b[39mself\u001b[39;49m\u001b[39m.\u001b[39;49m_call_batch_hook(ModeKeys\u001b[39m.\u001b[39;49mTRAIN, \u001b[39m\"\u001b[39;49m\u001b[39mend\u001b[39;49m\u001b[39m\"\u001b[39;49m, batch, logs\u001b[39m=\u001b[39;49mlogs)\n",
      "File \u001b[1;32mc:\\Users\\manue\\.conda\\envs\\tf2\\lib\\site-packages\\keras\\callbacks.py:317\u001b[0m, in \u001b[0;36mCallbackList._call_batch_hook\u001b[1;34m(self, mode, hook, batch, logs)\u001b[0m\n\u001b[0;32m    315\u001b[0m     \u001b[39mself\u001b[39m\u001b[39m.\u001b[39m_call_batch_begin_hook(mode, batch, logs)\n\u001b[0;32m    316\u001b[0m \u001b[39melif\u001b[39;00m hook \u001b[39m==\u001b[39m \u001b[39m\"\u001b[39m\u001b[39mend\u001b[39m\u001b[39m\"\u001b[39m:\n\u001b[1;32m--> 317\u001b[0m     \u001b[39mself\u001b[39;49m\u001b[39m.\u001b[39;49m_call_batch_end_hook(mode, batch, logs)\n\u001b[0;32m    318\u001b[0m \u001b[39melse\u001b[39;00m:\n\u001b[0;32m    319\u001b[0m     \u001b[39mraise\u001b[39;00m \u001b[39mValueError\u001b[39;00m(\n\u001b[0;32m    320\u001b[0m         \u001b[39mf\u001b[39m\u001b[39m\"\u001b[39m\u001b[39mUnrecognized hook: \u001b[39m\u001b[39m{\u001b[39;00mhook\u001b[39m}\u001b[39;00m\u001b[39m. \u001b[39m\u001b[39m\"\u001b[39m\n\u001b[0;32m    321\u001b[0m         \u001b[39m'\u001b[39m\u001b[39mExpected values are [\u001b[39m\u001b[39m\"\u001b[39m\u001b[39mbegin\u001b[39m\u001b[39m\"\u001b[39m\u001b[39m, \u001b[39m\u001b[39m\"\u001b[39m\u001b[39mend\u001b[39m\u001b[39m\"\u001b[39m\u001b[39m]\u001b[39m\u001b[39m'\u001b[39m\n\u001b[0;32m    322\u001b[0m     )\n",
      "File \u001b[1;32mc:\\Users\\manue\\.conda\\envs\\tf2\\lib\\site-packages\\keras\\callbacks.py:340\u001b[0m, in \u001b[0;36mCallbackList._call_batch_end_hook\u001b[1;34m(self, mode, batch, logs)\u001b[0m\n\u001b[0;32m    337\u001b[0m     batch_time \u001b[39m=\u001b[39m time\u001b[39m.\u001b[39mtime() \u001b[39m-\u001b[39m \u001b[39mself\u001b[39m\u001b[39m.\u001b[39m_batch_start_time\n\u001b[0;32m    338\u001b[0m     \u001b[39mself\u001b[39m\u001b[39m.\u001b[39m_batch_times\u001b[39m.\u001b[39mappend(batch_time)\n\u001b[1;32m--> 340\u001b[0m \u001b[39mself\u001b[39;49m\u001b[39m.\u001b[39;49m_call_batch_hook_helper(hook_name, batch, logs)\n\u001b[0;32m    342\u001b[0m \u001b[39mif\u001b[39;00m \u001b[39mlen\u001b[39m(\u001b[39mself\u001b[39m\u001b[39m.\u001b[39m_batch_times) \u001b[39m>\u001b[39m\u001b[39m=\u001b[39m \u001b[39mself\u001b[39m\u001b[39m.\u001b[39m_num_batches_for_timing_check:\n\u001b[0;32m    343\u001b[0m     end_hook_name \u001b[39m=\u001b[39m hook_name\n",
      "File \u001b[1;32mc:\\Users\\manue\\.conda\\envs\\tf2\\lib\\site-packages\\keras\\callbacks.py:388\u001b[0m, in \u001b[0;36mCallbackList._call_batch_hook_helper\u001b[1;34m(self, hook_name, batch, logs)\u001b[0m\n\u001b[0;32m    386\u001b[0m \u001b[39mfor\u001b[39;00m callback \u001b[39min\u001b[39;00m \u001b[39mself\u001b[39m\u001b[39m.\u001b[39mcallbacks:\n\u001b[0;32m    387\u001b[0m     hook \u001b[39m=\u001b[39m \u001b[39mgetattr\u001b[39m(callback, hook_name)\n\u001b[1;32m--> 388\u001b[0m     hook(batch, logs)\n\u001b[0;32m    390\u001b[0m \u001b[39mif\u001b[39;00m \u001b[39mself\u001b[39m\u001b[39m.\u001b[39m_check_timing:\n\u001b[0;32m    391\u001b[0m     \u001b[39mif\u001b[39;00m hook_name \u001b[39mnot\u001b[39;00m \u001b[39min\u001b[39;00m \u001b[39mself\u001b[39m\u001b[39m.\u001b[39m_hook_times:\n",
      "File \u001b[1;32mc:\\Users\\manue\\.conda\\envs\\tf2\\lib\\site-packages\\keras\\callbacks.py:1081\u001b[0m, in \u001b[0;36mProgbarLogger.on_train_batch_end\u001b[1;34m(self, batch, logs)\u001b[0m\n\u001b[0;32m   1080\u001b[0m \u001b[39mdef\u001b[39;00m \u001b[39mon_train_batch_end\u001b[39m(\u001b[39mself\u001b[39m, batch, logs\u001b[39m=\u001b[39m\u001b[39mNone\u001b[39;00m):\n\u001b[1;32m-> 1081\u001b[0m     \u001b[39mself\u001b[39;49m\u001b[39m.\u001b[39;49m_batch_update_progbar(batch, logs)\n",
      "File \u001b[1;32mc:\\Users\\manue\\.conda\\envs\\tf2\\lib\\site-packages\\keras\\callbacks.py:1157\u001b[0m, in \u001b[0;36mProgbarLogger._batch_update_progbar\u001b[1;34m(self, batch, logs)\u001b[0m\n\u001b[0;32m   1153\u001b[0m     \u001b[39mself\u001b[39m\u001b[39m.\u001b[39mseen \u001b[39m+\u001b[39m\u001b[39m=\u001b[39m add_seen\n\u001b[0;32m   1155\u001b[0m \u001b[39mif\u001b[39;00m \u001b[39mself\u001b[39m\u001b[39m.\u001b[39mverbose \u001b[39m==\u001b[39m \u001b[39m1\u001b[39m:\n\u001b[0;32m   1156\u001b[0m     \u001b[39m# Only block async when verbose = 1.\u001b[39;00m\n\u001b[1;32m-> 1157\u001b[0m     logs \u001b[39m=\u001b[39m tf_utils\u001b[39m.\u001b[39;49msync_to_numpy_or_python_type(logs)\n\u001b[0;32m   1158\u001b[0m     \u001b[39mself\u001b[39m\u001b[39m.\u001b[39mprogbar\u001b[39m.\u001b[39mupdate(\u001b[39mself\u001b[39m\u001b[39m.\u001b[39mseen, \u001b[39mlist\u001b[39m(logs\u001b[39m.\u001b[39mitems()), finalize\u001b[39m=\u001b[39m\u001b[39mFalse\u001b[39;00m)\n",
      "File \u001b[1;32mc:\\Users\\manue\\.conda\\envs\\tf2\\lib\\site-packages\\keras\\utils\\tf_utils.py:635\u001b[0m, in \u001b[0;36msync_to_numpy_or_python_type\u001b[1;34m(tensors)\u001b[0m\n\u001b[0;32m    632\u001b[0m         \u001b[39mreturn\u001b[39;00m t\n\u001b[0;32m    633\u001b[0m     \u001b[39mreturn\u001b[39;00m t\u001b[39m.\u001b[39mitem() \u001b[39mif\u001b[39;00m np\u001b[39m.\u001b[39mndim(t) \u001b[39m==\u001b[39m \u001b[39m0\u001b[39m \u001b[39melse\u001b[39;00m t\n\u001b[1;32m--> 635\u001b[0m \u001b[39mreturn\u001b[39;00m tf\u001b[39m.\u001b[39;49mnest\u001b[39m.\u001b[39;49mmap_structure(_to_single_numpy_or_python_type, tensors)\n",
      "File \u001b[1;32mc:\\Users\\manue\\.conda\\envs\\tf2\\lib\\site-packages\\tensorflow\\python\\util\\nest.py:917\u001b[0m, in \u001b[0;36mmap_structure\u001b[1;34m(func, *structure, **kwargs)\u001b[0m\n\u001b[0;32m    913\u001b[0m flat_structure \u001b[39m=\u001b[39m (flatten(s, expand_composites) \u001b[39mfor\u001b[39;00m s \u001b[39min\u001b[39;00m structure)\n\u001b[0;32m    914\u001b[0m entries \u001b[39m=\u001b[39m \u001b[39mzip\u001b[39m(\u001b[39m*\u001b[39mflat_structure)\n\u001b[0;32m    916\u001b[0m \u001b[39mreturn\u001b[39;00m pack_sequence_as(\n\u001b[1;32m--> 917\u001b[0m     structure[\u001b[39m0\u001b[39m], [func(\u001b[39m*\u001b[39mx) \u001b[39mfor\u001b[39;00m x \u001b[39min\u001b[39;00m entries],\n\u001b[0;32m    918\u001b[0m     expand_composites\u001b[39m=\u001b[39mexpand_composites)\n",
      "File \u001b[1;32mc:\\Users\\manue\\.conda\\envs\\tf2\\lib\\site-packages\\tensorflow\\python\\util\\nest.py:917\u001b[0m, in \u001b[0;36m<listcomp>\u001b[1;34m(.0)\u001b[0m\n\u001b[0;32m    913\u001b[0m flat_structure \u001b[39m=\u001b[39m (flatten(s, expand_composites) \u001b[39mfor\u001b[39;00m s \u001b[39min\u001b[39;00m structure)\n\u001b[0;32m    914\u001b[0m entries \u001b[39m=\u001b[39m \u001b[39mzip\u001b[39m(\u001b[39m*\u001b[39mflat_structure)\n\u001b[0;32m    916\u001b[0m \u001b[39mreturn\u001b[39;00m pack_sequence_as(\n\u001b[1;32m--> 917\u001b[0m     structure[\u001b[39m0\u001b[39m], [func(\u001b[39m*\u001b[39;49mx) \u001b[39mfor\u001b[39;00m x \u001b[39min\u001b[39;00m entries],\n\u001b[0;32m    918\u001b[0m     expand_composites\u001b[39m=\u001b[39mexpand_composites)\n",
      "File \u001b[1;32mc:\\Users\\manue\\.conda\\envs\\tf2\\lib\\site-packages\\keras\\utils\\tf_utils.py:628\u001b[0m, in \u001b[0;36msync_to_numpy_or_python_type.<locals>._to_single_numpy_or_python_type\u001b[1;34m(t)\u001b[0m\n\u001b[0;32m    625\u001b[0m \u001b[39mdef\u001b[39;00m \u001b[39m_to_single_numpy_or_python_type\u001b[39m(t):\n\u001b[0;32m    626\u001b[0m     \u001b[39m# Don't turn ragged or sparse tensors to NumPy.\u001b[39;00m\n\u001b[0;32m    627\u001b[0m     \u001b[39mif\u001b[39;00m \u001b[39misinstance\u001b[39m(t, tf\u001b[39m.\u001b[39mTensor):\n\u001b[1;32m--> 628\u001b[0m         t \u001b[39m=\u001b[39m t\u001b[39m.\u001b[39;49mnumpy()\n\u001b[0;32m    629\u001b[0m     \u001b[39m# Strings, ragged and sparse tensors don't have .item(). Return them\u001b[39;00m\n\u001b[0;32m    630\u001b[0m     \u001b[39m# as-is.\u001b[39;00m\n\u001b[0;32m    631\u001b[0m     \u001b[39mif\u001b[39;00m \u001b[39mnot\u001b[39;00m \u001b[39misinstance\u001b[39m(t, (np\u001b[39m.\u001b[39mndarray, np\u001b[39m.\u001b[39mgeneric)):\n",
      "File \u001b[1;32mc:\\Users\\manue\\.conda\\envs\\tf2\\lib\\site-packages\\tensorflow\\python\\framework\\ops.py:1157\u001b[0m, in \u001b[0;36m_EagerTensorBase.numpy\u001b[1;34m(self)\u001b[0m\n\u001b[0;32m   1134\u001b[0m \u001b[39m\u001b[39m\u001b[39m\"\"\"Copy of the contents of this Tensor into a NumPy array or scalar.\u001b[39;00m\n\u001b[0;32m   1135\u001b[0m \n\u001b[0;32m   1136\u001b[0m \u001b[39mUnlike NumPy arrays, Tensors are immutable, so this method has to copy\u001b[39;00m\n\u001b[1;32m   (...)\u001b[0m\n\u001b[0;32m   1154\u001b[0m \u001b[39m    NumPy dtype.\u001b[39;00m\n\u001b[0;32m   1155\u001b[0m \u001b[39m\"\"\"\u001b[39;00m\n\u001b[0;32m   1156\u001b[0m \u001b[39m# TODO(slebedev): Consider avoiding a copy for non-CPU or remote tensors.\u001b[39;00m\n\u001b[1;32m-> 1157\u001b[0m maybe_arr \u001b[39m=\u001b[39m \u001b[39mself\u001b[39;49m\u001b[39m.\u001b[39;49m_numpy()  \u001b[39m# pylint: disable=protected-access\u001b[39;00m\n\u001b[0;32m   1158\u001b[0m \u001b[39mreturn\u001b[39;00m maybe_arr\u001b[39m.\u001b[39mcopy() \u001b[39mif\u001b[39;00m \u001b[39misinstance\u001b[39m(maybe_arr, np\u001b[39m.\u001b[39mndarray) \u001b[39melse\u001b[39;00m maybe_arr\n",
      "File \u001b[1;32mc:\\Users\\manue\\.conda\\envs\\tf2\\lib\\site-packages\\tensorflow\\python\\framework\\ops.py:1123\u001b[0m, in \u001b[0;36m_EagerTensorBase._numpy\u001b[1;34m(self)\u001b[0m\n\u001b[0;32m   1121\u001b[0m \u001b[39mdef\u001b[39;00m \u001b[39m_numpy\u001b[39m(\u001b[39mself\u001b[39m):\n\u001b[0;32m   1122\u001b[0m   \u001b[39mtry\u001b[39;00m:\n\u001b[1;32m-> 1123\u001b[0m     \u001b[39mreturn\u001b[39;00m \u001b[39mself\u001b[39;49m\u001b[39m.\u001b[39;49m_numpy_internal()\n\u001b[0;32m   1124\u001b[0m   \u001b[39mexcept\u001b[39;00m core\u001b[39m.\u001b[39m_NotOkStatusException \u001b[39mas\u001b[39;00m e:  \u001b[39m# pylint: disable=protected-access\u001b[39;00m\n\u001b[0;32m   1125\u001b[0m     \u001b[39mraise\u001b[39;00m core\u001b[39m.\u001b[39m_status_to_exception(e) \u001b[39mfrom\u001b[39;00m \u001b[39mNone\u001b[39;00m\n",
      "\u001b[1;31mKeyboardInterrupt\u001b[0m: "
     ]
    }
   ],
   "source": [
    "train_data_generator = CustomDataGenerator(\n",
    "    batch_size = batch_size,\n",
    "    augment = True,\n",
    "    shuffle = True,\n",
    "    img_directory = f'../data/Potsdam/{patch_size}_patches/split_folders{training_split}/train/images',\n",
    "    msk_directory = f'../data/Potsdam/{patch_size}_patches/split_folders{training_split}/train/masks'\n",
    ")\n",
    "\n",
    "val_data_generator = CustomDataGenerator(\n",
    "    batch_size = batch_size,\n",
    "    augment = False,\n",
    "    shuffle = True,\n",
    "    img_directory = f'../data/Potsdam/{patch_size}_patches/split_folders{training_split}/val/images',\n",
    "    msk_directory = f'../data/Potsdam/{patch_size}_patches/split_folders{training_split}/val/masks'\n",
    ")\n",
    "\n",
    "test_data_generator = CustomDataGenerator(\n",
    "    batch_size = batch_size,\n",
    "    augment = False,\n",
    "    shuffle = False,\n",
    "    img_directory = f'../data/Potsdam/{patch_size}_patches/split_folders{training_split}/test/images',\n",
    "    msk_directory = f'../data/Potsdam/{patch_size}_patches/split_folders{training_split}/test/masks'\n",
    ")\n",
    "\n",
    "callbacks = get_callbacks(model_name, checkpoint_folder_name)\n",
    "\n",
    "start = time()\n",
    "\n",
    "for i, layer in enumerate(unet.layers):\n",
    "    #if isinstance(layer, tf.keras.layers.BatchNormalization):\n",
    "    try:\n",
    "        print(i, layer.name, \"trainable weights:\", len(layer.trainable_weights), \" trainable: \" ,layer.trainable, \" training: \", layer.training)\n",
    "\n",
    "    except:\n",
    "        print(i, layer.name, \"trainable weights:\", len(layer.trainable_weights), \"trainable:\", layer.trainable)\n",
    "\n",
    "\n",
    "model_history = unet.fit(train_data_generator, \n",
    "                         validation_data=val_data_generator, \n",
    "                         callbacks= callbacks, \n",
    "                         epochs= initial_epochs)\n",
    "\n",
    "total_epochs =  initial_epochs + fine_tune_epochs\n",
    "\n",
    "set_trainable_fine_tuning(unet, pretrained_weights, FT_train_first_layer)\n",
    "# erneut kompilieren, Learning Rate verringern\n",
    "compile_model(unet, learning_rate/10)\n",
    "\n",
    "\n",
    "for i, layer in enumerate(unet.layers):\n",
    "    #if isinstance(layer, tf.keras.layers.BatchNormalization):\n",
    "    try:\n",
    "        print(i, layer.name, \"trainable weights:\", len(layer.trainable_weights), \" trainable: \" ,layer.trainable, \" training: \", layer.training)\n",
    "\n",
    "    except:\n",
    "        print(i, layer.name, \"trainable weights:\", len(layer.trainable_weights), \"trainable:\", layer.trainable)\n",
    "\n",
    "\n",
    "history_fine = unet.fit(train_data_generator,\n",
    "                        validation_data= val_data_generator,\n",
    "                        callbacks= callbacks,\n",
    "                        epochs= total_epochs,\n",
    "                        initial_epoch= model_history.epoch[-1])\n",
    "\n",
    "training_time = time() - start"
   ]
  },
  {
   "cell_type": "code",
   "execution_count": 4,
   "metadata": {},
   "outputs": [
    {
     "name": "stdout",
     "output_type": "stream",
     "text": [
      "523.6093661944071  min\n"
     ]
    }
   ],
   "source": [
    "print(training_time/60, \" min\")\n"
   ]
  },
  {
   "cell_type": "code",
   "execution_count": 7,
   "metadata": {},
   "outputs": [
    {
     "data": {
      "image/png": "[encoded data removed]",
      "text/plain": [
       "<Figure size 640x480 with 1 Axes>"
      ]
     },
     "metadata": {},
     "output_type": "display_data"
    }
   ],
   "source": [
    "checkpoint_path = f'../checkpoints_{checkpoint_folder_name}/{model_name}'\n",
    "\n",
    "# laden des besten models\n",
    "unet = tf.keras.models.load_model(checkpoint_path)\n",
    "\n",
    "# Evaluieren & Ergebnisse in Tabelle\n",
    "#eval_out = unet.evaluate(test_data_generator)\n",
    "\"\"\"\n",
    "with open('../results/eval_output.csv', 'a') as f_object:\n",
    "    row = []\n",
    "    \n",
    "    row.append(model_name)\n",
    "\n",
    "    for x in eval_out:\n",
    "        row.append(x)\n",
    "\n",
    "    writer_object = csv.writer(f_object)\n",
    "\n",
    "    writer_object.writerow(row)\n",
    "\n",
    "\"\"\"\n",
    "# Plotten\n",
    "#iou = model_history.history['binary_iou']\n",
    "#iou += history_fine.history['binary_iou']\n",
    "\n",
    "#val_iou = model_history.history['val_binary_iou']\n",
    "#val_iou += history_fine.history['val_binary_iou']\n",
    "\n",
    "#acc = model_history.history['accuracy']\n",
    "#val_acc = model_history.history['val_accuracy']\n",
    "\n",
    "#epochs = range(1, len(val_iou)+1)\n",
    "\n",
    "#plt.plot(epochs, acc, 'y', label= 'Training accuracy')\n",
    "#plt.plot(epochs, val_acc, 'r', label= 'Validation accuracy')\n",
    "plt.plot(epochs[0:300], iou[0:300], 'g', label= 'Training IoU')\n",
    "plt.plot(epochs[0:300], val_iou[0:300], 'b', label= 'Validation IoU')\n",
    "\n",
    "plt.plot([initial_epochs-1,initial_epochs-1], plt.ylim(), 'r', label='Start Fine Tuning')\n",
    "\n",
    "#plt.title('Train & Val accuracy & IoU')\n",
    "plt.title('Training & Validation IoU')\n",
    "plt.xlabel('Epochs')\n",
    "plt.ylabel('IoU')\n",
    "plt.legend()\n",
    "\n",
    "#if not os.path.isdir(f'../results/{model_name}'):\n",
    "#    os.makedirs(f'../results/{model_name}')\n",
    "#plt.savefig(f'../results/{model_name}/acc_iou_{model_name}.png', bbox_inches='tight')\n",
    "\n",
    "plt.show()"
   ]
  },
  {
   "cell_type": "code",
   "execution_count": 4,
   "metadata": {},
   "outputs": [
    {
     "name": "stdout",
     "output_type": "stream",
     "text": [
      "132/132 [==============================] - 47s 332ms/step - loss: 451.9710 - accuracy: 0.9217 - binary_iou: 0.8510 - true_positives: 39710960.0000 - false_positives: 3818404.0000 - true_negatives: 57966328.0000 - false_negatives: 4476012.0000 - precision: 0.9123 - recall: 0.8987\n"
     ]
    },
    {
     "data": {
      "image/png": "[encoded data removed]",
      "text/plain": [
       "<Figure size 640x480 with 1 Axes>"
      ]
     },
     "metadata": {},
     "output_type": "display_data"
    }
   ],
   "source": [
    "#model_name = 'testlauf_fine_tune_first_layerFalse'\n",
    "\n",
    "# Zusammenführen von Training- und Fine-Tuning-History\n",
    "iou = model_history.history['binary_iou']\n",
    "iou += history_fine.history['binary_iou']\n",
    "\n",
    "val_iou = model_history.history['val_binary_iou']\n",
    "val_iou += history_fine.history['val_binary_iou']\n",
    "\n",
    "\n",
    "# laden des besten models\n",
    "checkpoint_path = f'../checkpoints_{checkpoint_folder_name}/{model_name}'\n",
    "\n",
    "unet = tf.keras.models.load_model(checkpoint_path)\n",
    "\n",
    "# Evaluieren & Ergebnisse in Tabelle\n",
    "eval_out = unet.evaluate(test_data_generator)\n",
    "\n",
    "# Schreiben der Eval-Ergebnisse in csv\n",
    "with open('../results/final_runs.csv', 'a') as f_object:\n",
    "    row = []\n",
    "    \n",
    "    row.append(model_name + \"_300e\")\n",
    "\n",
    "    for x in eval_out:\n",
    "        row.append(x)\n",
    "\n",
    "    # Einfügen der Trainingszeit in Minuten\n",
    "    row.append(training_time/60)\n",
    "\n",
    "    # Einfügen der maximalen Val-IoU\n",
    "    row.append(max(val_iou))\n",
    "\n",
    "    # Einfügen des Index der maximalen Val-IoU\n",
    "    row.append(np.argmax(val_iou))\n",
    "\n",
    "    writer_object = csv.writer(f_object)\n",
    "\n",
    "    writer_object.writerow(row)\n",
    "\n",
    "\n",
    "# Plotten\n",
    "\n",
    "#acc = model_history.history['accuracy']\n",
    "#val_acc = model_history.history['val_accuracy']\n",
    "\n",
    "epochs = range(1, len(val_iou)+1)\n",
    "\n",
    "#plt.plot(epochs, acc, 'y', label= 'Training accuracy')\n",
    "#plt.plot(epochs, val_acc, 'r', label= 'Validation accuracy')\n",
    "plt.plot(epochs[0:300], iou[0:300], 'g', label= 'Training IoU')\n",
    "plt.plot(epochs[0:300], val_iou[0:300], 'b', label= 'Validation IoU')\n",
    "\n",
    "plt.plot([initial_epochs-1,initial_epochs-1], plt.ylim(), 'r', label='Start Fine Tuning')\n",
    "\n",
    "#plt.title('Train & Val accuracy & IoU')\n",
    "plt.title('Training & Validation IoU')\n",
    "plt.xlabel('Epochs')\n",
    "plt.ylabel('IoU')\n",
    "plt.legend()\n",
    "\n",
    "if not os.path.isdir(f'../results/final_runs/{model_name}'):\n",
    "    os.makedirs(f'../results/final_runs/{model_name}')\n",
    "plt.savefig(f'../results/final_runs/{model_name}/iou_{model_name}.png', bbox_inches='tight')\n",
    "\n",
    "plt.show()"
   ]
  },
  {
   "cell_type": "code",
   "execution_count": 10,
   "metadata": {},
   "outputs": [
    {
     "data": {
      "image/png": "[encoded data removed]",
      "text/plain": [
       "<Figure size 640x480 with 1 Axes>"
      ]
     },
     "metadata": {},
     "output_type": "display_data"
    }
   ],
   "source": [
    "plt.plot(epochs[0:300], iou[0:300], 'g', label= 'Training IoU')\n",
    "plt.plot(epochs[0:300], val_iou[0:300], 'b', label= 'Validation IoU')\n",
    "\n",
    "plt.plot([initial_epochs-1,initial_epochs-1], plt.ylim(), 'r', label='Start Fine Tuning')\n",
    "\n",
    "#plt.title('Train & Val accuracy & IoU')\n",
    "plt.title('Training & Validation IoU')\n",
    "plt.xlabel('Epochs')\n",
    "plt.ylabel('IoU')\n",
    "plt.legend()\n",
    "\n",
    "if not os.path.isdir(f'../results/final_runs/{model_name}'):\n",
    "    os.makedirs(f'../results/final_runs/{model_name}')\n",
    "plt.savefig(f'../results/final_runs/{model_name}/iou_{model_name}.png', bbox_inches='tight')\n",
    "\n",
    "plt.show()"
   ]
  },
  {
   "cell_type": "code",
   "execution_count": 29,
   "metadata": {},
   "outputs": [
    {
     "data": {
      "image/png": "[encoded data removed]",
      "text/plain": [
       "<Figure size 640x480 with 1 Axes>"
      ]
     },
     "metadata": {},
     "output_type": "display_data"
    }
   ],
   "source": [
    "true_positives = model_history.history['true_positives']\n",
    "val_true_positives = model_history.history['val_true_positives']\n",
    "false_positives = model_history.history['false_positives']\n",
    "val_false_positives = model_history.history['val_false_positives']\n",
    "\n",
    "epochs = range(1, len(acc)+1)\n",
    "\n",
    "plt.plot(epochs, true_positives, 'y', label= 'true positives')\n",
    "plt.plot(epochs, val_true_positives, 'r', label= 'val_true_positives')\n",
    "plt.plot(epochs, false_positives, 'g', label= 'false_positives')\n",
    "plt.plot(epochs, val_false_positives, 'b', label= 'val_false_positives')\n",
    "plt.title('Train & Val True/ False positives')\n",
    "plt.xlabel('Epochs')\n",
    "plt.ylabel('Accuracy')\n",
    "plt.legend()\n",
    "\n",
    "if not os.path.isdir(f'../results/{model_name}'):\n",
    "    os.makedirs(f'../results/{model_name}')\n",
    "plt.savefig(f'../results/{model_name}/true_false_positives_{model_name}.png', bbox_inches='tight')\n",
    "\n",
    "plt.show()"
   ]
  },
  {
   "cell_type": "code",
   "execution_count": 30,
   "metadata": {},
   "outputs": [
    {
     "name": "stdout",
     "output_type": "stream",
     "text": [
      "99/99 [==============================] - 19s 171ms/step\n"
     ]
    }
   ],
   "source": [
    "prediction = unet.predict(test_data_generator)\n",
    "\n",
    "out = (prediction > 0.5).astype(np.uint8)\n",
    "\n",
    "rows = 24\n",
    "columns = 3\n",
    "\n",
    "\n",
    "for out_no in range(0, 30, 3):\n",
    "    fig, axs = plt.subplots(rows, columns, figsize=(12, 45))\n",
    "\n",
    "    for i in range(rows):\n",
    "        axs[i, 0].imshow(out[i + (batch_size * out_no)])\n",
    "        axs[i, 0].set_title('Prediction')\n",
    "\n",
    "        axs[i, 1].imshow(test_data_generator[(i // batch_size) + out_no][1][i % batch_size])\n",
    "        axs[i, 1].set_title('Truth')\n",
    "\n",
    "        axs[i, 2].imshow(reverse_scaling(test_data_generator[(i // batch_size) + out_no][0][i % batch_size])[:,:,:3])\n",
    "        axs[i, 2].set_title('Input')\n",
    "\n",
    "    #plt.show()\n",
    "    if not os.path.isdir(f'../predictions/{model_name}'):\n",
    "        os.makedirs(f'../predictions/{model_name}')\n",
    "\n",
    "    plt.savefig(f'../predictions/{model_name}/prediction_{model_name}_{out_no}.png', bbox_inches='tight')\n",
    "    plt.close(fig)"
   ]
  },
  {
   "cell_type": "code",
   "execution_count": 27,
   "metadata": {},
   "outputs": [
    {
     "data": {
      "text/plain": [
       "\"\\nwith open(f'../saved_history/{model_name}_e{str(epochs)}.log') as f:\\n    for row in f:\\n        print(row)\\n\""
      ]
     },
     "execution_count": 27,
     "metadata": {},
     "output_type": "execute_result"
    }
   ],
   "source": [
    "#import json\n",
    "#model_history = json.loads(f'../saved_history/{model_name}_e{str(epochs)}.log')\n",
    "\"\"\"\n",
    "with open(f'../saved_history/{model_name}_e{str(epochs)}.log') as f:\n",
    "    for row in f:\n",
    "        print(row)\n",
    "\"\"\"\n",
    "#model_history"
   ]
  }
 ],
 "metadata": {
  "kernelspec": {
   "display_name": "tf",
   "language": "python",
   "name": "python3"
  },
  "language_info": {
   "codemirror_mode": {
    "name": "ipython",
    "version": 3
   },
   "file_extension": ".py",
   "mimetype": "text/x-python",
   "name": "python",
   "nbconvert_exporter": "python",
   "pygments_lexer": "ipython3",
   "version": "3.9.16"
  },
  "orig_nbformat": 4
 },
 "nbformat": 4,
 "nbformat_minor": 2
}
